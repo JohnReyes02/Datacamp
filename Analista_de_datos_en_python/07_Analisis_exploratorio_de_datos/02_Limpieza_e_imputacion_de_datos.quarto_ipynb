{
  "cells": [
    {
      "cell_type": "markdown",
      "metadata": {},
      "source": [
        "# Limpieza e imputación de datos\n",
        "\n",
        "Explorar y analizar datos a menudo significa tratar con valores perdidos, tipos de datos incorrectos y valores atípicos. En este capítulo, aprenderás técnicas para gestionar estos problemas y agilizar tus procesos en EDA.\n",
        "\n",
        "## Tratar los datos que faltan\n",
        "\n",
        "-   Por qué un dato faltante es un problema?\n",
        "\n",
        "    -   Afectan las distribuciones\n",
        "    -   Los datos de la población son menos repreesntativos\n",
        "    -   Puede resultar en conclusiones incorrectas\n",
        "\n",
        "-   Ejemplo datos de profesionales de datos\n",
        "\n",
        "| Column | Description | Data type |\n",
        "|--------------------|---------------------------------|-------------------|\n",
        "| `Working_Year` | Year the data was obtained | Float |\n",
        "| `Designation` | Job title | String |\n",
        "| `Experience` | Experience level e.g., `\"Mid\"`, `\"Senior\"` | String |\n",
        "| `Employment_Satus` | Type of employment contract e.g., `\"FT\"`, `\"PT\"` | String |\n",
        "| `Employee_Location` | Country of employment | String |\n",
        "| `Company_Size` | Labels for company size e.g., `\"S\"`, `\"M\"`, `\"L\"` | String |\n",
        "| `Remote_Working_Ratio` | Porcentage of time working remotely | Integer |\n",
        "| `Salary_USD` | Salary in US dollars | Float |\n",
        "\n",
        "-   Revisando los datos faltantes\n"
      ],
      "id": "b0c80927"
    },
    {
      "cell_type": "code",
      "metadata": {},
      "source": [
        "#| echo: true\n",
        "#| eval: false\n",
        "print(salaries.isna().sum())"
      ],
      "id": "4c001714",
      "execution_count": null,
      "outputs": []
    },
    {
      "cell_type": "markdown",
      "metadata": {},
      "source": [
        "![](images/paste-22.png)\n",
        "\n",
        "-   Estrategias para el manejo de datos faltantes\n",
        "\n",
        "    -   Eliminar los datos faltantes\n",
        "\n",
        "        -   5 % o menos del total de valores\n",
        "\n",
        "    -   Imputar la media, mediana o la moda\n",
        "\n",
        "        -   Depende de la distribución y contexto\n",
        "\n",
        "    -   Imputar por sub-grupos\n",
        "\n",
        "        -   Diferentes niveles de experiencia tienen diferente mediana en el salario\n",
        "\n",
        "-   Eliminando valores faltantes\n"
      ],
      "id": "888ea447"
    },
    {
      "cell_type": "code",
      "metadata": {},
      "source": [
        "#| echo: true\n",
        "#| eval: false\n",
        "threshold = len(salaries) * 0.05\n",
        "print(threhold)"
      ],
      "id": "9a1350df",
      "execution_count": null,
      "outputs": []
    },
    {
      "cell_type": "markdown",
      "metadata": {},
      "source": [
        "![](images/paste-23.png)\n"
      ],
      "id": "09a7204a"
    },
    {
      "cell_type": "code",
      "metadata": {},
      "source": [
        "# | echo: true\n",
        "# | eval: false\n",
        "cols_to_drop = salaries.columns[salaries.isna().sum() <= threshold]\n",
        "print(cols_to_drop)"
      ],
      "id": "cd04114c",
      "execution_count": null,
      "outputs": []
    },
    {
      "cell_type": "markdown",
      "metadata": {},
      "source": [
        "![](images/paste-24.png)\n"
      ],
      "id": "90ce0f26"
    },
    {
      "cell_type": "code",
      "metadata": {},
      "source": [
        "#| echo: true\n",
        "#| eval: false\n",
        "salaries.dropna(subset=cols_to_drop, inplace=True) # Para actualizar el DataFrame"
      ],
      "id": "586c4f8c",
      "execution_count": null,
      "outputs": []
    },
    {
      "cell_type": "markdown",
      "metadata": {},
      "source": [
        "-   Imputando una estadística de resumen\n"
      ],
      "id": "9697872e"
    },
    {
      "cell_type": "code",
      "metadata": {},
      "source": [
        "#| echo: true\n",
        "#| eval: false\n",
        "cols_with_missing_values = salaries.columns[salaries.isna().sum() > 0]\n",
        "print(cols_with_missing_values)"
      ],
      "id": "da25c5d7",
      "execution_count": null,
      "outputs": []
    },
    {
      "cell_type": "markdown",
      "metadata": {},
      "source": [
        "![](images/paste-25.png)\n"
      ],
      "id": "c302f18f"
    },
    {
      "cell_type": "code",
      "metadata": {},
      "source": [
        "#| echo: true\n",
        "#| eval: false\n",
        "    for col in cols_with_missing_values[:-1]:\n",
        "        salaries[col].fillna(salaries[col].mode()[0])"
      ],
      "id": "a6a346e8",
      "execution_count": null,
      "outputs": []
    },
    {
      "cell_type": "markdown",
      "metadata": {},
      "source": [
        "-   Revisando los valores faltantes que faltan\n"
      ],
      "id": "65c441ad"
    },
    {
      "cell_type": "code",
      "metadata": {},
      "source": [
        "#| echo: true\n",
        "#| eval: false\n",
        "print(salaries.isna().sum())"
      ],
      "id": "9ab6a965",
      "execution_count": null,
      "outputs": []
    },
    {
      "cell_type": "markdown",
      "metadata": {},
      "source": [
        "![](images/paste-26.png)\n",
        "\n",
        "-   Imputando por subgrupo\n"
      ],
      "id": "4b4ea01c"
    },
    {
      "cell_type": "code",
      "metadata": {},
      "source": [
        "#| echo: true\n",
        "#| eval: false\n",
        "salaries_dict = salaries.groupby('Experience')['Salary_USD'].median().to_dict()\n",
        "print(salaries_dict)"
      ],
      "id": "9571f714",
      "execution_count": null,
      "outputs": []
    },
    {
      "cell_type": "markdown",
      "metadata": {},
      "source": [
        "![](images/paste-27.png)\n"
      ],
      "id": "63bcfd18"
    },
    {
      "cell_type": "code",
      "metadata": {},
      "source": [
        "#| echo: true\n",
        "#| eval: false\n",
        "salaries['Salary_USD'] = salaries['Salary_USD'].fillna(salaries['Experience'].map(salaries_dict))"
      ],
      "id": "0fe44510",
      "execution_count": null,
      "outputs": []
    },
    {
      "cell_type": "markdown",
      "metadata": {},
      "source": [
        "![](images/paste-28.png)\n",
        "\n",
        "### Tratar los datos que faltan\n",
        "\n",
        "Es importante tratar los datos que faltan antes de empezar el análisis.\n",
        "\n",
        "Un enfoque consiste en descartar los valores que faltan si representan una pequeña proporción, normalmente el 5 %, de los datos.\n",
        "\n",
        "Trabajando con un conjunto de datos sobre precios de tiquetes de avión, almacenado como un DataFrame de pandas llamado `planes`, tendrás que contar el número de valores perdidos en todas las columnas, calcular el cinco porciento de todos los valores, utilizar este umbral para eliminar observaciones y comprobar cuántos valores perdidos quedan en el conjunto de datos.\n"
      ],
      "id": "9b29a0a8"
    },
    {
      "cell_type": "code",
      "metadata": {},
      "source": [
        "import pandas as pd\n",
        "\n",
        "ruta = './data/planes.csv'\n",
        "planes = pd.read_csv(ruta)\n",
        "print(planes.head)"
      ],
      "id": "1fc1fa29",
      "execution_count": null,
      "outputs": []
    },
    {
      "cell_type": "markdown",
      "metadata": {},
      "source": [
        "#### Instrucciones\n",
        "\n",
        "1.  Imprime el número de valores perdidos en cada columna del DataFrame\n"
      ],
      "id": "3acbdbb9"
    },
    {
      "cell_type": "code",
      "metadata": {},
      "source": [
        "# Count the number of missing values in each column\n",
        "print(planes.isna().sum())"
      ],
      "id": "b5d2b52a",
      "execution_count": null,
      "outputs": []
    },
    {
      "cell_type": "markdown",
      "metadata": {},
      "source": [
        "2.  Calcula a cuántas observaciones equivale el cinco porciento del DataFrame `planes`\n"
      ],
      "id": "9b67196f"
    },
    {
      "cell_type": "code",
      "metadata": {},
      "source": [
        "# Find the five percent threshold\n",
        "threshold = len(planes) * 0.05\n",
        "print(threshold)"
      ],
      "id": "93556ffb",
      "execution_count": null,
      "outputs": []
    },
    {
      "cell_type": "markdown",
      "metadata": {},
      "source": [
        "3.  \n",
        "\n",
        "-   Crea `cols_to_drop` aplicando una indexación booleana a las columnas del DataFrame con valores perdidos menores o iguales que el umbral.\n",
        "\n",
        "-   Utiliza este filtro para eliminar los valores que faltan y guardar el DataFrame actualizado.\n"
      ],
      "id": "bc0f346e"
    },
    {
      "cell_type": "code",
      "metadata": {},
      "source": [
        "# Create a filter\n",
        "cols_to_drop = planes.columns[planes.isna().sum() <= threshold]\n",
        "print(cols_to_drop)\n",
        "\n",
        "# Drop missing values for columns below the threshold\n",
        "planes.dropna(subset=cols_to_drop, inplace=True)\n",
        "\n",
        "print(planes.isna().sum())"
      ],
      "id": "4fcfdfd7",
      "execution_count": null,
      "outputs": []
    },
    {
      "cell_type": "markdown",
      "metadata": {},
      "source": [
        "Al crear un umbral de valores faltantes y usarlo para filtrar columnas, haz logrado eliminar los valores faltantes de todas las columnas excepto `\"Additinal_Info\"` y `\"Price\"`.\n",
        "\n",
        "### Estrategias para datos que faltan\n",
        "\n",
        "La regla del cinco porciento ha funcionado muy bien en tu conjunto de dato `planes`, ¡eliminando los valores perdidos de nueve de las 11 columnas!\n",
        "\n",
        "Ahora tienes que decidir qué hacer con las columnas `\"Additional_Info\"` y `\"Price\"`, a las que les faltan los valores `300` y `368` respectivamente.\n",
        "\n",
        "Primero echarás un vistazo a lo que contiene `\"Additional_Info\"`, y después visualizarás el precio de los billetes de avión de distintas compañías aéreas.\n"
      ],
      "id": "b0880111"
    },
    {
      "cell_type": "code",
      "metadata": {},
      "source": [
        "import matplotlib.pyplot as plt\n",
        "import seaborn as sns"
      ],
      "id": "232c6c8f",
      "execution_count": null,
      "outputs": []
    },
    {
      "cell_type": "markdown",
      "metadata": {},
      "source": [
        "#### Instrucciones\n",
        "\n",
        "1.  Imprime los valores y frecuencias de `\"Additional_Info\"`.\n"
      ],
      "id": "d979eb2d"
    },
    {
      "cell_type": "code",
      "metadata": {},
      "source": [
        "# Check the values of the Additional_Info column\n",
        "print(planes['Additional_Info'].value_counts())"
      ],
      "id": "2f171621",
      "execution_count": null,
      "outputs": []
    },
    {
      "cell_type": "markdown",
      "metadata": {},
      "source": [
        "2.  Crea un boxplot de `\"Price\"` frente a `\"Airline\"`\n"
      ],
      "id": "5a333f05"
    },
    {
      "cell_type": "code",
      "metadata": {},
      "source": [
        "# Create a box plot of Price by Airline\n",
        "sns.boxplot(data=planes, x='Airline', y='Price',\n",
        "            hue='Airline', legend=False)\n",
        "\n",
        "plt.show()"
      ],
      "id": "24d72c7e",
      "execution_count": null,
      "outputs": []
    },
    {
      "cell_type": "markdown",
      "metadata": {},
      "source": [
        "3.  **Pregunta**\n",
        "\n",
        "-   ¿Cómo debes tratar los valores que faltan en `\"Additional_Info\"` y `\"Price\"`.?\n",
        "\n",
        "**Respuestas Posibles**\n",
        "\n",
        "-   [ ] Elimina la columna `\"Additional_Info\"` e imputa la media para los valores que faltan de `\"Price\"`.\n",
        "-   [ ] Elimina los valores de `\"No info\"` de `\"Additiona_Info\"` e imputa la mediana de los valores que faltan de `\"Price\"`.\n",
        "-   [ ] Elimina la columna `\"Additional_Info\"` e imputa la media por `\"Airline\"` para los valores que falten de `\"Price\"`.\n",
        "-   [x] Elimina la columna `\"Additional_Info\"` e imputa la mediana por `\"Airline\"` para los valores que falten de `\"Price\"`.\n",
        "\n",
        "No necesitamos la columna `\"Additional_Info\"`, y deberías imputar la mediana de `\"Price\"` por `\"Airline\"` para representar los datos con precisión.\n",
        "\n",
        "### Imputar los precios de los aviones que faltan\n",
        "\n",
        "!Ahora solo queda una columna con valores perdidos!\n",
        "\n",
        "Has eliminado la columna `\"Additional_Info\"` de `planes`, el último paso es imputar los datos que faltan en la columna `\"Price\"` del conjunto de datos.\n",
        "\n",
        "Como recordatorio, tú generaste este diagrama de caja, que sugería que imputar el precio medio basándose en el `\"Airline\"` ¡es un enfoque sólido!\n"
      ],
      "id": "e230f91c"
    },
    {
      "cell_type": "code",
      "metadata": {},
      "source": [
        "# Eliminamos la columna Additional_Info\n",
        "planes = planes.drop('Additional_Info', axis=1)\n",
        "planes.columns"
      ],
      "id": "fc05938b",
      "execution_count": null,
      "outputs": []
    },
    {
      "cell_type": "markdown",
      "metadata": {},
      "source": [
        "#### Instrucciones\n",
        "\n",
        "1.  Agrupa `planes` por aerolínea y calcula el precio medio.\n"
      ],
      "id": "2c94d30d"
    },
    {
      "cell_type": "code",
      "metadata": {},
      "source": [
        "# Calculate median plane ticket prices by Airplane\n",
        "airline_prices = planes.groupby('Airline')['Price'].median()\n",
        "\n",
        "print(airline_prices)"
      ],
      "id": "6b2f235c",
      "execution_count": null,
      "outputs": []
    },
    {
      "cell_type": "markdown",
      "metadata": {},
      "source": [
        "2.  Convierte los precios medios agrupados en un diccionario.\n"
      ],
      "id": "f19860d8"
    },
    {
      "cell_type": "code",
      "metadata": {},
      "source": [
        "# Convert to a dictionary\n",
        "prices_dict = airline_prices.to_dict()\n",
        "print(prices_dict)"
      ],
      "id": "d88a6696",
      "execution_count": null,
      "outputs": []
    },
    {
      "cell_type": "markdown",
      "metadata": {},
      "source": [
        "3.  \n",
        "\n",
        "-   Imputa condicionalmente los valores perdidos de `\"Price\"` asignando los valores de la columna `\"Airline\"` en función de `prices_dict`\n",
        "\n",
        "-   Comprueba si faltan valores\n"
      ],
      "id": "f308aa73"
    },
    {
      "cell_type": "code",
      "metadata": {},
      "source": [
        "# Map the dictionary to missing values of Price by Airline\n",
        "planes['Price'] = planes['Price'].fillna(planes['Airline'].map(prices_dict))\n",
        "\n",
        "# Check for missing values\n",
        "print(planes.isna().sum())"
      ],
      "id": "d77ff38c",
      "execution_count": null,
      "outputs": []
    },
    {
      "cell_type": "markdown",
      "metadata": {},
      "source": [
        "Convertiste un DataFrame agrupado a un diccionario y luego lo usaste para llenar condicionalmente los valores faltantes de `\"Price\"` basándote en `\"Airline\"`. Ahora vamos a explorar cómo realizar análisis exploratorio en datos categóricos.\n",
        "\n",
        "## Convertir y analizar datos categóricos\n",
        "\n",
        "-   Previsualizar los datos\n"
      ],
      "id": "78e78be3"
    },
    {
      "cell_type": "code",
      "metadata": {},
      "source": [
        "#| echo: true\n",
        "#| eval: false\n",
        "print(salaries.select_dtypes('object').head())"
      ],
      "id": "93edeb09",
      "execution_count": null,
      "outputs": []
    },
    {
      "cell_type": "markdown",
      "metadata": {},
      "source": [
        "![](images/paste-29.png)\n",
        "\n",
        "-   Títulos de los trabajos\n"
      ],
      "id": "ef0ee962"
    },
    {
      "cell_type": "code",
      "metadata": {},
      "source": [
        "#| echo: true\n",
        "#| eval: false\n",
        "print(salaries['Designation'].value_counts())"
      ],
      "id": "80fee6c1",
      "execution_count": null,
      "outputs": []
    },
    {
      "cell_type": "markdown",
      "metadata": {},
      "source": [
        "![](images/paste-30.png)\n"
      ],
      "id": "d7c65f21"
    },
    {
      "cell_type": "code",
      "metadata": {},
      "source": [
        "# | echo: true\n",
        "# | eval: false\n",
        "print(salaries['Designation'].nunique())"
      ],
      "id": "677efd4c",
      "execution_count": null,
      "outputs": []
    },
    {
      "cell_type": "markdown",
      "metadata": {},
      "source": [
        "![](images/paste-31.png)\n",
        "\n",
        "![](images/paste-32.png)\n",
        "\n",
        "-   Extrayendo valores desde las categorías\n",
        "\n",
        "    -   El formato actual de los datos limita la capacidad de generar información.\n",
        "\n",
        "    -   `pandas.Series.str.contains()`\n",
        "\n",
        "        -   Busca en una columna una cadena especifica o múltiples cadenas.\n"
      ],
      "id": "b07b822a"
    },
    {
      "cell_type": "code",
      "metadata": {},
      "source": [
        "#| echo: true\n",
        "#| eval: false\n",
        "salaries['Designation'].str.contains('Scientist')"
      ],
      "id": "ae472adb",
      "execution_count": null,
      "outputs": []
    },
    {
      "cell_type": "markdown",
      "metadata": {},
      "source": [
        "![](images/paste-33.png)\n",
        "\n",
        "-   Filtrar filas que contienen una o más frases\n",
        "\n",
        "    -   Palabras de interes: Machine Learning o AI\n"
      ],
      "id": "d5666832"
    },
    {
      "cell_type": "code",
      "metadata": {},
      "source": [
        "#| echo: true\n",
        "#| eval: false\n",
        "salaries['Designation'].str.contains('Machine Learning|AI')"
      ],
      "id": "566df68e",
      "execution_count": null,
      "outputs": []
    },
    {
      "cell_type": "markdown",
      "metadata": {},
      "source": [
        "![](images/paste-34.png)\n",
        "\n",
        "-   Buscar múltiples frases en una cadena de caracteres\n",
        "\n",
        "    -   Palabras de interes: Cualquiera que inicie con Data\n"
      ],
      "id": "6964734e"
    },
    {
      "cell_type": "code",
      "metadata": {},
      "source": [
        "# | echo: true\n",
        "# | eval: false\n",
        "salaries['Designation'].str.contains('ˆData')"
      ],
      "id": "ff74c9b1",
      "execution_count": null,
      "outputs": []
    },
    {
      "cell_type": "markdown",
      "metadata": {},
      "source": [
        "![](images/paste-35.png)\n",
        "\n",
        "Ahora que se tiene una idea de cómo funciona este método, definamos una lista de títulos de trabajo que queremos encontrar:\n"
      ],
      "id": "8cc6401d"
    },
    {
      "cell_type": "code",
      "metadata": {},
      "source": [
        "#| echo: true\n",
        "#| eval: false\n",
        "job_categories = ['Data Science', 'Data Analytics',\n",
        "                   'Data Engineering', 'Machine Learning',\n",
        "                   'Managerial', 'Consultant']"
      ],
      "id": "b798fd63",
      "execution_count": null,
      "outputs": []
    },
    {
      "cell_type": "markdown",
      "metadata": {},
      "source": [
        "Luego necesitamos crear variables que contengan nuestros filtros\n"
      ],
      "id": "f7874f18"
    },
    {
      "cell_type": "code",
      "metadata": {},
      "source": [
        "#| echo: true\n",
        "#| eval: false\n",
        "data_science = 'Data Scientist|NLP'\n",
        "data_analyst = 'Analyst|Analytics'\n",
        "data_engineer = 'Data Engineer|ETL|Architect|Infrastructure'\n",
        "ml_engineer = 'Machine Learning|ML|Bid Data|AI'\n",
        "manager = 'Manager|Head|Director|Lead|Principal|Staff'\n",
        "consultant = 'Consultant|Freelance'"
      ],
      "id": "7db4d3ad",
      "execution_count": null,
      "outputs": []
    },
    {
      "cell_type": "markdown",
      "metadata": {},
      "source": [
        "El siguiente paso es crear una lista con nuestro rango de condiciones para el método `str.contains`\n"
      ],
      "id": "a11a26b4"
    },
    {
      "cell_type": "code",
      "metadata": {},
      "source": [
        "#| echo: true\n",
        "#| eval: false\n",
        "conditions = [\n",
        "    (salaries['Designation'].str.contains(data_science)),\n",
        "    (salaries['Designation'].str.contains(data_analyst)),\n",
        "    (salaries['Designation'].str.contains(data_engineer)),\n",
        "    (salaries['Designation'].str.contains(ml_engineer)),\n",
        "    (salaries['Designation'].str.contains(manager)),\n",
        "    (salaries['Designation'].str.contains(consultant))\n",
        "]"
      ],
      "id": "1dea1d03",
      "execution_count": null,
      "outputs": []
    },
    {
      "cell_type": "markdown",
      "metadata": {},
      "source": [
        "Finalmente, podemos crear nuestra nueva columna `Job_Category` usando la función de selección de Numpy\n"
      ],
      "id": "97fbb559"
    },
    {
      "cell_type": "code",
      "metadata": {},
      "source": [
        "#| echo: true\n",
        "#| eval: false\n",
        "salaries['Job_Category'] = np.select(conditions,\n",
        "                                     job_categories,\n",
        "                                     default='Other')"
      ],
      "id": "7c56e73c",
      "execution_count": null,
      "outputs": []
    },
    {
      "cell_type": "markdown",
      "metadata": {},
      "source": [
        "Al obtener una vista previa de la Designación y nuestra nueva columna Job_Category, podemos verificar los primeros cinco valores.\n"
      ],
      "id": "134b1327"
    },
    {
      "cell_type": "code",
      "metadata": {},
      "source": [
        "#| echo: true\n",
        "#| eval: false\n",
        "print(salaries[['Designation', 'Job_Category']].head())"
      ],
      "id": "73d9b5c2",
      "execution_count": null,
      "outputs": []
    },
    {
      "cell_type": "markdown",
      "metadata": {},
      "source": [
        "![](images/paste-36.png)\n",
        "\n",
        "-   Visualización de la frecuencia de la categoría job\n"
      ],
      "id": "638c08a9"
    },
    {
      "cell_type": "code",
      "metadata": {},
      "source": [
        "#| echo: true\n",
        "#| eval: false\n",
        "sns.countplot(data=salaries, x='Job_Category')\n",
        "plt.show()"
      ],
      "id": "e0e445c9",
      "execution_count": null,
      "outputs": []
    },
    {
      "cell_type": "markdown",
      "metadata": {},
      "source": [
        "![](images/paste-37.png)\n",
        "\n",
        "### Encontrar el número de valores únicos\n",
        "\n",
        "Te gustaría practicar algunas de las habilidades de manipulación y análisis de datos categóricos que acabas de ver. Para ayudarte a identificar qué datos podrían reformatearse para extraer valor, vas a averiguar qué columnas no numéricas del conjunto de datos `planes` tienen un gran número de valores únicos.\n",
        "\n",
        "#### Instrucciones\n",
        "\n",
        "-   Filtra `planes` para las columnas que sean del tipo datos `\"object\"`.\n",
        "\n",
        "-   Recorre las columnas del conjunto de datos.\n",
        "\n",
        "-   Añade el iterador de columna a la sentencia print y, a continucación, llama a la función para que devuelva el número de valores únicos de la columna.\n"
      ],
      "id": "ad741007"
    },
    {
      "cell_type": "code",
      "metadata": {},
      "source": [
        "# Filter the DataFrame for objects columns\n",
        "non_numeric = planes.select_dtypes('object')\n",
        "\n",
        "# Loop through columns\n",
        "for column in non_numeric.columns:\n",
        "    # Print the number of unique values\n",
        "    print(f\"Number of unique values in {column} column: {non_numeric[column].nunique()}\")"
      ],
      "id": "f0cead3a",
      "execution_count": null,
      "outputs": []
    },
    {
      "cell_type": "markdown",
      "metadata": {},
      "source": [
        "Curiosamente, `\"Duration\"` es actualmente una columna de tipo objeto cuando debería ser una columna numérica, ¡y tiene 362 valores únicos! Vamos a averiguar más sobre esta columna.\n",
        "\n",
        "### Categoría de duración de vuelos\n",
        "\n",
        "Como has visto, hay 362 valores únicos en la columna `\"Duration\"` de `planes`. Llamando a `planes['Duration'].head()`, vemos los siguientes valores.\n"
      ],
      "id": "dfaadd32"
    },
    {
      "cell_type": "code",
      "metadata": {},
      "source": [
        "#| echo: false\n",
        "planes['Duration'].head()"
      ],
      "id": "323ef771",
      "execution_count": null,
      "outputs": []
    },
    {
      "cell_type": "markdown",
      "metadata": {},
      "source": [
        "Parece que no será sencillo convertirlo a números. Sin embargo, ¡podrías clasificar los vuelos por duración y examinar la frecuencia de las distintas longitudes de vuelo!\n",
        "\n",
        "Crearás una columna `\"Duration_Category\"` en el DataFrame `planes`. Antes tendrás que crear una lista de valores que deseas insertar en el DataFrame, seguida de los valores existentes a partir de los cuales deben crearse.\n",
        "\n",
        "#### Instrucciones\n",
        "\n",
        "1.  Crea una lista de categorías que contengan `\"Short-haul\"`, `\"Medium\"` y `\"Long-haul\"`.\n"
      ],
      "id": "85e3fcb7"
    },
    {
      "cell_type": "code",
      "metadata": {},
      "source": [
        "# Create a list of categories\n",
        "flight_categories = ['Short-haul', 'Medium', 'Long-haul']"
      ],
      "id": "362389bb",
      "execution_count": null,
      "outputs": []
    },
    {
      "cell_type": "markdown",
      "metadata": {},
      "source": [
        "2.  \n",
        "\n",
        "-   Crea `short_flights`, una cadena para capturar valores de `\"0h\"`, `\"1h\"`, `\"2h\"`, `\"3h\"`, `\"4h\"` teniendo cuidado de evitar valores como `\"10h\"`.\n",
        "\n",
        "-   Crea `medium_flights` para capturar cualquier valor entre cinco y nueve horas. \\~\n",
        "\n",
        "-   Crea `long_flights` para capturar cualquier valor comprendido entre 10 y 16 horas, ambos inclusive.\n"
      ],
      "id": "f95ca4e4"
    },
    {
      "cell_type": "code",
      "metadata": {},
      "source": [
        "# Create a list of categories\n",
        "flight_categories = ['Short-haul', 'Medium', 'Long-haul']\n",
        "\n",
        "# Create short-haul values\n",
        "short_flights = '^0h|^1h|^2h|^3h|^4h'\n",
        "\n",
        "# Create medium-haul values\n",
        "medium_flights = '^5h|^6h|^7h|^8h|^9h'\n",
        "\n",
        "# Create long-haul values\n",
        "long_flights = '^10h|^11h|^12h|^13h|^14h|^15h|^16h'"
      ],
      "id": "5510cdda",
      "execution_count": null,
      "outputs": []
    },
    {
      "cell_type": "markdown",
      "metadata": {},
      "source": [
        "Ahora has creado tus categorías y valores, es hora de agregar condicionalmente las categorías en el DataFrame\n",
        "\n",
        "### Añadir categorías de duración\n",
        "\n",
        "Ahora que has configurado las categorías y los valores que quieres capturar, ¡es hora de construir una nueva columna para analizar la frecuencia de los vuelos según su duración!\n",
        "\n",
        "Las variables`flight_categories`, `short_flights`, `medium_flights` y `long_flights` que creaste anteriormente están a tu disposición.\n"
      ],
      "id": "5a843c13"
    },
    {
      "cell_type": "code",
      "metadata": {},
      "source": [
        "import numpy as np"
      ],
      "id": "eb696c1c",
      "execution_count": null,
      "outputs": []
    },
    {
      "cell_type": "markdown",
      "metadata": {},
      "source": [
        "#### Instrucciones\n",
        "\n",
        "-   Crea `conditions`, una lista que contenga subconjuntos de `planes['Duration']` basados en `short_flights`, `medium_flights` y `long_flights`.\n",
        "\n",
        "-   Crea la columna `\"Duration_Category\"` llamando a una función que acepte tu lista `conditions` y `flight_categories`, estableciendo los valores no encontrados en `\"Extreme duration\"`.\n",
        "\n",
        "-   Crea un gráfico fque muestre el recuento de cada categoría.\n"
      ],
      "id": "76da5ab7"
    },
    {
      "cell_type": "code",
      "metadata": {},
      "source": [
        "# Create conditions for values in flight_categories to be created\n",
        "conditions = [\n",
        "    (planes['Duration'].str.contains(short_flights)),\n",
        "    (planes['Duration'].str.contains(medium_flights)),\n",
        "    (planes['Duration'].str.contains(long_flights))\n",
        "]\n",
        "\n",
        "# Apply the conditions list to the flight_categories\n",
        "planes['Duration_Category'] = np.select(conditions, flight_categories,\n",
        "                                        default='Extreme duration')\n",
        "\n",
        "# Plot the counts of each categoryß\n",
        "sns.countplot(data=planes, x='Duration_Category',\n",
        "              hue='Duration_Category', legend=False)\n",
        "plt.show()"
      ],
      "id": "84e37c98",
      "execution_count": null,
      "outputs": []
    },
    {
      "cell_type": "markdown",
      "metadata": {},
      "source": [
        "¡Está claro que la mayoría de los vuelos son de corta distancia.\n",
        "\n",
        "## Trabajar con datos numéricos\n",
        "\n",
        "-   El dataset origina de los salarios\n"
      ],
      "id": "88209d34"
    },
    {
      "cell_type": "code",
      "metadata": {},
      "source": [
        "#| echo: true\n",
        "#| eval: false\n",
        "print(salaries.info())"
      ],
      "id": "9adfaa49",
      "execution_count": null,
      "outputs": []
    },
    {
      "cell_type": "markdown",
      "metadata": {},
      "source": [
        "![](images/paste-38.png)\n",
        "\n",
        "-   Salario en Rupias\n"
      ],
      "id": "8782d188"
    },
    {
      "cell_type": "code",
      "metadata": {},
      "source": [
        "#| echo: true\n",
        "#| eval: false\n",
        "print(salaries['Salary_In_Rupees'].head())"
      ],
      "id": "ff505130",
      "execution_count": null,
      "outputs": []
    },
    {
      "cell_type": "markdown",
      "metadata": {},
      "source": [
        "![](images/paste-39.png)\n",
        "\n",
        "-   Convirtiendo cadena de caracteres en números\n",
        "\n",
        "    -   Remover las comas de los valores `Salary_In_Rupees`\n",
        "\n",
        "    -   Convertir la columna a tipo de dato `float`\n",
        "\n",
        "    -   Crear una nueva columna convirtiendo la moneda a dólares\n"
      ],
      "id": "543d9871"
    },
    {
      "cell_type": "code",
      "metadata": {},
      "source": [
        "#| echo: true\n",
        "#| eval: false\n",
        "pd.Series.str.replace('Caracter a remover', 'Caracter a reemplazar')"
      ],
      "id": "3df38da7",
      "execution_count": null,
      "outputs": []
    },
    {
      "cell_type": "code",
      "metadata": {},
      "source": [
        "#| echo: true\n",
        "#| eval: false\n",
        "salaries['Salary_In_Rupees'] = salaries['Salary_In_Rupees'].str.replace(',', '')\n",
        "print(salaries['Salary_In_Rupees'].head())"
      ],
      "id": "014afda1",
      "execution_count": null,
      "outputs": []
    },
    {
      "cell_type": "markdown",
      "metadata": {},
      "source": [
        "![](images/paste-40.png)\n"
      ],
      "id": "9eada385"
    },
    {
      "cell_type": "code",
      "metadata": {},
      "source": [
        "#| echo: true\n",
        "#| eval: false\n",
        "salaries['Salary_In_Rupees'] = salaries['Salary_In_Rupees'].astype(float) "
      ],
      "id": "1c62cebc",
      "execution_count": null,
      "outputs": []
    },
    {
      "cell_type": "markdown",
      "metadata": {},
      "source": [
        "1 Indian Rupee = 0.012 US Dollars\n"
      ],
      "id": "b6303505"
    },
    {
      "cell_type": "code",
      "metadata": {},
      "source": [
        "#| echo: true\n",
        "#| eval: false\n",
        "salaries['Salary_USD'] = salaries['Salary_In_Rupees'] * 0.012"
      ],
      "id": "a9d25638",
      "execution_count": null,
      "outputs": []
    },
    {
      "cell_type": "markdown",
      "metadata": {},
      "source": [
        "-   Previsualizando la nueva columna\n"
      ],
      "id": "7c001edc"
    },
    {
      "cell_type": "code",
      "metadata": {},
      "source": [
        "#| echo: true\n",
        "#| eval: false\n",
        "print(salaries[['Salary_In_Rupees', 'Salary_USD']].head())"
      ],
      "id": "b375ddc5",
      "execution_count": null,
      "outputs": []
    },
    {
      "cell_type": "markdown",
      "metadata": {},
      "source": [
        "![](images/paste-41.png)\n",
        "\n",
        "-   Añadiendo un resumen esrtadístico al DataFrame\n"
      ],
      "id": "03dee4d4"
    },
    {
      "cell_type": "code",
      "metadata": {},
      "source": [
        "#| echo: true\n",
        "#| eval: false\n",
        "salaries.groupby('Company_Size')['Salary_USD'].mean()"
      ],
      "id": "5bd796f6",
      "execution_count": null,
      "outputs": []
    },
    {
      "cell_type": "markdown",
      "metadata": {},
      "source": [
        "![](images/paste-42.png)\n",
        "\n",
        "Calculo de la desviación estándar de los salarios por experiencia:\n",
        "\n",
        "![](images/paste-43.png)\n"
      ],
      "id": "ce93be39"
    },
    {
      "cell_type": "code",
      "metadata": {},
      "source": [
        "#| echo: true\n",
        "#| eval: false\n",
        "salaries['std_dev'] = salaries.groupby('Experience') \\ \n",
        "                      ['Salary_USD'].transform(lambda x: x.std())"
      ],
      "id": "2f9cb891",
      "execution_count": null,
      "outputs": []
    },
    {
      "cell_type": "code",
      "metadata": {},
      "source": [
        "#| echo: true\n",
        "#| eval: false\n",
        "print(salaries[['Experience', 'std_dev']].value_counts())"
      ],
      "id": "787147e1",
      "execution_count": null,
      "outputs": []
    },
    {
      "cell_type": "markdown",
      "metadata": {},
      "source": [
        "![](images/paste-44.png)\n",
        "\n",
        "Repitamos el proceso para otros datos estadísticos:\n"
      ],
      "id": "29bd5b3a"
    },
    {
      "cell_type": "code",
      "metadata": {},
      "source": [
        "#| echo: true\n",
        "#| eval: false\n",
        "salaries['median_by_comp_size'] = salaries.groupby('Company_Size') \\\n",
        "                                  ['Salary_USD'].transform(lambda x: x.median())"
      ],
      "id": "4db86ab0",
      "execution_count": null,
      "outputs": []
    },
    {
      "cell_type": "code",
      "metadata": {},
      "source": [
        "#| echo: true\n",
        "#| eval: false\n",
        "print(salaries[['Company_Size', 'median_by_comp_size']].head())"
      ],
      "id": "40d33d6f",
      "execution_count": null,
      "outputs": []
    },
    {
      "cell_type": "markdown",
      "metadata": {},
      "source": [
        "![](images/paste-45.png)\n",
        "\n",
        "### Duración del vuelo\n",
        "\n",
        "Te gustaría analizar la duración de los vuelos, pero por desgracia, la columna `\"Duration\"` de DataFrame `planes` contiene actualmente valores de cadena.\n",
        "\n",
        "Tendrás que limpiar la columna y convertirla al tipo de datos correcto para el análisis.\n"
      ],
      "id": "1febc37f"
    },
    {
      "cell_type": "code",
      "metadata": {},
      "source": [
        "import re\n",
        "\n",
        "def duration_to_decimal_str(duration_str: str) -> str:\n",
        "    '''\n",
        "    Convierte una duración de vuelo de formato '2h 30m' a una cadena en formato decimal en horas, como '2.5h'.\n",
        "    \n",
        "    Parámetros:\n",
        "    -----------\n",
        "    duration_str : str\n",
        "        Cadena de texto que representa la duración de un vuelo, como '2h 30m', '45m', '19h', etc.\n",
        "\n",
        "    Retorna:\n",
        "    --------\n",
        "    str\n",
        "        Cadena con duración expresada en horas decimales, con un solo decimal y el sufijo 'h'. Ej: '2.5h'\n",
        "    '''\n",
        "    horas = re.search(r'(\\d+)\\s*h', duration_str)\n",
        "    minutos = re.search(r'(\\d+)\\s*m', duration_str)\n",
        "\n",
        "    h = int(horas.group(1)) if horas else 0\n",
        "    m = int(minutos.group(1)) if minutos else 0\n",
        "\n",
        "    decimal_hours = round(h + m / 60, 1)\n",
        "    return f'{decimal_hours}h'\n",
        "\n",
        "\n",
        "\n",
        "planes['Duration'] = planes['Duration'].apply(duration_to_decimal_str)"
      ],
      "id": "eb3920dc",
      "execution_count": null,
      "outputs": []
    },
    {
      "cell_type": "markdown",
      "metadata": {},
      "source": [
        "#### Instrucciones\n",
        "\n",
        "1.  Imprime los cinco primeros valores de la columna `\"Duration\"`.\n"
      ],
      "id": "8c00ba82"
    },
    {
      "cell_type": "code",
      "metadata": {},
      "source": [
        "# Preview the column\n",
        "print(planes['Duration'].head())"
      ],
      "id": "fd59e5c9",
      "execution_count": null,
      "outputs": []
    },
    {
      "cell_type": "markdown",
      "metadata": {},
      "source": [
        "2.  Retira `\"h\"` de la columna\n"
      ],
      "id": "03c3716e"
    },
    {
      "cell_type": "code",
      "metadata": {},
      "source": [
        "# Remove the string character\n",
        "planes['Duration'] = planes['Duration'].str.replace('h', '')\n",
        "print(planes['Duration'].head())"
      ],
      "id": "6a2d7442",
      "execution_count": null,
      "outputs": []
    },
    {
      "cell_type": "markdown",
      "metadata": {},
      "source": [
        "3.  Convierte la columna al tipo de datos `float`.\n"
      ],
      "id": "9e9f23bf"
    },
    {
      "cell_type": "code",
      "metadata": {},
      "source": [
        "# Convert to float data type\n",
        "planes['Duration'] = planes['Duration'].astype(float)\n",
        "print(planes['Duration'].head())"
      ],
      "id": "52eb5366",
      "execution_count": null,
      "outputs": []
    },
    {
      "cell_type": "markdown",
      "metadata": {},
      "source": [
        "4.  Traza un histograma de los valores de `\"Duration\"`\n"
      ],
      "id": "b03ea6fa"
    },
    {
      "cell_type": "code",
      "metadata": {},
      "source": [
        "# Plot a histogram\n",
        "sns.histplot(data=planes, x='Duration')\n",
        "plt.show()"
      ],
      "id": "b1b047a2",
      "execution_count": null,
      "outputs": []
    },
    {
      "cell_type": "markdown",
      "metadata": {},
      "source": [
        "### Añadir estadísticas descriptivas\n",
        "\n",
        "Ahora `\"Duration\"` y `\"Price\"`contienen valores numéricos en el DataFrame `planes`, y te gustaría calcular para ellos estadísticas de resumen condicionadas a los valores de otras columnas.\n",
        "\n",
        "#### Instrucciones\n",
        "\n",
        "1.  Añade una columna a `planes` que contenga la desviación estándar de `\"Price\"` basada en `\"Airline\"`.\n"
      ],
      "id": "8e958550"
    },
    {
      "cell_type": "code",
      "metadata": {},
      "source": [
        "# Price standard deviation by Airline\n",
        "planes['airline_price_st_dev'] = planes.groupby('Airline')['Price'].transform(lambda x: x.std())\n",
        "print(planes[['Airline', 'airline_price_st_dev']].value_counts())"
      ],
      "id": "800196b8",
      "execution_count": null,
      "outputs": []
    },
    {
      "cell_type": "markdown",
      "metadata": {},
      "source": [
        "2.  Calcula la mediana de `\"Duration\"` en `\"Airline\"`, almacenándola como una columna llamada `\"airline_median_duration\"`.\n"
      ],
      "id": "41de3190"
    },
    {
      "cell_type": "code",
      "metadata": {},
      "source": [
        "# Median Duration by Airline\n",
        "planes['airline_median_duration'] = planes.groupby('Airline')['Duration'].transform(lambda x: x.median())\n",
        "print(planes[['Airline', 'airline_median_duration']].value_counts())"
      ],
      "id": "a4d53fec",
      "execution_count": null,
      "outputs": []
    },
    {
      "cell_type": "markdown",
      "metadata": {},
      "source": [
        "3.  Encuenta la media `\"Price\"` por `\"Destination\"`, guardándola como una columna llamada `\"price_destination_mean\"`.\n"
      ],
      "id": "74b52022"
    },
    {
      "cell_type": "code",
      "metadata": {},
      "source": [
        "# Mean Price by Destination\n",
        "planes['price_destination_mean'] = planes.groupby('Destination')['Price'].transform(lambda x: x.mean())\n",
        "print(planes[['Destination', 'price_destination_mean']].value_counts())"
      ],
      "id": "1f71a5eb",
      "execution_count": null,
      "outputs": []
    },
    {
      "cell_type": "markdown",
      "metadata": {},
      "source": [
        "Parece que Jet Airways tiene la mayor desviación estándar en precio, Air India tiene la mayor duración median, y Nueva Delhi, en promedio, es el destiono más caro. Ahora veamos cómo manejar los datos atípicos.\n",
        "\n",
        "## Gestión de valores atípicos\n",
        "\n",
        "-   Qué es un outlier?\n",
        "    -   Es una observación que está muy alejada de otros puntos de datos.\n",
        "-   Usando estadística descriptiva\n"
      ],
      "id": "4b535962"
    },
    {
      "cell_type": "code",
      "metadata": {},
      "source": [
        "#| echo: true\n",
        "#| eval: false\n",
        "print(salaries['Salary_USD'].describe())"
      ],
      "id": "5e47d8a8",
      "execution_count": null,
      "outputs": []
    },
    {
      "cell_type": "markdown",
      "metadata": {},
      "source": [
        "![](images/paste-46.png)\n",
        "\n",
        "-   Usando el rango intercuartil\n",
        "\n",
        "    -   Rango intercuartil (IQR)\n",
        "\n",
        "        -   IQR = 75th - 25th percentil\n",
        "\n",
        "        -   Upper outliers \\> 75th percentile + (1.5 \\* IQR)\n",
        "\n",
        "        -   Lower Outliers \\< 25th percentile - (1.5 \\* IQR)\n"
      ],
      "id": "172e547d"
    },
    {
      "cell_type": "code",
      "metadata": {},
      "source": [
        "#| echo: true\n",
        "#| eval: false\n",
        "sns.boxplot(data=salaries, y='Salaary_USD')\n",
        "plt.show()"
      ],
      "id": "ab52ad8e",
      "execution_count": null,
      "outputs": []
    },
    {
      "cell_type": "markdown",
      "metadata": {},
      "source": [
        "![](images/paste-47.png)\n",
        "\n",
        "-   Identificando Umbrales\n"
      ],
      "id": "f0db184a"
    },
    {
      "cell_type": "code",
      "metadata": {},
      "source": [
        "#| echo: true\n",
        "#| eval: false\n",
        "# 75th percentil\n",
        "seventy_fifth = salaries['Salary_USD'].quantile(0.75)\n",
        "\n",
        "# 25th percentil\n",
        "twenty_fifth = salaries['Salary_USD'].quantile(0.25)\n",
        "\n",
        "# Interquartil range\n",
        "salaries_iqr = seventy_fifth - twenty_fifth\n",
        "\n",
        "print(salaries_iqr)"
      ],
      "id": "f9e31ca0",
      "execution_count": null,
      "outputs": []
    },
    {
      "cell_type": "markdown",
      "metadata": {},
      "source": [
        "![](images/paste-48.png)\n"
      ],
      "id": "8161f991"
    },
    {
      "cell_type": "code",
      "metadata": {},
      "source": [
        "#| echo: true\n",
        "#| eval: false\n",
        "# Upper threshold\n",
        "upper = seventy_fifth + (1.5 * salaries_iqr)\n",
        "\n",
        "# Lower threshold\n",
        "lower = twenty_fifth - (1.5 * salaries_iqr)\n",
        "\n",
        "print(upper, lower)"
      ],
      "id": "ff778ffb",
      "execution_count": null,
      "outputs": []
    },
    {
      "cell_type": "markdown",
      "metadata": {},
      "source": [
        "![](images/paste-49.png)\n",
        "\n",
        "-   Subdividiendo nuestros datos\n"
      ],
      "id": "dab71601"
    },
    {
      "cell_type": "code",
      "metadata": {},
      "source": [
        "#| echo: true\n",
        "#| eval: false\n",
        "salaries[(salaries['Salary_USD'] < lower) | (salaries['Salary_USD'] > upper)] \\\n",
        "        [['Experience', 'Employee_Location', 'Salary_USD']]"
      ],
      "id": "ec4b4ca4",
      "execution_count": null,
      "outputs": []
    },
    {
      "cell_type": "markdown",
      "metadata": {},
      "source": [
        "![](images/paste-50.png)\n",
        "\n",
        "-   ¿ Por qué buscar los Outliers?\n",
        "\n",
        "    -   Los Outliers son valores extremos\n",
        "\n",
        "        -   Pueden no representar con precisión los datos\n",
        "\n",
        "    -   Pueden sesgar la media y la desviación estándar\n",
        "\n",
        "    -   Pruebas de estadística y modelos de machine learning requieren datos que tengan una distribución normal y no esten sesgados.\n",
        "\n",
        "-   Qué hacer con los Outliers?\n",
        "\n",
        "    -   Preguntas que nos debemos hacer:\n",
        "\n",
        "        -   Por qué existen los outliers?\n",
        "\n",
        "        -   Los valores son precisos?\n",
        "\n",
        "-   Eliminación de Outliers\n"
      ],
      "id": "dc1c68fc"
    },
    {
      "cell_type": "code",
      "metadata": {},
      "source": [
        "#| echo: true\n",
        "#| eval: false\n",
        "no_outliers = salaries[(salaries['Salar_USD'] > lower) & (salaries['Salary_USD'] < upper)]"
      ],
      "id": "2921156b",
      "execution_count": null,
      "outputs": []
    },
    {
      "cell_type": "code",
      "metadata": {},
      "source": [
        "#| echo: true\n",
        "#| eval: false\n",
        "print(no_outliers['Salary_USD'].describe())"
      ],
      "id": "ef4960c7",
      "execution_count": null,
      "outputs": []
    },
    {
      "cell_type": "markdown",
      "metadata": {},
      "source": [
        "![](images/paste-51.png)\n",
        "\n",
        "-   Distribución de Salarios\n",
        "\n",
        "![](images/paste-52.png)\n",
        "\n",
        "### Qué hacer con los valores atípicos?\n",
        "\n",
        "Identificar los valores atípicos es un paso integral en la realización de análisis exploratorios de datos.\n",
        "\n",
        "En este ejercicio, se te presentarán escenarios en los que hay valores atípicos, y tendrás que decidir qué acción debes tomar.\n",
        "\n",
        "#### Instrucciones\n",
        "\n",
        "-   Coloca cada escenario en el cubo adecuado en función del enfoque que deba adaptarse para tratar los valores atípicos.\n",
        "\n",
        "    | Elimina los valores atípicos | Dejar los valores atípicos en el conjunto de datos |\n",
        "    |----|----|\n",
        "    | Un sensor de temperatura tiene un registro de 100 grados Celsius, pero el sensor solo funciona correctamente a temperaturas de hasta 80 grados. | se registran las alturas de distintos animales y uno de ellos es más de 1.5 veces la IQR más el percentil 75. |\n",
        "    | La velocidad de un coche se registra como 5000 km/h. | Los países tienen una superficie total media de 667.143 km2, pero un país tiene 1.637.687 km2. |\n",
        "    | Un participante en un estudio tiene una edad de menos 35 años. | Un jugador de baloncesto hace una media de 35 puntos por partido cuando la media en toda la liga es de solo 10 puntos por partido. |\n",
        "\n",
        "Puede ser difícil decidir qué hacer con los valores atípicos, pero debes saber cómo gestionarlos, ¡ya que a menudo se dan en el mundo real!\n",
        "\n",
        "\n",
        "### Identificar valores atípicos\n",
        "\n",
        "Has demostrado que reconoces qué hacer cuando se te presentan valores atípicos, pero ¿Puedes identificarlos utilizando visualizaciones?\n",
        "\n",
        "Intenta averiguar si hay valores atípicos en las columnas `\"Price\"` o `\"Duration\"` del dataframe `planes`.\n",
        "\n",
        "#### Intrucciones\n",
        "\n",
        "1. Traza la distribución de la columna `\"Price\"` de `planes`.\n"
      ],
      "id": "f5e26da6"
    },
    {
      "cell_type": "code",
      "metadata": {},
      "source": [
        "# Plot a histogram of flight prices\n",
        "sns.histplot(data=planes, x='Price')\n",
        "plt.show()"
      ],
      "id": "f0f86bb1",
      "execution_count": null,
      "outputs": []
    },
    {
      "cell_type": "markdown",
      "metadata": {},
      "source": [
        "2. Muestra las estadísticas descriptivas de la duración del vuelo.\n"
      ],
      "id": "7088a3ae"
    },
    {
      "cell_type": "code",
      "metadata": {},
      "source": [
        "# Display descriptive statistics for flight duration\n",
        "print(planes['Duration'].describe())"
      ],
      "id": "5c1062b7",
      "execution_count": null,
      "outputs": []
    },
    {
      "cell_type": "markdown",
      "metadata": {},
      "source": [
        "3. **Pregunta**\n",
        "\n",
        "¿Qué columna contiene potencialmente valores atípicos?\n",
        "\n",
        "**Respuestas Posibles**\n",
        "\n",
        "- [ ] `\"Price\"`\n",
        "- [ ] `\"Duration\"`\n",
        "- [x] `\"Price\"` y `\"Duration\"`\n",
        "- [ ] Ninguna\n",
        "\n",
        "Los histogramas, diagramas de caja y estadísticas descriptivas también son métodos útiles para identificar valores extremos. ¡Ahora vamos a tratarlos!\n",
        "\n",
        "\n",
        "### Eliminar valores atípicos\n",
        "\n",
        "Aunque eliminar los valores atípicos no siempre es el camino a seguir, para tu análisis has decidido que solo incluirás los vuelos en los que el `\"Price\"` no sea un valor atípico.\n",
        "\n",
        "Por lo tanto tienes que encontrar el umbral superior y utilizarlo para eliminar los valores que lo superen del Dataframe `planes`.\n",
        "\n",
        "#### Instrucciones\n",
        "\n",
        "1. Halla los percentiles 75 y 25, guardando como `price_seventy_fifth` y `price_twenty_fifth` respectivamente.\n"
      ],
      "id": "9fa26747"
    },
    {
      "cell_type": "code",
      "metadata": {},
      "source": [
        "# Find the 75th and 25th percentiles\n",
        "price_seventy_fifth = planes['Price'].quantile(0.75)\n",
        "price_twenty_fifth = planes['Price'].quantile(0.25)"
      ],
      "id": "8acc6896",
      "execution_count": null,
      "outputs": []
    },
    {
      "cell_type": "markdown",
      "metadata": {},
      "source": [
        "2. Calcula el IQR, almacenándolo como `prices_iqr`.\n"
      ],
      "id": "579c8325"
    },
    {
      "cell_type": "code",
      "metadata": {},
      "source": [
        "# Calculate iqr\n",
        "prices_iqr = price_seventy_fifth - price_twenty_fifth\n",
        "print(prices_iqr)"
      ],
      "id": "ccd979da",
      "execution_count": null,
      "outputs": []
    },
    {
      "cell_type": "markdown",
      "metadata": {},
      "source": [
        "3. Calcula los umbrales superior e inferior de los valores atípicos.\n"
      ],
      "id": "f601f7bf"
    },
    {
      "cell_type": "code",
      "metadata": {},
      "source": [
        "# Calculate the thresholds\n",
        "upper = price_seventy_fifth + (1.5 * prices_iqr)\n",
        "lower = price_twenty_fifth - (1.5 * prices_iqr)"
      ],
      "id": "753fc3c8",
      "execution_count": null,
      "outputs": []
    },
    {
      "cell_type": "markdown",
      "metadata": {},
      "source": [
        "4. Elimina los valores atípicos de `planes`.\n"
      ],
      "id": "b5377efd"
    },
    {
      "cell_type": "code",
      "metadata": {},
      "source": [
        "# Subset the data\n",
        "planes = planes[(planes['Price'] > lower) & (planes['Price'] < upper)]\n",
        "\n",
        "print(planes['Price'].describe())"
      ],
      "id": "ab6c3d0b",
      "execution_count": null,
      "outputs": []
    },
    {
      "cell_type": "markdown",
      "metadata": {},
      "source": [
        "¡Habilidades ridículas para eliminar valores atípicos! Lograste crear umbrales basados en el IQR y los usaste para filtrar el conjunto de datos `planes` para eliminar precios extremos. Originalmente, el conjunto de datos tenía un precio máximo de casi 55000, pero la salida de `planes['Price'].describe()` muestra que el máximo se ha reducido a alrededor de 23000, ¡reflejando una distribución menos sesgada para el análisis!\n"
      ],
      "id": "f0abdb61"
    }
  ],
  "metadata": {
    "kernelspec": {
      "name": "venv",
      "language": "python",
      "display_name": "Python (venv)",
      "path": "/Users/edwinmacmini/Library/Jupyter/kernels/venv"
    }
  },
  "nbformat": 4,
  "nbformat_minor": 5
}