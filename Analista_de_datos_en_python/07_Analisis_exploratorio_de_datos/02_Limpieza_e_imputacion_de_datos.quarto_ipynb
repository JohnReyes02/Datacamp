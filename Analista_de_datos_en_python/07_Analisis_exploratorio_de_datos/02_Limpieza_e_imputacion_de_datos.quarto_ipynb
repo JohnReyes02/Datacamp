{
  "cells": [
    {
      "cell_type": "markdown",
      "metadata": {},
      "source": [
        "# Limpieza e imputación de datos\n",
        "\n",
        "Explorar y analizar datos a menudo significa tratar con valores perdidos, tipos de datos incorrectos y valores atípicos. En este capítulo, aprenderás técnicas para gestionar estos problemas y agilizar tus procesos en EDA.\n",
        "\n",
        "## Tratar los datos que faltan\n",
        "\n",
        "-   Por qué un dato faltante es un problema?\n",
        "\n",
        "    -   Afectan las distribuciones\n",
        "    -   Los datos de la población son menos repreesntativos\n",
        "    -   Puede resultar en conclusiones incorrectas\n",
        "\n",
        "-   Ejemplo datos de profesionales de datos\n",
        "\n",
        "| Column | Description | Data type |\n",
        "|--------------------|---------------------------------|-------------------|\n",
        "| `Working_Year` | Year the data was obtained | Float |\n",
        "| `Designation` | Job title | String |\n",
        "| `Experience` | Experience level e.g., `\"Mid\"`, `\"Senior\"` | String |\n",
        "| `Employment_Satus` | Type of employment contract e.g., `\"FT\"`, `\"PT\"` | String |\n",
        "| `Employee_Location` | Country of employment | String |\n",
        "| `Company_Size` | Labels for company size e.g., `\"S\"`, `\"M\"`, `\"L\"` | String |\n",
        "| `Remote_Working_Ratio` | Porcentage of time working remotely | Integer |\n",
        "| `Salary_USD` | Salary in US dollars | Float |\n",
        "\n",
        "-   Revisando los datos faltantes\n"
      ],
      "id": "6e5aaa88"
    },
    {
      "cell_type": "code",
      "metadata": {},
      "source": [
        "#| echo: true\n",
        "#| eval: false\n",
        "print(salaries.isna().sum())"
      ],
      "id": "50fc540c",
      "execution_count": null,
      "outputs": []
    },
    {
      "cell_type": "markdown",
      "metadata": {},
      "source": [
        "![](images/paste-22.png)\n",
        "\n",
        "-   Estrategias para el manejo de datos faltantes\n",
        "\n",
        "    -   Eliminar los datos faltantes\n",
        "\n",
        "        -   5 % o menos del total de valores\n",
        "\n",
        "    -   Imputar la media, mediana o la moda\n",
        "\n",
        "        -   Depende de la distribución y contexto\n",
        "\n",
        "    -   Imputar por sub-grupos\n",
        "\n",
        "        -   Diferentes niveles de experiencia tienen diferente mediana en el salario\n",
        "\n",
        "-   Eliminando valores faltantes\n"
      ],
      "id": "5267c2cb"
    },
    {
      "cell_type": "code",
      "metadata": {},
      "source": [
        "#| echo: true\n",
        "#| eval: false\n",
        "threshold = len(salaries) * 0.05\n",
        "print(threhold)"
      ],
      "id": "35212b7f",
      "execution_count": null,
      "outputs": []
    },
    {
      "cell_type": "markdown",
      "metadata": {},
      "source": [
        "![](images/paste-23.png)\n"
      ],
      "id": "dd9f737b"
    },
    {
      "cell_type": "code",
      "metadata": {},
      "source": [
        "#| echo: true\n",
        "#| eval: false\n",
        "cols_to_drop = salaries.columns[salaries.isna().sum() <= threshold]\n",
        "print(cols_to_drop)"
      ],
      "id": "36b0d15b",
      "execution_count": null,
      "outputs": []
    },
    {
      "cell_type": "markdown",
      "metadata": {},
      "source": [
        "![](images/paste-24.png)\n"
      ],
      "id": "aeaef0d2"
    },
    {
      "cell_type": "code",
      "metadata": {},
      "source": [
        "#| echo: true\n",
        "#| eval: false\n",
        "salaries.dropna(subset=cols_to_drop, inplace=True) # Para actualizar el DataFrame"
      ],
      "id": "a9ba81b8",
      "execution_count": null,
      "outputs": []
    },
    {
      "cell_type": "markdown",
      "metadata": {},
      "source": [
        "-   Imputando una estadística de resumen\n"
      ],
      "id": "4e80170f"
    },
    {
      "cell_type": "code",
      "metadata": {},
      "source": [
        "#| echo: true\n",
        "#| eval: false\n",
        "cols_with_missing_values = salaries.columns[salaries.isna().sum() > 0]\n",
        "print(cols_with_missing_values)"
      ],
      "id": "034d0ec1",
      "execution_count": null,
      "outputs": []
    },
    {
      "cell_type": "markdown",
      "metadata": {},
      "source": [
        "![](images/paste-25.png)\n"
      ],
      "id": "c9d4b5d6"
    },
    {
      "cell_type": "code",
      "metadata": {},
      "source": [
        "#| echo: true\n",
        "#| eval: false\n",
        "    for col in cols_with_missing_values[:-1]:\n",
        "        salaries[col].fillna(salaries[col].mode()[0])"
      ],
      "id": "36347c0c",
      "execution_count": null,
      "outputs": []
    },
    {
      "cell_type": "markdown",
      "metadata": {},
      "source": [
        "-   Revisando los valores faltantes que faltan\n"
      ],
      "id": "de7b2c91"
    },
    {
      "cell_type": "code",
      "metadata": {},
      "source": [
        "#| echo: true\n",
        "#| eval: false\n",
        "print(salaries.isna().sum())"
      ],
      "id": "990cf7aa",
      "execution_count": null,
      "outputs": []
    },
    {
      "cell_type": "markdown",
      "metadata": {},
      "source": [
        "![](images/paste-26.png)\n",
        "\n",
        "-   Imputando por subgrupo\n"
      ],
      "id": "153042e9"
    },
    {
      "cell_type": "code",
      "metadata": {},
      "source": [
        "#| echo: true\n",
        "#| eval: false\n",
        "salaries_dict = salaries.groupby('Experience')['Salary_USD'].median().to_dict()\n",
        "print(salaries_dict)"
      ],
      "id": "58a77fde",
      "execution_count": null,
      "outputs": []
    },
    {
      "cell_type": "markdown",
      "metadata": {},
      "source": [
        "![](images/paste-27.png)\n"
      ],
      "id": "61be42db"
    },
    {
      "cell_type": "code",
      "metadata": {},
      "source": [
        "#| echo: true\n",
        "#| eval: false\n",
        "salaries['Salary_USD'] = salaries['Salary_USD'].fillna(salaries['Experience'].map(salaries_dict))"
      ],
      "id": "df80c3e9",
      "execution_count": null,
      "outputs": []
    },
    {
      "cell_type": "markdown",
      "metadata": {},
      "source": [
        "![](images/paste-28.png)\n",
        "\n",
        "### Tratar los datos que faltan\n",
        "\n",
        "Es importante tratar los datos que faltan antes de empezar el análisis.\n",
        "\n",
        "Un enfoque consiste en descartar los valores que faltan si representan una pequeña proporción, normalmente el 5 %, de los datos.\n",
        "\n",
        "Trabajando con un conjunto de datos sobre precios de tiquetes de avión, almacenado como un DataFrame de pandas llamado `planes`, tendrás que contar el número de valores perdidos en todas las columnas, calcular el cinco porciento de todos los valores, utilizar este umbral para eliminar observaciones y comprobar cuántos valores perdidos quedan en el conjunto de datos.\n"
      ],
      "id": "e378b37f"
    },
    {
      "cell_type": "code",
      "metadata": {},
      "source": [
        "import pandas as pd\n",
        "\n",
        "ruta = './data/planes.csv'\n",
        "planes = pd.read_csv(ruta)\n",
        "print(planes.head)"
      ],
      "id": "bbddadb3",
      "execution_count": null,
      "outputs": []
    },
    {
      "cell_type": "markdown",
      "metadata": {},
      "source": [
        "#### Instrucciones\n",
        "\n",
        "1. Imprime el número de valores perdidos en cada columna del DataFrame\n"
      ],
      "id": "dbda27fa"
    },
    {
      "cell_type": "code",
      "metadata": {},
      "source": [
        "# Count the number of missing values in each column\n",
        "print(planes.isna().sum())"
      ],
      "id": "134f083a",
      "execution_count": null,
      "outputs": []
    },
    {
      "cell_type": "markdown",
      "metadata": {},
      "source": [
        "2. Calcula a cuántas observaciones equivale el cinco porciento del DataFrame `planes`\n"
      ],
      "id": "a0787fb2"
    },
    {
      "cell_type": "code",
      "metadata": {},
      "source": [
        "# Find the five percent threshold\n",
        "threshold = len(planes) * 0.05\n",
        "print(threshold)"
      ],
      "id": "851e4e3e",
      "execution_count": null,
      "outputs": []
    },
    {
      "cell_type": "markdown",
      "metadata": {},
      "source": [
        "3. \n",
        "\n",
        "- Crea `cols_to_drop` aplicando una indexación booleana a las columnas del DataFrame con valores perdidos menores o iguales que el umbral.\n",
        "\n",
        "- Utiliza este filtro para eliminar los valores que faltan y guardar el DataFrame actualizado.\n"
      ],
      "id": "7b00269c"
    },
    {
      "cell_type": "code",
      "metadata": {},
      "source": [
        "# Create a filter\n",
        "cols_to_drop = planes.columns[planes.isna().sum() <= threshold]\n",
        "print(cols_to_drop)\n",
        "\n",
        "# Drop missing values for columns below the threshold\n",
        "planes.dropna(subset=cols_to_drop, inplace=True)\n",
        "\n",
        "print(planes.isna().sum())"
      ],
      "id": "c6db661f",
      "execution_count": null,
      "outputs": []
    },
    {
      "cell_type": "markdown",
      "metadata": {},
      "source": [
        "Al crear un umbral de valores faltantes y usarlo para filtrar columnas, haz logrado eliminar los valores faltantes de todas las columnas excepto `\"Additinal_Info\"` y `\"Price\"`.\n",
        "\n",
        "\n",
        "### Estrategias para datos que faltan\n",
        "\n",
        "La regla del cinco porciento ha funcionado muy bien en tu conjunto de dato `planes`, ¡eliminando los valores perdidos de nueve de las 11 columnas!\n",
        "\n",
        "Ahora tienes que decidir qué hacer con las columnas `\"Additional_Info\"` y `\"Price\"`, a las que les faltan los valores `300` y `368` respectivamente.\n",
        "\n",
        "Primero echarás un vistazo a lo que contiene `\"Additional_Info\"`, y después visualizarás el precio de los billetes de avión de distintas compañías aéreas.\n"
      ],
      "id": "469123a6"
    },
    {
      "cell_type": "code",
      "metadata": {},
      "source": [
        "import matplotlib.pyplot as plt\n",
        "import seaborn as sns"
      ],
      "id": "2e099570",
      "execution_count": null,
      "outputs": []
    },
    {
      "cell_type": "markdown",
      "metadata": {},
      "source": [
        "#### Instrucciones\n",
        "\n",
        "1. Imprime los valores y frecuencias de `\"Additional_Info\"`.\n"
      ],
      "id": "2aedca5f"
    },
    {
      "cell_type": "code",
      "metadata": {},
      "source": [
        "# Check the values of the Additional_Info column\n",
        "print(planes['Additional_Info'].value_counts())"
      ],
      "id": "4e064df9",
      "execution_count": null,
      "outputs": []
    },
    {
      "cell_type": "markdown",
      "metadata": {},
      "source": [
        "2. Crea un boxplot de `\"Price\"` frente a `\"Airline\"`\n"
      ],
      "id": "9c2f82ac"
    },
    {
      "cell_type": "code",
      "metadata": {},
      "source": [
        "# Create a box plot of Price by Airline\n",
        "sns.boxplot(data=planes, x='Airline', y='Price',\n",
        "            hue='Airline', legend=False)\n",
        "\n",
        "plt.show()"
      ],
      "id": "8ef86f61",
      "execution_count": null,
      "outputs": []
    },
    {
      "cell_type": "markdown",
      "metadata": {},
      "source": [
        "3. **Pregunta**\n",
        "\n",
        "- ¿Cómo debes tratar los valores que faltan en `\"Additional_Info\"` y `\"Price\"`.?\n",
        "\n",
        "**Respuestas Posibles**\n",
        "\n",
        "- [ ] Elimina la columna `\"Additional_Info\"` e imputa la media para los valores que faltan de `\"Price\"`.\n",
        "- [ ] Elimina los valores de `\"No info\"` de `\"Additiona_Info\"` e imputa la mediana de los valores que faltan de `\"Price\"`.\n",
        "- [ ] Elimina la columna `\"Additional_Info\"` e imputa la media por `\"Airline\"` para los valores que falten de `\"Price\"`.\n",
        "- [X] Elimina la columna `\"Additional_Info\"` e imputa la mediana por `\"Airline\"` para los valores que falten de `\"Price\"`.\n",
        "\n",
        "No necesitamos la columna `\"Additional_Info\"`, y deberías imputar la mediana de `\"Price\"` por `\"Airline\"` para representar los datos con precisión.\n",
        "\n",
        "\n",
        "### Imputar los precios de los aviones que faltan\n",
        "\n",
        "!Ahora solo queda una columna con valores perdidos!\n",
        "\n",
        "Has eliminado la columna `\"Additional_Info\"` de `planes`, el último paso es imputar los datos  que faltan en la columna `\"Price\"` del conjunto de datos.\n",
        "\n",
        "Como recordatorio, tú generaste este diagrama de caja, que sugería que imputar el precio medio basándose en el `\"Airline\"` ¡es un enfoque sólido!\n"
      ],
      "id": "b1b314f8"
    },
    {
      "cell_type": "code",
      "metadata": {},
      "source": [
        "# Eliminamos la columna Additional_Info\n",
        "planes = planes.drop('Additional_Info', axis=1)\n",
        "planes.columns"
      ],
      "id": "ce008a25",
      "execution_count": null,
      "outputs": []
    },
    {
      "cell_type": "markdown",
      "metadata": {},
      "source": [
        "#### Instrucciones\n",
        "\n",
        "1. Agrupa `planes` por aerolínea y calcula el precio medio.\n"
      ],
      "id": "b622a7bd"
    },
    {
      "cell_type": "code",
      "metadata": {},
      "source": [
        "# Calculate median plane ticket prices by Airplane\n",
        "airline_prices = planes.groupby('Airline')['Price'].median()\n",
        "\n",
        "print(airline_prices)"
      ],
      "id": "94dcaf1b",
      "execution_count": null,
      "outputs": []
    },
    {
      "cell_type": "markdown",
      "metadata": {},
      "source": [
        "2. Convierte los precios medios agrupados en un diccionario.\n"
      ],
      "id": "2473f801"
    },
    {
      "cell_type": "code",
      "metadata": {},
      "source": [
        "# Convert to a dictionary\n",
        "prices_dict = airline_prices.to_dict()\n",
        "print(prices_dict)"
      ],
      "id": "a647fce4",
      "execution_count": null,
      "outputs": []
    },
    {
      "cell_type": "markdown",
      "metadata": {},
      "source": [
        "3. \n",
        "\n",
        "- Imputa condicionalmente los valores perdidos de `\"Price\"` asignando los valores de la columna `\"Airline\"` en función de `prices_dict`\n",
        "\n",
        "- Comprueba si faltan valores\n"
      ],
      "id": "82f48997"
    },
    {
      "cell_type": "code",
      "metadata": {},
      "source": [
        "# Map the dictionary to missing values of Price by Airline\n",
        "planes['Price'] = planes['Price'].fillna(planes['Airline'].map(prices_dict))\n",
        "\n",
        "# Check for missing values\n",
        "print(planes.isna().sum())"
      ],
      "id": "8489584a",
      "execution_count": null,
      "outputs": []
    },
    {
      "cell_type": "markdown",
      "metadata": {},
      "source": [
        "Convertiste un DataFrame agrupado a un diccionario y luego lo usaste para llenar condicionalmente los valores faltantes de `\"Price\"` basándote en `\"Airline\"`. Ahora vamos a explorar cómo realizar análisis exploratorio en datos categóricos.\n",
        "\n",
        "## Convertir y analizar datos categóricos\n",
        "\n",
        "- Previsualizar los datos\n"
      ],
      "id": "a0768b65"
    },
    {
      "cell_type": "code",
      "metadata": {},
      "source": [
        "#| echo: true\n",
        "#| eval: false\n",
        "print(salaries.select_dtypes('object').head())"
      ],
      "id": "3e98f6c6",
      "execution_count": null,
      "outputs": []
    },
    {
      "cell_type": "markdown",
      "metadata": {},
      "source": [
        "## Trabajar con datos numéricos\n",
        "\n",
        "## Gestión de valores atípicos"
      ],
      "id": "1c6edf9d"
    }
  ],
  "metadata": {
    "kernelspec": {
      "name": "venv",
      "language": "python",
      "display_name": "Python (venv)",
      "path": "/Users/edwinmacmini/Library/Jupyter/kernels/venv"
    }
  },
  "nbformat": 4,
  "nbformat_minor": 5
}