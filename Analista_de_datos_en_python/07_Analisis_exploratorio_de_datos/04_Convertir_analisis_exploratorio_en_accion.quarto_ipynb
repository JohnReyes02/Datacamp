{
  "cells": [
    {
      "cell_type": "markdown",
      "metadata": {},
      "source": [
        "---\n",
        "title: \"Convertir el análisis exploratorio en acción\"\n",
        "---\n",
        "\n",
        "\n",
        "El análisis exploratorio de datos es un paso crucial en el flujo de trabajo de la ciencia de datos, ¡por no esl el final! Ahora es el momento de aprender técnicas y consideraciones que puedes utilizar para avanzar con éxito en tus proyectos una vez que hayas terminado de explorar.\n",
        "\n",
        "## Consideraciones para datos categóricos\n",
        "\n",
        "-   Por qué ejecutar EDA?\n",
        "    -   Detectar patrones y relaciones.\n",
        "    -   Generar preguntas o hipótesis.\n",
        "    -   Preparar datos para modelos de machine learning.\n",
        "-   Representatividad de los datos\n",
        "    -   La muestra debe representar la población.\n",
        "    -   Por ejemplo:\n",
        "        -   Educación versus ingresos en USA\n",
        "            -   No se pueden usar datos de Francia\n",
        "-   Clases Categóricas\n",
        "    -   Clases = etiquetas\n",
        "    -   Ejemplo, actitudes de las personas hacia el matrimonio.\n",
        "        -   Estado civil\n",
        "            -   Soltero\n",
        "            -   Casado\n",
        "            -   Divorciado\n",
        "-   Desbalance de Clases\n",
        "\n",
        "![](images/paste-66.png)\n",
        "\n",
        "-   Frecuencia de Clases\n"
      ],
      "id": "836ff77e"
    },
    {
      "cell_type": "code",
      "metadata": {},
      "source": [
        "#| echo: true\n",
        "#| eval: false\n",
        "print(planes('Destination').value_counts())"
      ],
      "id": "92f55506",
      "execution_count": null,
      "outputs": []
    },
    {
      "cell_type": "markdown",
      "metadata": {},
      "source": [
        "![](images/paste-67.png)\n",
        "\n",
        "-   Frecuencia relativa de clases\n",
        "\n",
        "    -   40% de los vuelos internos de la India van hacia Delhi.\n"
      ],
      "id": "82f8cfb5"
    },
    {
      "cell_type": "code",
      "metadata": {},
      "source": [
        "#| echo: true\n",
        "#| eval: false\n",
        "planes['Destination'].value_counts(normalize=True)"
      ],
      "id": "f3476a39",
      "execution_count": null,
      "outputs": []
    },
    {
      "cell_type": "markdown",
      "metadata": {},
      "source": [
        "![](images/paste-68.png)\n",
        "\n",
        "Es nuestra muestra representativa de la población? (Vuelos internos de India)\n",
        "\n",
        "-   Tabulación Cruzada\n",
        "\n",
        "    -   Es otro método para observar la frecuencia de clase, que permite examinar la frecuencia de combinaciones de clases\n",
        "\n",
        "    ![](images/paste-69.png)\n"
      ],
      "id": "87383300"
    },
    {
      "cell_type": "code",
      "metadata": {},
      "source": [
        "#| echo: true\n",
        "#| eval: false\n",
        "pd.crosstab(planes['Source'], planes['Destination'])"
      ],
      "id": "c0f175fa",
      "execution_count": null,
      "outputs": []
    },
    {
      "cell_type": "markdown",
      "metadata": {},
      "source": [
        "![](images/paste-70.png)\n",
        "\n",
        "-   Extendiendo la tabulación cruzada\n",
        "\n",
        "| Source   | Destination | Median Price (IDR) |\n",
        "|----------|-------------|--------------------|\n",
        "| Banglore | Delhi       | 4232.21            |\n",
        "| Banglore | New Delhi   | 12114.56           |\n",
        "| Chennai  | Kolkata     | 3859.76            |\n",
        "| Delhi    | Cochin      | 9987.63            |\n",
        "| Kolkata  | Banglore    | 9654.21            |\n",
        "| Mumbai   | Hyderabad   | 3431.97            |\n",
        "\n",
        "-   Agregación de valores con pd.crosstab()\n"
      ],
      "id": "9f4a3483"
    },
    {
      "cell_type": "code",
      "metadata": {},
      "source": [
        "#| echo: true\n",
        "#| eval: false\n",
        "pd.crosstab(planes['Source'], planes['Destination'],\n",
        "           values=planes['Price'], aggfunc='median')"
      ],
      "id": "09fb3d1b",
      "execution_count": null,
      "outputs": []
    },
    {
      "cell_type": "markdown",
      "metadata": {},
      "source": [
        "![](images/paste-71.png)\n",
        "\n",
        "Los resultados muestran valores de la mediana para todas las rutas posibles en el conjunto de datos.\n",
        "\n",
        "-   Comparando la muestra con la población\n",
        "\n",
        "| Source   | Desitnation | Median Price (IDR) | Median Price (dataset) |\n",
        "|----------|-------------|--------------------|------------------------|\n",
        "| Banglore | Delhi       | 4232.21            | 4823.0                 |\n",
        "| Banglore | New Delhi   | 12114.56           | 10976.50               |\n",
        "| Chennai  | Kolkata     | 3859.76            | 3850.0                 |\n",
        "| Delhi    | Cochin      | 9987.63            | 10260.0                |\n",
        "| Kolkata  | Banglore    | 9654.21            | 9345.0                 |\n",
        "| Mumbai   | Hyderabad   | 3431.97            | 3342.0                 |\n",
        "\n",
        "### Comprobación del desequilibrio de clases\n",
        "\n",
        "La [Encuesta Kaggle 2022](https://www.kaggle.com/kaggle-survey-2022) recoge la información sobre la formación de los científicos de datos, sus tecnologías y técnicas preferidas. Se considera una visión precisa de lo que está ocurriendo en la ciencia de datos, basada en el volumen y el perfil de los que responden.\n",
        "\n",
        "Una vez examinados los títulos de los puestos y categorizados para alinearlos con nuestro `salaries` DataFrame\\`, puedes ver la siguiente proporción de categorías laborales en la encuesta Kaggle:\n",
        "\n",
        "| Categoría laboral   | Frecuencia relativa |\n",
        "|---------------------|---------------------|\n",
        "| Ciencia de datos    | 0,281236            |\n",
        "| Análisis de datos   | 0,224231            |\n",
        "| Otros               | 0,214609            |\n",
        "| Dirección           | 0,121300            |\n",
        "| Machine Learning    | 0,083248            |\n",
        "| Ingeniería de datos | 0,075375            |\n",
        "\n",
        "Pensando en los resultados de la encuesta Kaggle como población, tu tarea consiste en averiguar si el DataFrame `salaries` es representativo comparando la frecuencia relativa de las categorías laborales.\n"
      ],
      "id": "95da37ca"
    },
    {
      "cell_type": "code",
      "metadata": {},
      "source": [
        "import pandas as pd\n",
        "ruta = './data/salaries.csv'\n",
        "salaries = pd.read_csv(ruta)\n",
        "salaries.head()"
      ],
      "id": "a924e10c",
      "execution_count": null,
      "outputs": []
    },
    {
      "cell_type": "markdown",
      "metadata": {},
      "source": [
        "#### Instrucciones\n",
        "\n",
        "-   Imprime la frecuencia relativa de la columna `Job_Category` de `salaries` DataFrame\n",
        "\n",
        "::: callout-note\n",
        "Para exportar el dataset en formato CSV dentro de DataCamp y luego copiarlo:\n",
        "\n",
        "``` python\n",
        "print(salaries.to_csv(index=False))\n",
        "```\n",
        ":::\n"
      ],
      "id": "b7046dc9"
    },
    {
      "cell_type": "code",
      "metadata": {},
      "source": [
        "# Print the relative frequency of Job_Category\n",
        "print(salaries['Job_Category'].value_counts(normalize=True))"
      ],
      "id": "ae478cad",
      "execution_count": null,
      "outputs": []
    },
    {
      "cell_type": "markdown",
      "metadata": {},
      "source": [
        "Parece que Data Science es la clase más popular y tiene una representación similar. Aún así, las otras categorías tienen frecuencias relativas bastante diferentes, lo cual pordría no ser sorprendente dado que el público objetivo son científico de datos. Dada la diferencia en las frecuencias relativas, ¿puedes confiar en que el DataFrame `salaries` representa con precisión los roles gerenciales?\n",
        "\n",
        "### Tabulación cruzada\n",
        "\n",
        "La tabulación cruzada puede ayudar a identificar cómo se combinan las observaciones.\n",
        "\n",
        "Utilizando el conjunto de datos `salaries`, que se ha importado como un DataFrame `pandas`, realizarás una tabulación cruzada de múltiples variables, incluyendo el uso de la agregación, para ver la relación entre 'Company_Size' y otras variables.\n",
        "\n",
        "#### Instrucciones\n",
        "\n",
        "1.  Realiza una tabulación cruzada, estableciendo `Company_Size` como índice, y las columnas a las clases en `Experience`.\n"
      ],
      "id": "8c2aed9d"
    },
    {
      "cell_type": "code",
      "metadata": {},
      "source": [
        "# Cross-tabulate Company_Size and Experience\n",
        "print(pd.crosstab(salaries['Company_Size'], salaries['Experience']))"
      ],
      "id": "5d060572",
      "execution_count": null,
      "outputs": []
    },
    {
      "cell_type": "markdown",
      "metadata": {},
      "source": [
        "2.  Cruza 'Job_Category' y las clases de 'Company_Size' como nombres de columna.\n"
      ],
      "id": "366f2122"
    },
    {
      "cell_type": "code",
      "metadata": {},
      "source": [
        "# Cross-tabulate Job_Category and Company_Size\n",
        "print(pd.crosstab(salaries['Job_Category'], salaries['Company_Size']))"
      ],
      "id": "a5e30c1b",
      "execution_count": null,
      "outputs": []
    },
    {
      "cell_type": "markdown",
      "metadata": {},
      "source": [
        "3.  Actualiza `pd.crosstab()` para que devuelva los valores medios de `Salary_USD`.\n"
      ],
      "id": "9a922b6c"
    },
    {
      "cell_type": "code",
      "metadata": {},
      "source": [
        "# Cross-tabulate Job_Category and Company_Size\n",
        "print(pd.crosstab(salaries['Job_Category'], salaries['Company_Size'], values= salaries['Salary_USD'], aggfunc='mean'))"
      ],
      "id": "bcd6643b",
      "execution_count": null,
      "outputs": []
    },
    {
      "cell_type": "markdown",
      "metadata": {},
      "source": [
        "Ésta es una función útil para examinar la combinación de frecuencias, así como para encontrar estadísticas agregadas. ¡Parece que el salario medio más alto es para roles de datos gerenciales en grandes empresas!\n",
        "\n",
        "## Generar nuevas Características\n",
        "\n",
        "-   Correlación\n"
      ],
      "id": "358999b4"
    },
    {
      "cell_type": "code",
      "metadata": {},
      "source": [
        "#| echo: true\n",
        "#| eval: false\n",
        "sns.heatmap(planes.corr(numeric_only=True), annot=True)\n",
        "plt.show()"
      ],
      "id": "4f9f3754",
      "execution_count": null,
      "outputs": []
    },
    {
      "cell_type": "markdown",
      "metadata": {},
      "source": [
        "![](images/paste-72.png)\n",
        "\n",
        "-   Viendo el tipo de datos\n"
      ],
      "id": "f06512ab"
    },
    {
      "cell_type": "code",
      "metadata": {},
      "source": [
        "#| echo: true\n",
        "#| eval: false\n",
        "print(planes.dtypes)"
      ],
      "id": "0daeb185",
      "execution_count": null,
      "outputs": []
    },
    {
      "cell_type": "markdown",
      "metadata": {},
      "source": [
        "![](images/paste-73.png)\n",
        "\n",
        "-   Total Stops\n"
      ],
      "id": "7e69694b"
    },
    {
      "cell_type": "code",
      "metadata": {},
      "source": [
        "#| echo: true\n",
        "#| eval: false\n",
        "print(planes['Total_Stops'].value_counts())"
      ],
      "id": "23e031cb",
      "execution_count": null,
      "outputs": []
    },
    {
      "cell_type": "markdown",
      "metadata": {},
      "source": [
        "![](images/paste-74.png)\n",
        "\n",
        "Se observa que es necesario eliminar algunos caracteres.\n",
        "\n",
        "-   Limpiando Total Stops\n"
      ],
      "id": "63f93028"
    },
    {
      "cell_type": "code",
      "metadata": {},
      "source": [
        "#| echo: true\n",
        "#| eval: false\n",
        "planes['Total_Stops'] = planes['Total_Stops'].str.replace(' stops', '')\n",
        "planes['Total_Stops'] = planes['Total_Stops'].str.replace(' stop', '')\n",
        "planes['Total_Stops'] = planes['Total_Stops'].str.replace('non-stop', '0')\n",
        "planes['Total_Stops'] = planes['Total_Stops'].astype(int)"
      ],
      "id": "cdc0a256",
      "execution_count": null,
      "outputs": []
    },
    {
      "cell_type": "markdown",
      "metadata": {},
      "source": [
        "-   Correlación\n"
      ],
      "id": "56041145"
    },
    {
      "cell_type": "code",
      "metadata": {},
      "source": [
        "#| echo: true\n",
        "#| eval: false\n",
        "sns.heatmap(planes.corr(numeric_only=True), annot=True)\n",
        "plt.show()"
      ],
      "id": "48cbe649",
      "execution_count": null,
      "outputs": []
    },
    {
      "cell_type": "markdown",
      "metadata": {},
      "source": [
        "![](images/paste-75.png)\n",
        "\n",
        "-   Fechas\n"
      ],
      "id": "cbf073b3"
    },
    {
      "cell_type": "code",
      "metadata": {},
      "source": [
        "#| echo: true\n",
        "#| eval: false\n",
        "print(planes.dtypes)"
      ],
      "id": "df44bb53",
      "execution_count": null,
      "outputs": []
    },
    {
      "cell_type": "markdown",
      "metadata": {},
      "source": [
        "![](images/paste-76.png)\n",
        "\n",
        "-   Extrayendo el mes y el día de la semana\n"
      ],
      "id": "e7b4b42f"
    },
    {
      "cell_type": "code",
      "metadata": {},
      "source": [
        "#| echo: true\n",
        "#| eval: false\n",
        "planes['month'] = planes['Date_of_Journey'].dt.month\n",
        "planes['weekday'] = planes['Date_of_Journey'].dt.weekday\n",
        "print(planes[['month', 'weekday', 'Date_of_Journey']].head())"
      ],
      "id": "1649d3b7",
      "execution_count": null,
      "outputs": []
    },
    {
      "cell_type": "markdown",
      "metadata": {},
      "source": [
        "![](images/paste-77.png)\n",
        "\n",
        "-   Tiempos de salidas y llegadas\n"
      ],
      "id": "4273ccb5"
    },
    {
      "cell_type": "code",
      "metadata": {},
      "source": [
        "#| echo: true\n",
        "#| eval: false\n",
        "planes['Dep_Hour'] = planes['Dep_Time'].dt.hour\n",
        "planes['Arrival_Hour'] = planes['Arrival_Time'].dt.hour"
      ],
      "id": "628e3448",
      "execution_count": null,
      "outputs": []
    },
    {
      "cell_type": "markdown",
      "metadata": {},
      "source": [
        "-   Correlación\n",
        "\n",
        "![](images/paste-78.png)\n",
        "\n",
        "No hay correlaciones, pero no lo sabríamos si no se hubieran generado nuevas características.\n",
        "\n",
        "-   Creando características\n"
      ],
      "id": "02c0e001"
    },
    {
      "cell_type": "code",
      "metadata": {},
      "source": [
        "#| echo: true\n",
        "#| eval: false\n",
        "print(planes['Price'].describe())"
      ],
      "id": "e32cb6e3",
      "execution_count": null,
      "outputs": []
    },
    {
      "cell_type": "markdown",
      "metadata": {},
      "source": [
        "![](images/paste-79.png)\n",
        "\n",
        "| Rango             | Tipo de tiquete |\n",
        "|-------------------|-----------------|\n",
        "| \\<= 5228          | Economy         |\n",
        "| \\> 5528 \\<= 8355  | Premium Economy |\n",
        "| \\> 8355 \\<= 12373 | Business Class  |\n",
        "| \\> 12373          | First Class     |\n",
        "\n",
        "-   Estadística descriptiva\n"
      ],
      "id": "d3966416"
    },
    {
      "cell_type": "code",
      "metadata": {},
      "source": [
        "#| echo: true\n",
        "#| eval: false\n",
        "twenty_fifth = planes['Price'].quantile(0.25)\n",
        "median = planes['Price'].median()\n",
        "seventy_fifth = planes['Price'].quantile(0.75)\n",
        "maximum = planes['Price'].max()"
      ],
      "id": "d3e28199",
      "execution_count": null,
      "outputs": []
    },
    {
      "cell_type": "markdown",
      "metadata": {},
      "source": [
        "- Etiquetas y bins\n"
      ],
      "id": "cf4dd155"
    },
    {
      "cell_type": "code",
      "metadata": {},
      "source": [
        "#| echo: true\n",
        "#| eval: false\n",
        "labels = ['Economy', 'Premium Economy', 'Business Class', 'First Class']\n",
        "bins = [0, twenty_fifth, median, seventy_fifth, maximum]"
      ],
      "id": "4d636cb0",
      "execution_count": null,
      "outputs": []
    },
    {
      "cell_type": "markdown",
      "metadata": {},
      "source": [
        "- pd.cut()\n",
        "\n",
        "\n",
        "\n",
        "### Extraer características para la correlación\n",
        "\n",
        "### Cálculo de los percentiles salariales\n",
        "\n",
        "### Categorizar los salarios\n",
        "\n",
        "## Generar hipótesis\n",
        "\n",
        "### Comparar salarios\n",
        "\n",
        "### Elegir una hipótesis"
      ],
      "id": "e401f8b9"
    }
  ],
  "metadata": {
    "kernelspec": {
      "name": "venv",
      "language": "python",
      "display_name": "Python (venv)",
      "path": "/Users/edwinmacmini/Library/Jupyter/kernels/venv"
    }
  },
  "nbformat": 4,
  "nbformat_minor": 5
}