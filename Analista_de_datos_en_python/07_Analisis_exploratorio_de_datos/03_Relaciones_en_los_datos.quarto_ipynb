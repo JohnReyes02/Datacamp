{
  "cells": [
    {
      "cell_type": "markdown",
      "metadata": {},
      "source": [
        "---\n",
        "title: \"Relaciones en los datos\"\n",
        "---\n",
        "\n",
        "\n",
        "Las variables de los conjuntos de datos tienen relaciones entre sí. En este capítulo, examinarás las relaciones entre datos numéricos, categóricos e incluso DateTime, explorando la dirección y la fuerza de estas relaciones, así como las formas de visualizarlas.\n",
        "\n",
        "## Patrones a lo largo del tiempo\n"
      ],
      "id": "bca3bf28"
    },
    {
      "cell_type": "code",
      "metadata": {},
      "source": [
        "#| echo: true\n",
        "#| eval: false\n",
        "divorce = pd.read_csv(\"divorce.csv\")\n",
        "divorce.head()"
      ],
      "id": "0bce44ba",
      "execution_count": null,
      "outputs": []
    },
    {
      "cell_type": "markdown",
      "metadata": {},
      "source": [
        "![](images/paste-53.png)\n",
        "\n",
        "-   Importando data DateTime\n",
        "\n",
        "    -   DataTime necesita ser explicitamente declarada en pandas\n"
      ],
      "id": "2baa7c3f"
    },
    {
      "cell_type": "code",
      "metadata": {},
      "source": [
        "#| echo: true\n",
        "#| eval: false\n",
        "divorce.dtypes"
      ],
      "id": "216ba895",
      "execution_count": null,
      "outputs": []
    },
    {
      "cell_type": "markdown",
      "metadata": {},
      "source": [
        "![](images/paste-54.png)\n"
      ],
      "id": "1f46e619"
    },
    {
      "cell_type": "code",
      "metadata": {},
      "source": [
        "#| echo: true\n",
        "#| eval: false\n",
        "divorce = pd.read_csv(\"divorce.csv\", parse_dates=[\"marriage_date\"])\n",
        "divorce.dtypes"
      ],
      "id": "b3a512f4",
      "execution_count": null,
      "outputs": []
    },
    {
      "cell_type": "markdown",
      "metadata": {},
      "source": [
        "![Este tipo de datos abre muchas posibilidades para el análisis, como observar patrones a lo largo de años, meses o incluso días de la semana.](images/paste-55.png)\n",
        "\n",
        "-   Conviritiendo los datos a DataTime\n",
        "\n",
        "    -   `pd.to_datetime()` convierte los argumentos de datos DateTime\n"
      ],
      "id": "3e50fb03"
    },
    {
      "cell_type": "code",
      "metadata": {},
      "source": [
        "#| echo: true\n",
        "#| eval: false\n",
        "divorce['marriage_date'] = pd.to_datetime(divorce['marriage_date'])\n",
        "divorce_dtypes"
      ],
      "id": "6219f1b9",
      "execution_count": null,
      "outputs": []
    },
    {
      "cell_type": "markdown",
      "metadata": {},
      "source": [
        "![](images/paste-57.png)\n",
        "\n",
        "-   Creando datos DateTime\n"
      ],
      "id": "2a3097e7"
    },
    {
      "cell_type": "code",
      "metadata": {},
      "source": [
        "#| echo: true\n",
        "#| eval: false\n",
        "divorce.head(2)"
      ],
      "id": "1f1ba33c",
      "execution_count": null,
      "outputs": []
    },
    {
      "cell_type": "markdown",
      "metadata": {},
      "source": [
        "![](images/paste-58.png)\n"
      ],
      "id": "28627956"
    },
    {
      "cell_type": "code",
      "metadata": {},
      "source": [
        "#| echo: true\n",
        "#| eval: false\n",
        "divorce['marriage_date'] = pd.to_datetime(divorce[['month', 'day', 'year']])\n",
        "divorce.head(2)"
      ],
      "id": "345a446c",
      "execution_count": null,
      "outputs": []
    },
    {
      "cell_type": "markdown",
      "metadata": {},
      "source": [
        "![](images/paste-59.png)\n",
        "\n",
        "Es posible extraer sólo el mes, el día o el año de una columna que contenga una fecha completa, usando los atributos `dt.month`, `dt.day` y `dt.year.`\n"
      ],
      "id": "35bc3893"
    },
    {
      "cell_type": "code",
      "metadata": {},
      "source": [
        "#| echo: true\n",
        "#| eval: false\n",
        "divorce['marriage_month'] = divorce['marriage_date'].dt.month()\n",
        "divorce.head()"
      ],
      "id": "4290aba1",
      "execution_count": null,
      "outputs": []
    },
    {
      "cell_type": "markdown",
      "metadata": {},
      "source": [
        "![](images/paste-60.png)\n",
        "\n",
        "-   Visualizando patrones a lo largo del tiempo\n"
      ],
      "id": "02023165"
    },
    {
      "cell_type": "code",
      "metadata": {},
      "source": [
        "#| echo: true\n",
        "#| eval: false\n",
        "sns.lineplot(data=divorce, x='marriage_month', y='marriage_duration')\n",
        "plt.show()"
      ],
      "id": "15392c93",
      "execution_count": null,
      "outputs": []
    },
    {
      "cell_type": "markdown",
      "metadata": {},
      "source": [
        "![](images/paste-61.png)\n",
        "\n",
        "Los amplios intervalos de confianza sugieren que se necesita más análisis.\n",
        "\n",
        "### Importar datos DateTime\n",
        "\n",
        "¡Ahora trabajarás con todo el conjunto de datos del divorcio! Los datos desciben los matrimonios mexicanos disueltos entre 2000 y 2015. Contiene las fechs de matrimonio y divorcio, el nivel educativo, la fecha de nacimiento, los ingresos de cada miembro de la pareja y la duración del matrimonio, así como el número de hijos que tenía la pareja en el momento del divorcio.\n",
        "\n",
        "Los nombres de ls columnas y los tipos de datos son los siguientes:\n",
        "\n",
        "![](images/paste-62.png)\n",
        "\n",
        "¡Parece que hay mucha información de fecha en estos datos que todavía no son de tipo DateTime! Tu tarea es arreglarlo para que puedas explorar patrones a lo largo del tiempo.\n"
      ],
      "id": "36fcbbf5"
    },
    {
      "cell_type": "code",
      "metadata": {},
      "source": [
        "import pandas as pd\n",
        "\n",
        "ruta = './data/divorce.csv'\n",
        "divorce = pd.read_csv(ruta)\n",
        "divorce.head()"
      ],
      "id": "a8796030",
      "execution_count": null,
      "outputs": []
    },
    {
      "cell_type": "markdown",
      "metadata": {},
      "source": [
        "#### Instrucciones\n",
        "\n",
        "-   Importa `divorce.csv`, guardando como DataFrame, `divorce`: indica en la función de importación que las columnas `divorce_date`, `dob_man`, `dob_woman`, y `marriage_date` deben importarse como valores DateTime.\n"
      ],
      "id": "7b3e4055"
    },
    {
      "cell_type": "code",
      "metadata": {},
      "source": [
        "# Import divorce.csv, parseing the appropriate columns as dateds in the import\n",
        "divorce = pd.read_csv('./data/divorce.csv', parse_dates=['divorce_date', 'dob_man', 'dob_woman', 'marriage_date'])\n",
        "print(divorce.dtypes)"
      ],
      "id": "c1dfaf1d",
      "execution_count": null,
      "outputs": []
    },
    {
      "cell_type": "markdown",
      "metadata": {},
      "source": [
        "Buen trabajo parseando esas fechas al mismo tiempo que importabas los datos en pandas. ¡Ahora, intenta actualizar los tipos de datos DateTime en una DataFrame que ya ha sido importado!\n",
        "\n",
        "### Actualizar tipo de datos a DateTime\n",
        "\n",
        "Ahora se te ha cargado el DataFrame `divorce`, pero una columna se almacea como una cadena que debería ser un dato DateTime. ¿Cuál es? Una vez que hayas identificado la columna, la actualizarás para que puedas explorarla más de cerca en el siguiente ejercicio.\n"
      ],
      "id": "7814cd13"
    },
    {
      "cell_type": "code",
      "metadata": {},
      "source": [
        "ruta = './data/divorce.csv'\n",
        "divorce = pd.read_csv(ruta, parse_dates=['divorce_date', 'dob_man', 'dob_woman'])\n",
        "print(divorce.dtypes)"
      ],
      "id": "25553770",
      "execution_count": null,
      "outputs": []
    },
    {
      "cell_type": "markdown",
      "metadata": {},
      "source": [
        "#### Instrucciones\n",
        "\n",
        "1.  **Pregunta**\n",
        "\n",
        "¿Cuál de las columnas del DataFrame `divorce` no se ha actualizado a un tipo de datos DateTime, pero debería hacerse?\n",
        "\n",
        "**Respuestas posibles**\n",
        "\n",
        "-   [ ] `divorce_date`\n",
        "-   [x] `marriage_date`\n",
        "-   [ ] `education_woman`\n",
        "-   [ ] `num_kids`\n",
        "\n",
        "2.  Covierte la columna `marriage_date` del DataFrame `divorce` en valores de `DateTime`.\n"
      ],
      "id": "b8c41443"
    },
    {
      "cell_type": "code",
      "metadata": {},
      "source": [
        "# Convert the marriage_date column to DateTime values\n",
        "divorce['marriage_date'] = pd.to_datetime(divorce['marriage_date'])\n",
        "print(divorce.dtypes)"
      ],
      "id": "a658110e",
      "execution_count": null,
      "outputs": []
    },
    {
      "cell_type": "markdown",
      "metadata": {},
      "source": [
        "Ahora, estás listo para ver cómo la fecha de matrimonio de una pareja se relaciona con otros datos.\n",
        "\n",
        "### Visualizar las relaciones a lo largo del tiempo\n",
        "\n",
        "Ahora que tus datos de fechas se guardan como datos DateTime, ¡puedes explorar patrones a lo largo del tiempo! ¿Tiene relación el año en que se casó una pareja con el número de hijos que tiene en el momento del divorcio? ¡Tu tarea es averiguarlo!\n",
        "\n",
        "#### Instrucciones\n",
        "\n",
        "1.  Define una columna llamada `marriage_year`, que solo contiene la parte del año de la columna `marriage_date`.\n"
      ],
      "id": "93fc9b47"
    },
    {
      "cell_type": "code",
      "metadata": {},
      "source": [
        "# Define the marriage_year column\n",
        "divorce['marriage_year'] = divorce['marriage_date'].dt.year"
      ],
      "id": "387e46ee",
      "execution_count": null,
      "outputs": []
    },
    {
      "cell_type": "markdown",
      "metadata": {},
      "source": [
        "2.  Crea un gráfico de líneas que muestre el número medio de hijos que tuvo una pareja durante su matrimonio, ordenado por el año en que la pareja se casó.\n"
      ],
      "id": "8040662d"
    },
    {
      "cell_type": "code",
      "metadata": {},
      "source": [
        "import seaborn as sns\n",
        "import matplotlib.pyplot as plt\n",
        "# Create a lineplot showing the average  number of kids by year\n",
        "sns.lineplot(data=divorce, x='marriage_year', y='num_kids')\n",
        "plt.show()"
      ],
      "id": "d3a18bf2",
      "execution_count": null,
      "outputs": []
    },
    {
      "cell_type": "markdown",
      "metadata": {},
      "source": [
        "¡Bien hecho! Haz descubierto un patrón aquí, parece que las parejas que se casaron en años posteriores también tuvieron menos hijos durante su matrimonio.\n",
        "\n",
        "## Correlación\n",
        "\n",
        "-   Correlación\n",
        "    -   Describe la dirección de la relación de entre dos variables así como su fuerza.\n",
        "\n",
        "    -   Configurar `numeric_only=True` previene errores con columnas no numéricas.\n",
        "\n",
        "    -   El método `.cor()` calcula el coeficiente de correlación de Pearson.\n"
      ],
      "id": "9ddb63fc"
    },
    {
      "cell_type": "code",
      "metadata": {},
      "source": [
        "divorce.corr(numeric_only=True)"
      ],
      "id": "e60cec21",
      "execution_count": null,
      "outputs": []
    },
    {
      "cell_type": "markdown",
      "metadata": {},
      "source": [
        "-   Mapas de calor de correlación\n"
      ],
      "id": "0b050b0b"
    },
    {
      "cell_type": "code",
      "metadata": {},
      "source": [
        "sns.heatmap(divorce.corr(numeric_only=True), annot=True)\n",
        "plt.show()"
      ],
      "id": "07f6992a",
      "execution_count": null,
      "outputs": []
    },
    {
      "cell_type": "markdown",
      "metadata": {},
      "source": [
        "-   Correlación en contexto\n"
      ],
      "id": "36e9e8a5"
    },
    {
      "cell_type": "code",
      "metadata": {},
      "source": [
        "divorce['divorce_date'].min()"
      ],
      "id": "87ea78f8",
      "execution_count": null,
      "outputs": []
    },
    {
      "cell_type": "code",
      "metadata": {},
      "source": [
        "divorce['divorce_date'].max()"
      ],
      "id": "1292d923",
      "execution_count": null,
      "outputs": []
    },
    {
      "cell_type": "markdown",
      "metadata": {},
      "source": [
        "-   Visualización de las relaciones\n",
        "    - Es importante complementar nuestros cálculos de correlación con gráficos de dispersión.\n",
        "\n",
        "+-----------------------------------------------------------+------------------------------------------------------+\n",
        "| ![](images/paste-64.png)                                  | ![](images/paste-65.png)                             |\n",
        "+-----------------------------------------------------------+------------------------------------------------------+\n",
        "| -   Fuerte relación, pero no lineal                       | -   Relación cuadrática; no lineal                   |\n",
        "|                                                           |                                                      |\n",
        "| -   El coeficiente de correlación de Pearson: `-6.48e-18` | -   Coeficiente de correlación de Pearson: `.971211` |\n",
        "+-----------------------------------------------------------+------------------------------------------------------+\n",
        "\n",
        "\n",
        "- Scatter plots\n"
      ],
      "id": "e2bc7db6"
    },
    {
      "cell_type": "code",
      "metadata": {},
      "source": [
        "sns.scatterplot(data=divorce, x='income_man', y='income_woman')\n",
        "plt.show()"
      ],
      "id": "fb59fe8b",
      "execution_count": null,
      "outputs": []
    },
    {
      "cell_type": "markdown",
      "metadata": {},
      "source": [
        "- Pairplots\n",
        "    - Es útil para obtener una descripción general rápida de las relaciones dentro del conjunto de datos.\n",
        "    - Tanta información en un elemento visual puede ser difícil de interpretar con grandes conjuntos de datos.\n"
      ],
      "id": "1d791513"
    },
    {
      "cell_type": "code",
      "metadata": {},
      "source": [
        "sns.pairplot(data=divorce)\n",
        "plt.show()"
      ],
      "id": "f6879825",
      "execution_count": null,
      "outputs": []
    },
    {
      "cell_type": "markdown",
      "metadata": {},
      "source": [
        "Es posible limitar el número de relaciones graficadas estableciendo el argumento `vars` igual a las variables de interés.\n"
      ],
      "id": "a04137b7"
    },
    {
      "cell_type": "code",
      "metadata": {},
      "source": [
        "sns.pairplot(data=divorce, vars=['income_man', 'income_woman', 'marriage_duration'])\n",
        "plt.show()"
      ],
      "id": "42d1e3a2",
      "execution_count": null,
      "outputs": []
    },
    {
      "cell_type": "markdown",
      "metadata": {},
      "source": [
        "### Interpretar un mapa de calor\n",
        "\n",
        "¿Cuál de las siguientes afirmaciones es correcta respecto a las relaciones entre variables en el DataFrame `divorce`?\n"
      ],
      "id": "b1b69e3e"
    },
    {
      "cell_type": "code",
      "metadata": {},
      "source": [
        "divorce['marriage_moth'] = divorce['marriage_date'].dt.month\n",
        "divorce.head()"
      ],
      "id": "be9238d7",
      "execution_count": null,
      "outputs": []
    },
    {
      "cell_type": "markdown",
      "metadata": {},
      "source": [
        "#### Instrucciones \n",
        "\n",
        "**Respuestas Posibles**\n",
        "\n",
        "- [ ] `marriage_duration` está fuertemente correlacionada de forma positiva con `marriage_month`.\n",
        "\n",
        "- [ ] La correlación entre `num_kids` y `income_man` es más fuerte que la correlación entre `num_kids` y `marriage_duration`.\n",
        "\n",
        "- [ ] Un `marriage_year` más tardío provoca un menor número de hijos, representado por `num_kids`.\n",
        "\n",
        "- [X] Un `marriage_year` más tardío está correlacionado con tener menos hijos.\n",
        "\n",
        "\n",
        "### Visualizar las relaciones entre variables\n",
        "\n",
        "En el último ejercicio, habrás observado que un `marriage_duration` más largo está correlacionado con tener más hijos , representado por la columna `num_kids`. El coeficiente de correlación entre las variables `marriage_duration` y `num_kids` es `0.45`.\n",
        "\n",
        "En este ejercicio, crearás un gráfico de dispersión para visualizar la relación entre estas variables.\n",
        "\n",
        "#### Instrucciones\n",
        "\n",
        "- Cree un diagrama de dispersión que muestre `marriage_duration` en el eje x y `num_kids` en el eje y.\n"
      ],
      "id": "10e35503"
    },
    {
      "cell_type": "code",
      "metadata": {},
      "source": [
        "# Create the scatterplot\n",
        "sns.scatterplot(data=divorce, x='marriage_duration', y='num_kids')\n",
        "plt.show()"
      ],
      "id": "507274fb",
      "execution_count": null,
      "outputs": []
    },
    {
      "cell_type": "markdown",
      "metadata": {},
      "source": [
        "Hay una ligera relación positiva en el gráfico de dispersión. En el conjunto de datos, las parejas sin hijos no tienen valor en la columna `num_kids`. Si estás seguro que todos o la mayoría de los valores faltantes en `num_kids` están relacionados con parejas sin hijos, podrías considerar actualizar estos valores a 0, lo que podría aumentar la correlación.\n",
        "\n",
        "\n",
        "### Visualizar las relaciones entre múltiples variables\n",
        "\n",
        "Seaborn's `.pairplot()` es excelente para comprender las relaciones entre varias o todas las vatiables de un conjunto de datos, agregando gráficos de dispersión por pares en un solo visual.\n",
        "\n",
        "Tu tarea consiste en utilizar un `pairplot` par comparar la relación entre 'marriage_duration' y 'income_woman'.\n",
        "\n",
        "#### Instrucciones\n",
        "\n",
        "- Crea un diagrama de pares para visualizar las relaciones entre `income_woman` y `marriage_duration` en el DataFrame `divorce`.\n"
      ],
      "id": "590ecd1d"
    },
    {
      "cell_type": "code",
      "metadata": {},
      "source": [
        "# Create a pairplot for income_woman and marriage_duration\n",
        "sns.pairplot(data=divorce, vars=['income_woman', 'marriage_duration'])\n",
        "plt.show()"
      ],
      "id": "21213c63",
      "execution_count": null,
      "outputs": []
    },
    {
      "cell_type": "markdown",
      "metadata": {},
      "source": [
        "Al igual que la matriz de correlación , puedes ver que la relación entre `income_woman` y `marriage_duration` no es fuerte. También puedes tener una idea de las distribuciones de ambas variables en los gráficos superior izquierdo e inferior derecho.\n",
        "\n",
        "\n",
        "## Relaciones y distribuciones de los factores\n",
        "\n",
        "- Nivel de educación: male partner\n"
      ],
      "id": "647f83d9"
    },
    {
      "cell_type": "code",
      "metadata": {},
      "source": [
        "divorce['education_man'].value_counts()"
      ],
      "id": "ed0e8e51",
      "execution_count": null,
      "outputs": []
    },
    {
      "cell_type": "markdown",
      "metadata": {},
      "source": [
        "- Explorando las relaciones categóricas\n"
      ],
      "id": "11483f2b"
    },
    {
      "cell_type": "code",
      "metadata": {},
      "source": [
        "sns.histplot(data=divorce, x='marriage_duration', binwidth=1)\n",
        "plt.show()"
      ],
      "id": "12619c0a",
      "execution_count": null,
      "outputs": []
    },
    {
      "cell_type": "code",
      "metadata": {},
      "source": [
        "sns.histplot(data=divorce, x='marriage_duration', hue='education_man', binwidth=1)\n",
        "plt.show()"
      ],
      "id": "b81fa110",
      "execution_count": null,
      "outputs": []
    },
    {
      "cell_type": "markdown",
      "metadata": {},
      "source": [
        "- Kernel Desnsity Estimate (KDE) plots\n"
      ],
      "id": "3fe6e51a"
    },
    {
      "cell_type": "code",
      "metadata": {},
      "source": [
        "sns.kdeplot(data=divorce, x='marriage_duration', hue='education_man')\n",
        "plt.show()"
      ],
      "id": "65138c50",
      "execution_count": null,
      "outputs": []
    },
    {
      "cell_type": "markdown",
      "metadata": {},
      "source": [
        "Los gráficos KDE nos permiten visualizar las distribuciones. Los KDE son más interpretables, especialmente cuando se muestran varias distribuciones.\n",
        "\n",
        "La distribución con KDE parece sugerir que algunas parejas tuvieron duraciones menores a cero.\n",
        "\n",
        "Para solucionar esto, podempos utilizar el argumento de la palabra clave `cut`.\n"
      ],
      "id": "6f9625bc"
    },
    {
      "cell_type": "code",
      "metadata": {},
      "source": [
        "sns.kdeplot(data=divorce, x='marriage_duration', hue='education_man', cut=0)\n",
        "plt.show()"
      ],
      "id": "84e7207c",
      "execution_count": null,
      "outputs": []
    },
    {
      "cell_type": "markdown",
      "metadata": {},
      "source": [
        "- Gráficos KDE acumulativos\n"
      ],
      "id": "872418f1"
    },
    {
      "cell_type": "code",
      "metadata": {},
      "source": [
        "import seaborn as sns\n",
        "sns.kdeplot(data=divorce, x='marriage_duration', hue='education_man', cut=0, cumulative=True)\n",
        "plt.show()"
      ],
      "id": "b9f9c1ce",
      "execution_count": null,
      "outputs": []
    },
    {
      "cell_type": "markdown",
      "metadata": {},
      "source": [
        "Este gráfico describe la probabilidad de que la duración del matrimonio sea menor o igual al valor del eje x para cada nivel de educación de la pareja masculina.\n",
        "\n",
        "- Relación entre la edad del matrimonio y la educación\n",
        "    - Hay una relación entre la edad al momento del matrimonio y el nivel de educación?\n"
      ],
      "id": "48eaff58"
    },
    {
      "cell_type": "code",
      "metadata": {},
      "source": [
        "divorce['man_age_marriage'] = divorce['marriage_year'] - divorce['dob_man'].dt.year\n",
        "divorce['woman_age_marriage'] = divorce['marriage_year'] - divorce['dob_woman'].dt.year"
      ],
      "id": "84a4a9e9",
      "execution_count": null,
      "outputs": []
    },
    {
      "cell_type": "markdown",
      "metadata": {},
      "source": [
        "- Scatter plot con las variables categóricas\n"
      ],
      "id": "32fa650e"
    },
    {
      "cell_type": "code",
      "metadata": {},
      "source": [
        "sns.catplot(data=divorce, x='woman_age_marriage', y='man_age_marriage')\n",
        "plt.show()"
      ],
      "id": "f770e29e",
      "execution_count": null,
      "outputs": []
    },
    {
      "cell_type": "code",
      "metadata": {},
      "source": [
        "sns.catplot(data=divorce, x='woman_age_marriage', y='man_age_marriage', hue='education_man')\n",
        "plt.show()"
      ],
      "id": "d09586d5",
      "execution_count": null,
      "outputs": []
    },
    {
      "cell_type": "markdown",
      "metadata": {},
      "source": [
        "### Datos categóricos en gráficos de dispersión\n",
        "\n",
        "En el video se exploro cómo se relacionan el nivel educativo de los hombres y la edad al casarse con otras variables de nuestro conjunto de datos, el DataFrame `divorce`. Ahora verás cómo se relacionan la formación de las mujeres y la edad al casarse con otras variables.\n",
        "\n",
        "Tu tarea consiste en crear un diagrama de dispersión de la edad y los ingresos de cada mujer, incorporando la variable categórica del nivel educativo para obtener un contexto adicional.\n",
        "\n",
        "\n",
        "#### Instrucciones\n",
        "\n",
        "- Crea un gráfico de dispersión que muestre `woman_age_marriage` en el eje de abcisas y `income_woman` en el eje de las ordenadas, cada punto de datos debe colorearse en función del nivel educativo de la mujer, representado por `education_woman`.\n"
      ],
      "id": "5b31c1fb"
    },
    {
      "cell_type": "code",
      "metadata": {},
      "source": [
        "# Create a scatter plot\n",
        "sns.scatterplot(data=divorce, x='woman_age_marriage', y='income_woman', hue='education_woman')\n",
        "plt.show()"
      ],
      "id": "a231e78d",
      "execution_count": null,
      "outputs": []
    },
    {
      "cell_type": "markdown",
      "metadata": {},
      "source": [
        "Parece que hay una correlación positiva entre la educación profesional y los salarios más altos, como cabría esperar. La relación entre la edad de las mujeres al casarse y el nivel educativo es un poco menos clara.\n",
        "\n",
        "\n",
        "### Explorando con gráficos KDE\n",
        "\n",
        "Los gráficos de Estimación de Densidad del Núcleo (KDE) son una gran alternativa a los histogramas cuando quieres mostrar varias distribuciones en el mismo gráfico.\n",
        "\n",
        "Supongamos que te interesa la relación entre la duración del matrimonio y el número de hijos que tiene una pareja. Como los valores de la columna `num_kids` sólo van de uno a cinco, puedes graficar el KDE de cada valor en la misma gráfica.\n",
        "\n",
        "Recuerda que la columna `num_kids` de `divorce` solo muestra los valores `N/A` de las parejas sin hijos, por lo que solo verás las distribuciones de las parejas divorciadas con al menos un hijo.\n",
        "\n",
        "\n",
        "#### Instrucciones\n",
        "\n",
        "1.  Cree un gráfico KDE que muestre `marriage_duration` en el eje x y una línea de color diferente para cada posible número de hijos que pueda tener una pareja, representada por `num_kids`.\n"
      ],
      "id": "b6557646"
    },
    {
      "cell_type": "code",
      "metadata": {},
      "source": [
        "# Create the KDE plot\n",
        "sns.kdeplot(data=divorce, x='marriage_duration', hue='num_kids')\n",
        "plt.show()"
      ],
      "id": "e7259426",
      "execution_count": null,
      "outputs": []
    },
    {
      "cell_type": "markdown",
      "metadata": {},
      "source": [
        "2. Observa que actualmente el gráfico muestra duraciones del matrimonio inferiores a cero; actualiza el grafico KDE para que la duración del matrimonio no pueda suavizarse más allá de los puntos de datos extremos.\n"
      ],
      "id": "bdb0dbc4"
    },
    {
      "cell_type": "code",
      "metadata": {},
      "source": [
        "# Update the KDE plot so that marriage durantion can't be smoothed too far\n",
        "sns.kdeplot(data=divorce, x='marriage_duration', hue='num_kids', cut=0)\n",
        "plt.show()"
      ],
      "id": "42642e62",
      "execution_count": null,
      "outputs": []
    },
    {
      "cell_type": "markdown",
      "metadata": {},
      "source": [
        "3. Actualiza el código del gráfico KDE del paso anterior para que muestre una función de distribución acumulativo para cada número de hijos que tiene una pareja.\n"
      ],
      "id": "44cc51af"
    },
    {
      "cell_type": "code",
      "metadata": {},
      "source": [
        "# Update the KDE plot to show a cumulative distribution function\n",
        "sns.kdeplot(data=divorce, x='marriage_duration', hue='num_kids', cut=0, cumulative=True)\n",
        "plt.show()"
      ],
      "id": "02cf99be",
      "execution_count": null,
      "outputs": []
    },
    {
      "cell_type": "markdown",
      "metadata": {},
      "source": [
        "Parece que hay una correlación positiva entre matrimonios más largos y más hijos, pero por supuesto, esto no indica causalidad. También puedes ver que hay muchos menos datos sobre parejas con más de dos hijos; esto nos ayuda a entender cuan confiables son nuestros hallazgos."
      ],
      "id": "570c45fa"
    }
  ],
  "metadata": {
    "kernelspec": {
      "name": "venv",
      "language": "python",
      "display_name": "Python (venv)",
      "path": "/Users/edwinmacmini/Library/Jupyter/kernels/venv"
    }
  },
  "nbformat": 4,
  "nbformat_minor": 5
}