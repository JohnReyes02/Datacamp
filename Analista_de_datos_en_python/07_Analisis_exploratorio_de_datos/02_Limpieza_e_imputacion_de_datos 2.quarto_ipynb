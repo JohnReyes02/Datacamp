{
 "cells": [
  {
   "cell_type": "markdown",
   "id": "1179ecfd",
   "metadata": {},
   "source": [
    "# Limpieza e imputación de datos\n",
    "\n",
    "Explorar y analizar datos a menudo significa tratar con valores perdidos, tipos de datos incorrectos y valores atípicos. En este capítulo, aprenderás técnicas para gestionar estos problemas y agilizar tus procesos en EDA.\n",
    "\n",
    "## Tratar los datos que faltan\n",
    "\n",
    "-   Por qué un dato faltante es un problema?\n",
    "\n",
    "    -   Afectan las distribuciones\n",
    "    -   Los datos de la población son menos repreesntativos\n",
    "    -   Puede resultar en conclusiones incorrectas\n",
    "\n",
    "-   Ejemplo datos de profesionales de datos\n",
    "\n",
    "| Column | Description | Data type |\n",
    "|--------------------|---------------------------------|-------------------|\n",
    "| `Working_Year` | Year the data was obtained | Float |\n",
    "| `Designation` | Job title | String |\n",
    "| `Experience` | Experience level e.g., `\"Mid\"`, `\"Senior\"` | String |\n",
    "| `Employment_Satus` | Type of employment contract e.g., `\"FT\"`, `\"PT\"` | String |\n",
    "| `Employee_Location` | Country of employment | String |\n",
    "| `Company_Size` | Labels for company size e.g., `\"S\"`, `\"M\"`, `\"L\"` | String |\n",
    "| `Remote_Working_Ratio` | Porcentage of time working remotely | Integer |\n",
    "| `Salary_USD` | Salary in US dollars | Float |\n",
    "\n",
    "-   Revisando los datos faltantes"
   ]
  },
  {
   "cell_type": "code",
   "execution_count": 1,
   "id": "fa578c0c",
   "metadata": {},
   "outputs": [],
   "source": [
    "#| echo: true\n",
    "#| eval: false\n",
    "print(salaries.isna().sum())"
   ]
  },
  {
   "cell_type": "markdown",
   "id": "5e3ef3aa",
   "metadata": {},
   "source": [
    "![](images/paste-22.png)\n",
    "\n",
    "-   Estrategias para el manejo de datos faltantes\n",
    "\n",
    "    -   Eliminar los datos faltantes\n",
    "\n",
    "        -   5 % o menos del total de valores\n",
    "\n",
    "    -   Imputar la media, mediana o la moda\n",
    "\n",
    "        -   Depende de la distribución y contexto\n",
    "\n",
    "    -   Imputar por sub-grupos\n",
    "\n",
    "        -   Diferentes niveles de experiencia tienen diferente mediana en el salario\n",
    "\n",
    "-   Eliminando valores faltantes"
   ]
  },
  {
   "cell_type": "code",
   "execution_count": 2,
   "id": "0397fe41",
   "metadata": {},
   "outputs": [],
   "source": [
    "#| echo: true\n",
    "#| eval: false\n",
    "threshold = len(salaries) * 0.05\n",
    "print(threhold)"
   ]
  },
  {
   "cell_type": "markdown",
   "id": "f87e1270",
   "metadata": {},
   "source": [
    "![](images/paste-23.png)"
   ]
  },
  {
   "cell_type": "code",
   "execution_count": 3,
   "id": "32302d71",
   "metadata": {},
   "outputs": [],
   "source": [
    "# | echo: true\n",
    "# | eval: false\n",
    "cols_to_drop = salaries.columns[salaries.isna().sum() <= threshold]\n",
    "print(cols_to_drop)"
   ]
  },
  {
   "cell_type": "markdown",
   "id": "f1b09c5b",
   "metadata": {},
   "source": [
    "![](images/paste-24.png)"
   ]
  },
  {
   "cell_type": "code",
   "execution_count": 4,
   "id": "db0b98d2",
   "metadata": {},
   "outputs": [],
   "source": [
    "#| echo: true\n",
    "#| eval: false\n",
    "salaries.dropna(subset=cols_to_drop, inplace=True) # Para actualizar el DataFrame"
   ]
  },
  {
   "cell_type": "markdown",
   "id": "20af66e1",
   "metadata": {},
   "source": [
    "-   Imputando una estadística de resumen"
   ]
  },
  {
   "cell_type": "code",
   "execution_count": 5,
   "id": "1cdc2303",
   "metadata": {},
   "outputs": [],
   "source": [
    "#| echo: true\n",
    "#| eval: false\n",
    "cols_with_missing_values = salaries.columns[salaries.isna().sum() > 0]\n",
    "print(cols_with_missing_values)"
   ]
  },
  {
   "cell_type": "markdown",
   "id": "a26404be",
   "metadata": {},
   "source": [
    "![](images/paste-25.png)"
   ]
  },
  {
   "cell_type": "code",
   "execution_count": 6,
   "id": "2949d527",
   "metadata": {},
   "outputs": [],
   "source": [
    "#| echo: true\n",
    "#| eval: false\n",
    "    for col in cols_with_missing_values[:-1]:\n",
    "        salaries[col].fillna(salaries[col].mode()[0])"
   ]
  },
  {
   "cell_type": "markdown",
   "id": "e7efcb09",
   "metadata": {},
   "source": [
    "-   Revisando los valores faltantes que faltan"
   ]
  },
  {
   "cell_type": "code",
   "execution_count": 7,
   "id": "66ecc7ed",
   "metadata": {},
   "outputs": [],
   "source": [
    "#| echo: true\n",
    "#| eval: false\n",
    "print(salaries.isna().sum())"
   ]
  },
  {
   "cell_type": "markdown",
   "id": "2c0d4340",
   "metadata": {},
   "source": [
    "![](images/paste-26.png)\n",
    "\n",
    "-   Imputando por subgrupo"
   ]
  },
  {
   "cell_type": "code",
   "execution_count": 8,
   "id": "78bdb3b0",
   "metadata": {},
   "outputs": [],
   "source": [
    "#| echo: true\n",
    "#| eval: false\n",
    "salaries_dict = salaries.groupby('Experience')['Salary_USD'].median().to_dict()\n",
    "print(salaries_dict)"
   ]
  },
  {
   "cell_type": "markdown",
   "id": "4ff368f0",
   "metadata": {},
   "source": [
    "![](images/paste-27.png)"
   ]
  },
  {
   "cell_type": "code",
   "execution_count": 9,
   "id": "e1695d4d",
   "metadata": {},
   "outputs": [],
   "source": [
    "#| echo: true\n",
    "#| eval: false\n",
    "salaries['Salary_USD'] = salaries['Salary_USD'].fillna(salaries['Experience'].map(salaries_dict))"
   ]
  },
  {
   "cell_type": "markdown",
   "id": "113eb71a",
   "metadata": {},
   "source": [
    "![](images/paste-28.png)\n",
    "\n",
    "### Tratar los datos que faltan\n",
    "\n",
    "Es importante tratar los datos que faltan antes de empezar el análisis.\n",
    "\n",
    "Un enfoque consiste en descartar los valores que faltan si representan una pequeña proporción, normalmente el 5 %, de los datos.\n",
    "\n",
    "Trabajando con un conjunto de datos sobre precios de tiquetes de avión, almacenado como un DataFrame de pandas llamado `planes`, tendrás que contar el número de valores perdidos en todas las columnas, calcular el cinco porciento de todos los valores, utilizar este umbral para eliminar observaciones y comprobar cuántos valores perdidos quedan en el conjunto de datos."
   ]
  },
  {
   "cell_type": "code",
   "execution_count": 10,
   "id": "27b97a7a",
   "metadata": {},
   "outputs": [
    {
     "name": "stdout",
     "output_type": "stream",
     "text": [
      "<bound method NDFrame.head of            Airline Date_of_Journey    Source Destination  \\\n",
      "0      Jet Airways       9/06/2019     Delhi      Cochin   \n",
      "1           IndiGo      12/05/2019   Kolkata    Banglore   \n",
      "2           IndiGo      01/03/2019  Banglore   New Delhi   \n",
      "3         SpiceJet      24/06/2019   Kolkata    Banglore   \n",
      "4      Jet Airways      12/03/2019  Banglore   New Delhi   \n",
      "...            ...             ...       ...         ...   \n",
      "10655     Air Asia       9/04/2019   Kolkata    Banglore   \n",
      "10656    Air India      27/04/2019   Kolkata    Banglore   \n",
      "10657  Jet Airways      27/04/2019  Banglore       Delhi   \n",
      "10658      Vistara      01/03/2019  Banglore   New Delhi   \n",
      "10659    Air India       9/05/2019     Delhi      Cochin   \n",
      "\n",
      "                       Route Dep_Time  Arrival_Time Duration Total_Stops  \\\n",
      "0      DEL → LKO → BOM → COK    09:25  04:25 10 Jun      19h     2 stops   \n",
      "1            CCU → NAG → BLR    18:05         23:30   5h 25m      1 stop   \n",
      "2            BLR → NAG → DEL    16:50         21:35   4h 45m      1 stop   \n",
      "3                  CCU → BLR    09:00         11:25   2h 25m    non-stop   \n",
      "4            BLR → BOM → DEL    18:55  10:25 13 Mar  15h 30m      1 stop   \n",
      "...                      ...      ...           ...      ...         ...   \n",
      "10655              CCU → BLR    19:55         22:25   2h 30m    non-stop   \n",
      "10656              CCU → BLR    20:45         23:20   2h 35m    non-stop   \n",
      "10657              BLR → DEL      NaN         11:20       3h    non-stop   \n",
      "10658              BLR → DEL    11:30         14:10   2h 40m    non-stop   \n",
      "10659  DEL → GOI → BOM → COK    10:55         19:15   8h 20m     2 stops   \n",
      "\n",
      "                   Additional_Info    Price  \n",
      "0                          No info  13882.0  \n",
      "1                          No info   6218.0  \n",
      "2                          No info  13302.0  \n",
      "3                          No info   3873.0  \n",
      "4      In-flight meal not included  11087.0  \n",
      "...                            ...      ...  \n",
      "10655                      No info   4107.0  \n",
      "10656                      No info   4145.0  \n",
      "10657                          NaN   7229.0  \n",
      "10658                      No info  12648.0  \n",
      "10659                      No info  11753.0  \n",
      "\n",
      "[10660 rows x 11 columns]>\n"
     ]
    }
   ],
   "source": [
    "import pandas as pd\n",
    "\n",
    "ruta = './data/planes.csv'\n",
    "planes = pd.read_csv(ruta)\n",
    "print(planes.head)"
   ]
  },
  {
   "cell_type": "markdown",
   "id": "43dbf757",
   "metadata": {},
   "source": [
    "#### Instrucciones\n",
    "\n",
    "1.  Imprime el número de valores perdidos en cada columna del DataFrame"
   ]
  },
  {
   "cell_type": "code",
   "execution_count": 11,
   "id": "20d101c5",
   "metadata": {},
   "outputs": [
    {
     "name": "stdout",
     "output_type": "stream",
     "text": [
      "Airline            427\n",
      "Date_of_Journey    322\n",
      "Source             187\n",
      "Destination        347\n",
      "Route              256\n",
      "Dep_Time           260\n",
      "Arrival_Time       194\n",
      "Duration           214\n",
      "Total_Stops        212\n",
      "Additional_Info    589\n",
      "Price              616\n",
      "dtype: int64\n"
     ]
    }
   ],
   "source": [
    "# Count the number of missing values in each column\n",
    "print(planes.isna().sum())"
   ]
  },
  {
   "cell_type": "markdown",
   "id": "6d55f5ae",
   "metadata": {},
   "source": [
    "2.  Calcula a cuántas observaciones equivale el cinco porciento del DataFrame `planes`"
   ]
  },
  {
   "cell_type": "code",
   "execution_count": 12,
   "id": "6721e8c3",
   "metadata": {},
   "outputs": [
    {
     "name": "stdout",
     "output_type": "stream",
     "text": [
      "533.0\n"
     ]
    }
   ],
   "source": [
    "# Find the five percent threshold\n",
    "threshold = len(planes) * 0.05\n",
    "print(threshold)"
   ]
  },
  {
   "cell_type": "markdown",
   "id": "fa5a0777",
   "metadata": {},
   "source": [
    "3.  \n",
    "\n",
    "-   Crea `cols_to_drop` aplicando una indexación booleana a las columnas del DataFrame con valores perdidos menores o iguales que el umbral.\n",
    "\n",
    "-   Utiliza este filtro para eliminar los valores que faltan y guardar el DataFrame actualizado."
   ]
  },
  {
   "cell_type": "code",
   "execution_count": 13,
   "id": "3d554509",
   "metadata": {},
   "outputs": [
    {
     "name": "stdout",
     "output_type": "stream",
     "text": [
      "Index(['Airline', 'Date_of_Journey', 'Source', 'Destination', 'Route',\n",
      "       'Dep_Time', 'Arrival_Time', 'Duration', 'Total_Stops'],\n",
      "      dtype='object')\n",
      "Airline              0\n",
      "Date_of_Journey      0\n",
      "Source               0\n",
      "Destination          0\n",
      "Route                0\n",
      "Dep_Time             0\n",
      "Arrival_Time         0\n",
      "Duration             0\n",
      "Total_Stops          0\n",
      "Additional_Info    300\n",
      "Price              368\n",
      "dtype: int64\n"
     ]
    }
   ],
   "source": [
    "# Create a filter\n",
    "cols_to_drop = planes.columns[planes.isna().sum() <= threshold]\n",
    "print(cols_to_drop)\n",
    "\n",
    "# Drop missing values for columns below the threshold\n",
    "planes.dropna(subset=cols_to_drop, inplace=True)\n",
    "\n",
    "print(planes.isna().sum())"
   ]
  },
  {
   "cell_type": "markdown",
   "id": "ca5f69ed",
   "metadata": {},
   "source": [
    "Al crear un umbral de valores faltantes y usarlo para filtrar columnas, haz logrado eliminar los valores faltantes de todas las columnas excepto `\"Additinal_Info\"` y `\"Price\"`.\n",
    "\n",
    "### Estrategias para datos que faltan\n",
    "\n",
    "La regla del cinco porciento ha funcionado muy bien en tu conjunto de dato `planes`, ¡eliminando los valores perdidos de nueve de las 11 columnas!\n",
    "\n",
    "Ahora tienes que decidir qué hacer con las columnas `\"Additional_Info\"` y `\"Price\"`, a las que les faltan los valores `300` y `368` respectivamente.\n",
    "\n",
    "Primero echarás un vistazo a lo que contiene `\"Additional_Info\"`, y después visualizarás el precio de los billetes de avión de distintas compañías aéreas."
   ]
  },
  {
   "cell_type": "code",
   "execution_count": 14,
   "id": "7ab1975f",
   "metadata": {},
   "outputs": [],
   "source": [
    "import matplotlib.pyplot as plt\n",
    "import seaborn as sns"
   ]
  },
  {
   "cell_type": "markdown",
   "id": "cadd3e54",
   "metadata": {},
   "source": [
    "#### Instrucciones\n",
    "\n",
    "1.  Imprime los valores y frecuencias de `\"Additional_Info\"`."
   ]
  },
  {
   "cell_type": "code",
   "execution_count": 15,
   "id": "3960261d",
   "metadata": {},
   "outputs": [
    {
     "name": "stdout",
     "output_type": "stream",
     "text": [
      "Additional_Info\n",
      "No info                         6399\n",
      "In-flight meal not included     1525\n",
      "No check-in baggage included     258\n",
      "1 Long layover                    14\n",
      "Change airports                    7\n",
      "No Info                            2\n",
      "Business class                     1\n",
      "Red-eye flight                     1\n",
      "2 Long layover                     1\n",
      "Name: count, dtype: int64\n"
     ]
    }
   ],
   "source": [
    "# Check the values of the Additional_Info column\n",
    "print(planes['Additional_Info'].value_counts())"
   ]
  },
  {
   "cell_type": "markdown",
   "id": "88a79f5a",
   "metadata": {},
   "source": [
    "2.  Crea un boxplot de `\"Price\"` frente a `\"Airline\"`"
   ]
  },
  {
   "cell_type": "code",
   "execution_count": 16,
   "id": "7903213d",
   "metadata": {},
   "outputs": [
    {
     "data": {
      "image/png": "[encoded data removed]",
      "text/plain": [
       "<Figure size 672x480 with 1 Axes>"
      ]
     },
     "metadata": {},
     "output_type": "display_data"
    }
   ],
   "source": [
    "# Create a box plot of Price by Airline\n",
    "sns.boxplot(data=planes, x='Airline', y='Price',\n",
    "            hue='Airline', legend=False)\n",
    "\n",
    "plt.show()"
   ]
  },
  {
   "cell_type": "markdown",
   "id": "8f3b25b2",
   "metadata": {},
   "source": [
    "3.  **Pregunta**\n",
    "\n",
    "-   ¿Cómo debes tratar los valores que faltan en `\"Additional_Info\"` y `\"Price\"`.?\n",
    "\n",
    "**Respuestas Posibles**\n",
    "\n",
    "-   [ ] Elimina la columna `\"Additional_Info\"` e imputa la media para los valores que faltan de `\"Price\"`.\n",
    "-   [ ] Elimina los valores de `\"No info\"` de `\"Additiona_Info\"` e imputa la mediana de los valores que faltan de `\"Price\"`.\n",
    "-   [ ] Elimina la columna `\"Additional_Info\"` e imputa la media por `\"Airline\"` para los valores que falten de `\"Price\"`.\n",
    "-   [x] Elimina la columna `\"Additional_Info\"` e imputa la mediana por `\"Airline\"` para los valores que falten de `\"Price\"`.\n",
    "\n",
    "No necesitamos la columna `\"Additional_Info\"`, y deberías imputar la mediana de `\"Price\"` por `\"Airline\"` para representar los datos con precisión.\n",
    "\n",
    "### Imputar los precios de los aviones que faltan\n",
    "\n",
    "!Ahora solo queda una columna con valores perdidos!\n",
    "\n",
    "Has eliminado la columna `\"Additional_Info\"` de `planes`, el último paso es imputar los datos que faltan en la columna `\"Price\"` del conjunto de datos.\n",
    "\n",
    "Como recordatorio, tú generaste este diagrama de caja, que sugería que imputar el precio medio basándose en el `\"Airline\"` ¡es un enfoque sólido!"
   ]
  },
  {
   "cell_type": "code",
   "execution_count": 17,
   "id": "37e50c27",
   "metadata": {},
   "outputs": [
    {
     "data": {
      "text/plain": [
       "Index(['Airline', 'Date_of_Journey', 'Source', 'Destination', 'Route',\n",
       "       'Dep_Time', 'Arrival_Time', 'Duration', 'Total_Stops', 'Price'],\n",
       "      dtype='object')"
      ]
     },
     "execution_count": 39,
     "metadata": {},
     "output_type": "execute_result"
    }
   ],
   "source": [
    "# Eliminamos la columna Additional_Info\n",
    "planes = planes.drop('Additional_Info', axis=1)\n",
    "planes.columns"
   ]
  },
  {
   "cell_type": "markdown",
   "id": "2c3be9a8",
   "metadata": {},
   "source": [
    "#### Instrucciones\n",
    "\n",
    "1.  Agrupa `planes` por aerolínea y calcula el precio medio."
   ]
  },
  {
   "cell_type": "code",
   "execution_count": 18,
   "id": "1a540db3",
   "metadata": {},
   "outputs": [
    {
     "name": "stdout",
     "output_type": "stream",
     "text": [
      "Airline\n",
      "Air Asia              5192.0\n",
      "Air India             9443.0\n",
      "GoAir                 5003.5\n",
      "IndiGo                5054.0\n",
      "Jet Airways          11507.0\n",
      "Multiple carriers    10197.0\n",
      "SpiceJet              3873.0\n",
      "Vistara               8028.0\n",
      "Name: Price, dtype: float64\n"
     ]
    }
   ],
   "source": [
    "# Calculate median plane ticket prices by Airplane\n",
    "airline_prices = planes.groupby('Airline')['Price'].median()\n",
    "\n",
    "print(airline_prices)"
   ]
  },
  {
   "cell_type": "markdown",
   "id": "3203e0dd",
   "metadata": {},
   "source": [
    "2.  Convierte los precios medios agrupados en un diccionario."
   ]
  },
  {
   "cell_type": "code",
   "execution_count": 19,
   "id": "a6e8771f",
   "metadata": {},
   "outputs": [
    {
     "name": "stdout",
     "output_type": "stream",
     "text": [
      "{'Air Asia': 5192.0, 'Air India': 9443.0, 'GoAir': 5003.5, 'IndiGo': 5054.0, 'Jet Airways': 11507.0, 'Multiple carriers': 10197.0, 'SpiceJet': 3873.0, 'Vistara': 8028.0}\n"
     ]
    }
   ],
   "source": [
    "# Convert to a dictionary\n",
    "prices_dict = airline_prices.to_dict()\n",
    "print(prices_dict)"
   ]
  },
  {
   "cell_type": "markdown",
   "id": "4fea7010",
   "metadata": {},
   "source": [
    "3.  \n",
    "\n",
    "-   Imputa condicionalmente los valores perdidos de `\"Price\"` asignando los valores de la columna `\"Airline\"` en función de `prices_dict`\n",
    "\n",
    "-   Comprueba si faltan valores"
   ]
  },
  {
   "cell_type": "code",
   "execution_count": 20,
   "id": "f59c2115",
   "metadata": {},
   "outputs": [
    {
     "name": "stdout",
     "output_type": "stream",
     "text": [
      "Airline            0\n",
      "Date_of_Journey    0\n",
      "Source             0\n",
      "Destination        0\n",
      "Route              0\n",
      "Dep_Time           0\n",
      "Arrival_Time       0\n",
      "Duration           0\n",
      "Total_Stops        0\n",
      "Price              0\n",
      "dtype: int64\n"
     ]
    }
   ],
   "source": [
    "# Map the dictionary to missing values of Price by Airline\n",
    "planes['Price'] = planes['Price'].fillna(planes['Airline'].map(prices_dict))\n",
    "\n",
    "# Check for missing values\n",
    "print(planes.isna().sum())"
   ]
  },
  {
   "cell_type": "markdown",
   "id": "14a42b0c",
   "metadata": {},
   "source": [
    "Convertiste un DataFrame agrupado a un diccionario y luego lo usaste para llenar condicionalmente los valores faltantes de `\"Price\"` basándote en `\"Airline\"`. Ahora vamos a explorar cómo realizar análisis exploratorio en datos categóricos.\n",
    "\n",
    "## Convertir y analizar datos categóricos\n",
    "\n",
    "-   Previsualizar los datos"
   ]
  },
  {
   "cell_type": "code",
   "execution_count": 21,
   "id": "6c884699",
   "metadata": {},
   "outputs": [],
   "source": [
    "#| echo: true\n",
    "#| eval: false\n",
    "print(salaries.select_dtypes('object').head())"
   ]
  },
  {
   "cell_type": "markdown",
   "id": "2ead9300",
   "metadata": {},
   "source": [
    "![](images/paste-29.png)\n",
    "\n",
    "-   Títulos de los trabajos"
   ]
  },
  {
   "cell_type": "code",
   "execution_count": 22,
   "id": "a570c180",
   "metadata": {},
   "outputs": [],
   "source": [
    "#| echo: true\n",
    "#| eval: false\n",
    "print(salaries['Designation'].value_counts())"
   ]
  },
  {
   "cell_type": "markdown",
   "id": "6748a707",
   "metadata": {},
   "source": [
    "![](images/paste-30.png)"
   ]
  },
  {
   "cell_type": "code",
   "execution_count": 23,
   "id": "ecd2b6d8",
   "metadata": {},
   "outputs": [],
   "source": [
    "# | echo: true\n",
    "# | eval: false\n",
    "print(salaries['Designation'].nunique())"
   ]
  },
  {
   "cell_type": "markdown",
   "id": "1b95ee08",
   "metadata": {},
   "source": [
    "![](images/paste-31.png)\n",
    "\n",
    "![](images/paste-32.png)\n",
    "\n",
    "-   Extrayendo valores desde las categorías\n",
    "\n",
    "    -   El formato actual de los datos limita la capacidad de generar información.\n",
    "\n",
    "    -   `pandas.Series.str.contains()`\n",
    "\n",
    "        -   Busca en una columna una cadena especifica o múltiples cadenas."
   ]
  },
  {
   "cell_type": "code",
   "execution_count": 24,
   "id": "2d205b8a",
   "metadata": {},
   "outputs": [],
   "source": [
    "#| echo: true\n",
    "#| eval: false\n",
    "salaries['Designation'].str.contains('Scientist')"
   ]
  },
  {
   "cell_type": "markdown",
   "id": "7c53aae0",
   "metadata": {},
   "source": [
    "![](images/paste-33.png)\n",
    "\n",
    "-   Filtrar filas que contienen una o más frases\n",
    "\n",
    "    -   Palabras de interes: Machine Learning o AI"
   ]
  },
  {
   "cell_type": "code",
   "execution_count": 25,
   "id": "7aacc144",
   "metadata": {},
   "outputs": [],
   "source": [
    "#| echo: true\n",
    "#| eval: false\n",
    "salaries['Designation'].str.contains('Machine Learning|AI')"
   ]
  },
  {
   "cell_type": "markdown",
   "id": "20696427",
   "metadata": {},
   "source": [
    "![](images/paste-34.png)\n",
    "\n",
    "-   Buscar múltiples frases en una cadena de caracteres\n",
    "\n",
    "    -   Palabras de interes: Cualquiera que inicie con Data"
   ]
  },
  {
   "cell_type": "code",
   "execution_count": 26,
   "id": "22368fde",
   "metadata": {},
   "outputs": [],
   "source": [
    "# | echo: true\n",
    "# | eval: false\n",
    "salaries['Designation'].str.contains('ˆData')"
   ]
  },
  {
   "cell_type": "markdown",
   "id": "387f0da9",
   "metadata": {},
   "source": [
    "![](images/paste-35.png)\n",
    "\n",
    "Ahora que se tiene una idea de cómo funciona este método, definamos una lista de títulos de trabajo que queremos encontrar:"
   ]
  },
  {
   "cell_type": "code",
   "execution_count": 27,
   "id": "8a1805d1",
   "metadata": {},
   "outputs": [],
   "source": [
    "#| echo: true\n",
    "#| eval: false\n",
    "job_categories = ['Data Science', 'Data Analytics',\n",
    "                   'Data Engineering', 'Machine Learning',\n",
    "                   'Managerial', 'Consultant']"
   ]
  },
  {
   "cell_type": "markdown",
   "id": "d00ea0ab",
   "metadata": {},
   "source": [
    "Luego necesitamos crear variables que contengan nuestros filtros"
   ]
  },
  {
   "cell_type": "code",
   "execution_count": 28,
   "id": "7ea5ff88",
   "metadata": {},
   "outputs": [],
   "source": [
    "#| echo: true\n",
    "#| eval: false\n",
    "data_science = 'Data Scientist|NLP'\n",
    "data_analyst = 'Analyst|Analytics'\n",
    "data_engineer = 'Data Engineer|ETL|Architect|Infrastructure'\n",
    "ml_engineer = 'Machine Learning|ML|Bid Data|AI'\n",
    "manager = 'Manager|Head|Director|Lead|Principal|Staff'\n",
    "consultant = 'Consultant|Freelance'"
   ]
  },
  {
   "cell_type": "markdown",
   "id": "cb1a7a76",
   "metadata": {},
   "source": [
    "El siguiente paso es crear una lista con nuestro rango de condiciones para el método `str.contains`"
   ]
  },
  {
   "cell_type": "code",
   "execution_count": 29,
   "id": "facc66e6",
   "metadata": {},
   "outputs": [],
   "source": [
    "#| echo: true\n",
    "#| eval: false\n",
    "conditions = [\n",
    "    (salaries['Designation'].str.contains(data_science)),\n",
    "    (salaries['Designation'].str.contains(data_analyst)),\n",
    "    (salaries['Designation'].str.contains(data_engineer)),\n",
    "    (salaries['Designation'].str.contains(ml_engineer)),\n",
    "    (salaries['Designation'].str.contains(manager)),\n",
    "    (salaries['Designation'].str.contains(consultant))\n",
    "]"
   ]
  },
  {
   "cell_type": "markdown",
   "id": "31ab7faf",
   "metadata": {},
   "source": [
    "Finalmente, podemos crear nuestra nueva columna `Job_Category` usando la función de selección de Numpy"
   ]
  },
  {
   "cell_type": "code",
   "execution_count": 30,
   "id": "1683ecfd",
   "metadata": {},
   "outputs": [],
   "source": [
    "#| echo: true\n",
    "#| eval: false\n",
    "salaries['Job_Category'] = np.select(conditions,\n",
    "                                     job_categories,\n",
    "                                     default='Other')"
   ]
  },
  {
   "cell_type": "markdown",
   "id": "1dd61824",
   "metadata": {},
   "source": [
    "Al obtener una vista previa de la Designación y nuestra nueva columna Job_Category, podemos verificar los primeros cinco valores."
   ]
  },
  {
   "cell_type": "code",
   "execution_count": 31,
   "id": "c70b1291",
   "metadata": {},
   "outputs": [],
   "source": [
    "#| echo: true\n",
    "#| eval: false\n",
    "print(salaries[['Designation', 'Job_Category']].head())"
   ]
  },
  {
   "cell_type": "markdown",
   "id": "f3ec1d39",
   "metadata": {},
   "source": [
    "![](images/paste-36.png)\n",
    "\n",
    "-   Visualización de la frecuencia de la categoría job"
   ]
  },
  {
   "cell_type": "code",
   "execution_count": 32,
   "id": "079af81b",
   "metadata": {},
   "outputs": [],
   "source": [
    "#| echo: true\n",
    "#| eval: false\n",
    "sns.countplot(data=salaries, x='Job_Category')\n",
    "plt.show()"
   ]
  },
  {
   "cell_type": "markdown",
   "id": "03f9f052",
   "metadata": {},
   "source": [
    "![](images/paste-37.png)\n",
    "\n",
    "### Encontrar el número de valores únicos\n",
    "\n",
    "Te gustaría practicar algunas de las habilidades de manipulación y análisis de datos categóricos que acabas de ver. Para ayudarte a identificar qué datos podrían reformatearse para extraer valor, vas a averiguar qué columnas no numéricas del conjunto de datos `planes` tienen un gran número de valores únicos.\n",
    "\n",
    "#### Instrucciones\n",
    "\n",
    "-   Filtra `planes` para las columnas que sean del tipo datos `\"object\"`.\n",
    "\n",
    "-   Recorre las columnas del conjunto de datos.\n",
    "\n",
    "-   Añade el iterador de columna a la sentencia print y, a continucación, llama a la función para que devuelva el número de valores únicos de la columna."
   ]
  },
  {
   "cell_type": "code",
   "execution_count": 33,
   "id": "4925f2e4",
   "metadata": {},
   "outputs": [
    {
     "name": "stdout",
     "output_type": "stream",
     "text": [
      "Number of unique values in Airline column: 8\n",
      "Number of unique values in Date_of_Journey column: 44\n",
      "Number of unique values in Source column: 5\n",
      "Number of unique values in Destination column: 6\n",
      "Number of unique values in Route column: 122\n",
      "Number of unique values in Dep_Time column: 218\n",
      "Number of unique values in Arrival_Time column: 1220\n",
      "Number of unique values in Duration column: 362\n",
      "Number of unique values in Total_Stops column: 5\n"
     ]
    }
   ],
   "source": [
    "# Filter the DataFrame for objects columns\n",
    "non_numeric = planes.select_dtypes('object')\n",
    "\n",
    "# Loop through columns\n",
    "for column in non_numeric.columns:\n",
    "    # Print the number of unique values\n",
    "    print(f\"Number of unique values in {column} column: {non_numeric[column].nunique()}\")"
   ]
  },
  {
   "cell_type": "markdown",
   "id": "ce558c81",
   "metadata": {},
   "source": [
    "Curiosamente, `\"Duration\"` es actualmente una columna de tipo objeto cuando debería ser una columna numérica, ¡y tiene 362 valores únicos! Vamos a averiguar más sobre esta columna.\n",
    "\n",
    "### Categoría de duración de vuelos\n",
    "\n",
    "Como has visto, hay 362 valores únicos en la columna `\"Duration\"` de `planes`. Llamando a `planes['Duration'].head()`, vemos los siguientes valores."
   ]
  },
  {
   "cell_type": "code",
   "execution_count": 34,
   "id": "6d3a9302",
   "metadata": {},
   "outputs": [
    {
     "data": {
      "text/plain": [
       "0        19h\n",
       "1     5h 25m\n",
       "2     4h 45m\n",
       "3     2h 25m\n",
       "4    15h 30m\n",
       "Name: Duration, dtype: object"
      ]
     },
     "execution_count": 44,
     "metadata": {},
     "output_type": "execute_result"
    }
   ],
   "source": [
    "#| echo: false\n",
    "planes['Duration'].head()"
   ]
  },
  {
   "cell_type": "markdown",
   "id": "790c5e90",
   "metadata": {},
   "source": [
    "Parece que no será sencillo convertirlo a números. Sin embargo, ¡podrías clasificar los vuelos por duración y examinar la frecuencia de las distintas longitudes de vuelo!\n",
    "\n",
    "Crearás una columna `\"Duration_Category\"` en el DataFrame `planes`. Antes tendrás que crear una lista de valores que deseas insertar en el DataFrame, seguida de los valores existentes a partir de los cuales deben crearse.\n",
    "\n",
    "#### Instrucciones\n",
    "\n",
    "1.  Crea una lista de categorías que contengan `\"Short-haul\"`, `\"Medium\"` y `\"Long-haul\"`."
   ]
  },
  {
   "cell_type": "code",
   "execution_count": 35,
   "id": "77c71c97",
   "metadata": {},
   "outputs": [],
   "source": [
    "# Create a list of categories\n",
    "flight_categories = ['Short-haul', 'Medium', 'Long-haul']"
   ]
  },
  {
   "cell_type": "markdown",
   "id": "85bd9013",
   "metadata": {},
   "source": [
    "2.  \n",
    "\n",
    "-   Crea `short_flights`, una cadena para capturar valores de `\"0h\"`, `\"1h\"`, `\"2h\"`, `\"3h\"`, `\"4h\"` teniendo cuidado de evitar valores como `\"10h\"`.\n",
    "\n",
    "-   Crea `medium_flights` para capturar cualquier valor entre cinco y nueve horas. \\~\n",
    "\n",
    "-   Crea `long_flights` para capturar cualquier valor comprendido entre 10 y 16 horas, ambos inclusive."
   ]
  },
  {
   "cell_type": "code",
   "execution_count": 36,
   "id": "6d89d24b",
   "metadata": {},
   "outputs": [],
   "source": [
    "# Create a list of categories\n",
    "flight_categories = ['Short-haul', 'Medium', 'Long-haul']\n",
    "\n",
    "# Create short-haul values\n",
    "short_flights = '^0h|^1h|^2h|^3h|^4h'\n",
    "\n",
    "# Create medium-haul values\n",
    "medium_flights = '^5h|^6h|^7h|^8h|^9h'\n",
    "\n",
    "# Create long-haul values\n",
    "long_flights = '^10h|^11h|^12h|^13h|^14h|^15h|^16h'"
   ]
  },
  {
   "cell_type": "markdown",
   "id": "6662b7be",
   "metadata": {},
   "source": [
    "Ahora has creado tus categorías y valores, es hora de agregar condicionalmente las categorías en el DataFrame\n",
    "\n",
    "### Añadir categorías de duración\n",
    "\n",
    "Ahora que has configurado las categorías y los valores que quieres capturar, ¡es hora de construir una nueva columna para analizar la frecuencia de los vuelos según su duración!\n",
    "\n",
    "Las variables`flight_categories`, `short_flights`, `medium_flights` y `long_flights` que creaste anteriormente están a tu disposición."
   ]
  },
  {
   "cell_type": "code",
   "execution_count": 37,
   "id": "e3c80d7d",
   "metadata": {},
   "outputs": [],
   "source": [
    "import numpy as np"
   ]
  },
  {
   "cell_type": "markdown",
   "id": "fa0da3cf",
   "metadata": {},
   "source": [
    "#### Instrucciones\n",
    "\n",
    "-   Crea `conditions`, una lista que contenga subconjuntos de `planes['Duration']` basados en `short_flights`, `medium_flights` y `long_flights`.\n",
    "\n",
    "-   Crea la columna `\"Duration_Category\"` llamando a una función que acepte tu lista `conditions` y `flight_categories`, estableciendo los valores no encontrados en `\"Extreme duration\"`.\n",
    "\n",
    "-   Crea un gráfico fque muestre el recuento de cada categoría."
   ]
  },
  {
   "cell_type": "code",
   "execution_count": 38,
   "id": "878af5e9",
   "metadata": {},
   "outputs": [
    {
     "data": {
      "image/png": "[encoded data removed]",
      "text/plain": [
       "<Figure size 672x480 with 1 Axes>"
      ]
     },
     "metadata": {},
     "output_type": "display_data"
    }
   ],
   "source": [
    "# Create conditions for values in flight_categories to be created\n",
    "conditions = [\n",
    "    (planes['Duration'].str.contains(short_flights)),\n",
    "    (planes['Duration'].str.contains(medium_flights)),\n",
    "    (planes['Duration'].str.contains(long_flights))\n",
    "]\n",
    "\n",
    "# Apply the conditions list to the flight_categories\n",
    "planes['Duration_Category'] = np.select(conditions, flight_categories,\n",
    "                                        default='Extreme duration')\n",
    "\n",
    "# Plot the counts of each categoryß\n",
    "sns.countplot(data=planes, x='Duration_Category',\n",
    "              hue='Duration_Category', legend=False)\n",
    "plt.show()"
   ]
  },
  {
   "cell_type": "markdown",
   "id": "088ea325",
   "metadata": {},
   "source": [
    "¡Está claro que la mayoría de los vuelos son de corta distancia.\n",
    "\n",
    "## Trabajar con datos numéricos\n",
    "\n",
    "-   El dataset origina de los salarios"
   ]
  },
  {
   "cell_type": "code",
   "execution_count": 39,
   "id": "7b3a8f00",
   "metadata": {},
   "outputs": [],
   "source": [
    "#| echo: true\n",
    "#| eval: false\n",
    "print(salaries.info())"
   ]
  },
  {
   "cell_type": "markdown",
   "id": "f8557c26",
   "metadata": {},
   "source": [
    "![](images/paste-38.png)\n",
    "\n",
    "-   Salario en Rupias"
   ]
  },
  {
   "cell_type": "code",
   "execution_count": 40,
   "id": "8f3ed495",
   "metadata": {},
   "outputs": [],
   "source": [
    "#| echo: true\n",
    "#| eval: false\n",
    "print(salaries['Salary_In_Rupees'].head())"
   ]
  },
  {
   "cell_type": "markdown",
   "id": "b3fe95de",
   "metadata": {},
   "source": [
    "![](images/paste-39.png)\n",
    "\n",
    "-   Convirtiendo cadena de caracteres en números\n",
    "\n",
    "    -   Remover las comas de los valores `Salary_In_Rupees`\n",
    "\n",
    "    -   Convertir la columna a tipo de dato `float`\n",
    "\n",
    "    -   Crear una nueva columna convirtiendo la moneda a dólares"
   ]
  },
  {
   "cell_type": "code",
   "execution_count": 41,
   "id": "f7c40b01",
   "metadata": {},
   "outputs": [],
   "source": [
    "#| echo: true\n",
    "#| eval: false\n",
    "pd.Series.str.replace('Caracter a remover', 'Caracter a reemplazar')"
   ]
  },
  {
   "cell_type": "code",
   "execution_count": 42,
   "id": "a7f34a5c",
   "metadata": {},
   "outputs": [],
   "source": [
    "#| echo: true\n",
    "#| eval: false\n",
    "salaries['Salary_In_Rupees'] = salaries['Salary_In_Rupees'].str.replace(',', '')\n",
    "print(salaries['Salary_In_Rupees'].head())"
   ]
  },
  {
   "cell_type": "markdown",
   "id": "44aea884",
   "metadata": {},
   "source": [
    "![](images/paste-40.png)"
   ]
  },
  {
   "cell_type": "code",
   "execution_count": 43,
   "id": "a51904f1",
   "metadata": {},
   "outputs": [],
   "source": [
    "#| echo: true\n",
    "#| eval: false\n",
    "salaries['Salary_In_Rupees'] = salaries['Salary_In_Rupees'].astype(float) "
   ]
  },
  {
   "cell_type": "markdown",
   "id": "bd4b41fa",
   "metadata": {},
   "source": [
    "1 Indian Rupee = 0.012 US Dollars"
   ]
  },
  {
   "cell_type": "code",
   "execution_count": 44,
   "id": "49aec036",
   "metadata": {},
   "outputs": [],
   "source": [
    "#| echo: true\n",
    "#| eval: false\n",
    "salaries['Salary_USD'] = salaries['Salary_In_Rupees'] * 0.012"
   ]
  },
  {
   "cell_type": "markdown",
   "id": "67c82ebc",
   "metadata": {},
   "source": [
    "-   Previsualizando la nueva columna"
   ]
  },
  {
   "cell_type": "code",
   "execution_count": 45,
   "id": "64be12f9",
   "metadata": {},
   "outputs": [],
   "source": [
    "#| echo: true\n",
    "#| eval: false\n",
    "print(salaries[['Salary_In_Rupees', 'Salary_USD']].head())"
   ]
  },
  {
   "cell_type": "markdown",
   "id": "d37dcfe9",
   "metadata": {},
   "source": [
    "![](images/paste-41.png)\n",
    "\n",
    "-   Añadiendo un resumen esrtadístico al DataFrame"
   ]
  },
  {
   "cell_type": "code",
   "execution_count": 46,
   "id": "15bb8aa4",
   "metadata": {},
   "outputs": [],
   "source": [
    "#| echo: true\n",
    "#| eval: false\n",
    "salaries.groupby('Company_Size')['Salary_USD'].mean()"
   ]
  },
  {
   "cell_type": "markdown",
   "id": "c1cd0f87",
   "metadata": {},
   "source": [
    "![](images/paste-42.png)\n",
    "\n",
    "Calculo de la desviación estándar de los salarios por experiencia:\n",
    "\n",
    "![](images/paste-43.png)"
   ]
  },
  {
   "cell_type": "code",
   "execution_count": 47,
   "id": "83cae023",
   "metadata": {},
   "outputs": [],
   "source": [
    "#| echo: true\n",
    "#| eval: false\n",
    "salaries['std_dev'] = salaries.groupby('Experience') \\ \n",
    "                      ['Salary_USD'].transform(lambda x: x.std())"
   ]
  },
  {
   "cell_type": "code",
   "execution_count": 48,
   "id": "7eff31b8",
   "metadata": {},
   "outputs": [],
   "source": [
    "#| echo: true\n",
    "#| eval: false\n",
    "print(salaries[['Experience', 'std_dev']].value_counts())"
   ]
  },
  {
   "cell_type": "markdown",
   "id": "f183bc40",
   "metadata": {},
   "source": [
    "![](images/paste-44.png)\n",
    "\n",
    "Repitamos el proceso para otros datos estadísticos:"
   ]
  },
  {
   "cell_type": "code",
   "execution_count": 49,
   "id": "d49eb20a",
   "metadata": {},
   "outputs": [],
   "source": [
    "#| echo: true\n",
    "#| eval: false\n",
    "salaries['median_by_comp_size'] = salaries.groupby('Company_Size') \\\n",
    "                                  ['Salary_USD'].transform(lambda x: x.median())"
   ]
  },
  {
   "cell_type": "code",
   "execution_count": 50,
   "id": "6bfca92a",
   "metadata": {},
   "outputs": [],
   "source": [
    "#| echo: true\n",
    "#| eval: false\n",
    "print(salaries[['Company_Size', 'median_by_comp_size']].head())"
   ]
  },
  {
   "cell_type": "markdown",
   "id": "fd2308ec",
   "metadata": {},
   "source": [
    "![](images/paste-45.png)\n",
    "\n",
    "### Duración del vuelo\n",
    "\n",
    "Te gustaría analizar la duración de los vuelos, pero por desgracia, la columna `\"Duration\"` de DataFrame `planes` contiene actualmente valores de cadena.\n",
    "\n",
    "Tendrás que limpiar la columna y convertirla al tipo de datos correcto para el análisis."
   ]
  },
  {
   "cell_type": "code",
   "execution_count": 51,
   "id": "d88806b9",
   "metadata": {},
   "outputs": [],
   "source": [
    "import re\n",
    "\n",
    "def duration_to_decimal_str(duration_str: str) -> str:\n",
    "    '''\n",
    "    Convierte una duración de vuelo de formato '2h 30m' a una cadena en formato decimal en horas, como '2.5h'.\n",
    "    \n",
    "    Parámetros:\n",
    "    -----------\n",
    "    duration_str : str\n",
    "        Cadena de texto que representa la duración de un vuelo, como '2h 30m', '45m', '19h', etc.\n",
    "\n",
    "    Retorna:\n",
    "    --------\n",
    "    str\n",
    "        Cadena con duración expresada en horas decimales, con un solo decimal y el sufijo 'h'. Ej: '2.5h'\n",
    "    '''\n",
    "    horas = re.search(r'(\\d+)\\s*h', duration_str)\n",
    "    minutos = re.search(r'(\\d+)\\s*m', duration_str)\n",
    "\n",
    "    h = int(horas.group(1)) if horas else 0\n",
    "    m = int(minutos.group(1)) if minutos else 0\n",
    "\n",
    "    decimal_hours = round(h + m / 60, 1)\n",
    "    return f'{decimal_hours}h'\n",
    "\n",
    "\n",
    "\n",
    "planes['Duration'] = planes['Duration'].apply(duration_to_decimal_str)"
   ]
  },
  {
   "cell_type": "markdown",
   "id": "53a0415b",
   "metadata": {},
   "source": [
    "#### Instrucciones\n",
    "\n",
    "1.  Imprime los cinco primeros valores de la columna `\"Duration\"`."
   ]
  },
  {
   "cell_type": "code",
   "execution_count": 52,
   "id": "d8247074",
   "metadata": {},
   "outputs": [
    {
     "name": "stdout",
     "output_type": "stream",
     "text": [
      "0    19.0h\n",
      "1     5.4h\n",
      "2     4.8h\n",
      "3     2.4h\n",
      "4    15.5h\n",
      "Name: Duration, dtype: object\n"
     ]
    }
   ],
   "source": [
    "# Preview the column\n",
    "print(planes['Duration'].head())"
   ]
  },
  {
   "cell_type": "markdown",
   "id": "2fe92b46",
   "metadata": {},
   "source": [
    "2.  Retira `\"h\"` de la columna"
   ]
  },
  {
   "cell_type": "code",
   "execution_count": 53,
   "id": "df459780",
   "metadata": {},
   "outputs": [
    {
     "name": "stdout",
     "output_type": "stream",
     "text": [
      "0    19.0\n",
      "1     5.4\n",
      "2     4.8\n",
      "3     2.4\n",
      "4    15.5\n",
      "Name: Duration, dtype: object\n"
     ]
    }
   ],
   "source": [
    "# Remove the string character\n",
    "planes['Duration'] = planes['Duration'].str.replace('h', '')\n",
    "print(planes['Duration'].head())"
   ]
  },
  {
   "cell_type": "markdown",
   "id": "1834b14e",
   "metadata": {},
   "source": [
    "3.  Convierte la columna al tipo de datos `float`."
   ]
  },
  {
   "cell_type": "code",
   "execution_count": 54,
   "id": "6fc860a2",
   "metadata": {},
   "outputs": [
    {
     "name": "stdout",
     "output_type": "stream",
     "text": [
      "0    19.0\n",
      "1     5.4\n",
      "2     4.8\n",
      "3     2.4\n",
      "4    15.5\n",
      "Name: Duration, dtype: float64\n"
     ]
    }
   ],
   "source": [
    "# Convert to float data type\n",
    "planes['Duration'] = planes['Duration'].astype(float)\n",
    "print(planes['Duration'].head())"
   ]
  },
  {
   "cell_type": "markdown",
   "id": "701d2e50",
   "metadata": {},
   "source": [
    "4.  Traza un histograma de los valores de `\"Duration\"`"
   ]
  },
  {
   "cell_type": "code",
   "execution_count": 55,
   "id": "9ee7d335",
   "metadata": {},
   "outputs": [
    {
     "data": {
      "image/png": "[encoded data removed]",
      "text/plain": [
       "<Figure size 672x480 with 1 Axes>"
      ]
     },
     "metadata": {},
     "output_type": "display_data"
    }
   ],
   "source": [
    "# Plot a histogram\n",
    "sns.histplot(data=planes, x='Duration')\n",
    "plt.show()"
   ]
  },
  {
   "cell_type": "markdown",
   "id": "f28d06db",
   "metadata": {},
   "source": [
    "### Añadir estadísticas descriptivas\n",
    "\n",
    "Ahora `\"Duration\"` y `\"Price\"`contienen valores numéricos en el DataFrame `planes`, y te gustaría calcular para ellos estadísticas de resumen condicionadas a los valores de otras columnas.\n",
    "\n",
    "#### Instrucciones\n",
    "\n",
    "1.  Añade una columna a `planes` que contenga la desviación estándar de `\"Price\"` basada en `\"Airline\"`."
   ]
  },
  {
   "cell_type": "code",
   "execution_count": 56,
   "id": "852315a7",
   "metadata": {},
   "outputs": [
    {
     "name": "stdout",
     "output_type": "stream",
     "text": [
      "Airline            airline_price_st_dev\n",
      "Jet Airways        4159.846432             3082\n",
      "IndiGo             2245.529140             1632\n",
      "Air India          3692.609285             1399\n",
      "Multiple carriers  3558.323763              959\n",
      "SpiceJet           1798.900648              653\n",
      "Vistara            2888.915498              376\n",
      "Air Asia           1979.826234              260\n",
      "GoAir              2764.926625              147\n",
      "Name: count, dtype: int64\n"
     ]
    }
   ],
   "source": [
    "# Price standard deviation by Airline\n",
    "planes['airline_price_st_dev'] = planes.groupby('Airline')['Price'].transform(lambda x: x.std())\n",
    "print(planes[['Airline', 'airline_price_st_dev']].value_counts())"
   ]
  },
  {
   "cell_type": "markdown",
   "id": "75cdf59e",
   "metadata": {},
   "source": [
    "2.  Calcula la mediana de `\"Duration\"` en `\"Airline\"`, almacenándola como una columna llamada `\"airline_median_duration\"`."
   ]
  },
  {
   "cell_type": "code",
   "execution_count": 57,
   "id": "9d9bba58",
   "metadata": {},
   "outputs": [
    {
     "name": "stdout",
     "output_type": "stream",
     "text": [
      "Airline            airline_median_duration\n",
      "Jet Airways        13.3                       3082\n",
      "IndiGo             2.9                        1632\n",
      "Air India          15.5                       1399\n",
      "Multiple carriers  10.2                        959\n",
      "SpiceJet           2.5                         653\n",
      "Vistara            3.2                         376\n",
      "Air Asia           2.8                         260\n",
      "GoAir              2.9                         147\n",
      "Name: count, dtype: int64\n"
     ]
    }
   ],
   "source": [
    "# Median Duration by Airline\n",
    "planes['airline_median_duration'] = planes.groupby('Airline')['Duration'].transform(lambda x: x.median())\n",
    "print(planes[['Airline', 'airline_median_duration']].value_counts())"
   ]
  },
  {
   "cell_type": "markdown",
   "id": "e224ff8c",
   "metadata": {},
   "source": [
    "3.  Encuenta la media `\"Price\"` por `\"Destination\"`, guardándola como una columna llamada `\"price_destination_mean\"`."
   ]
  },
  {
   "cell_type": "code",
   "execution_count": 58,
   "id": "e5d10963",
   "metadata": {},
   "outputs": [
    {
     "name": "stdout",
     "output_type": "stream",
     "text": [
      "Destination  price_destination_mean\n",
      "Cochin       10473.585927              3631\n",
      "Banglore     9093.622872               2291\n",
      "Delhi        5248.541082                998\n",
      "New Delhi    11579.306944               720\n",
      "Hyderabad    5190.274021                562\n",
      "Kolkata      4907.156863                306\n",
      "Name: count, dtype: int64\n"
     ]
    }
   ],
   "source": [
    "# Mean Price by Destination\n",
    "planes['price_destination_mean'] = planes.groupby('Destination')['Price'].transform(lambda x: x.mean())\n",
    "print(planes[['Destination', 'price_destination_mean']].value_counts())"
   ]
  },
  {
   "cell_type": "markdown",
   "id": "7fd128f4",
   "metadata": {},
   "source": [
    "Parece que Jet Airways tiene la mayor desviación estándar en precio, Air India tiene la mayor duración median, y Nueva Delhi, en promedio, es el destiono más caro. Ahora veamos cómo manejar los datos atípicos.\n",
    "\n",
    "## Gestión de valores atípicos\n",
    "\n",
    "-   Qué es un outlier?\n",
    "    -   Es una observación que está muy alejada de otros puntos de datos.\n",
    "-   Usando estadística descriptiva"
   ]
  },
  {
   "cell_type": "code",
   "execution_count": 59,
   "id": "9d60a77f",
   "metadata": {},
   "outputs": [],
   "source": [
    "#| echo: true\n",
    "#| eval: false\n",
    "print(salaries['Salary_USD'].describe())"
   ]
  },
  {
   "cell_type": "markdown",
   "id": "ccfe67db",
   "metadata": {},
   "source": [
    "![](images/paste-46.png)\n",
    "\n",
    "-   Usando el rango intercuartil\n",
    "\n",
    "    -   Rango intercuartil (IQR)\n",
    "\n",
    "        -   IQR = 75th - 25th percentil\n",
    "\n",
    "        -   Upper outliers \\> 75th percentile + (1.5 \\* IQR)\n",
    "\n",
    "        -   Lower Outliers \\< 25th percentile - (1.5 \\* IQR)"
   ]
  },
  {
   "cell_type": "code",
   "execution_count": 60,
   "id": "69e366a9",
   "metadata": {},
   "outputs": [],
   "source": [
    "#| echo: true\n",
    "#| eval: false\n",
    "sns.boxplot(data=salaries, y='Salaary_USD')\n",
    "plt.show()"
   ]
  },
  {
   "cell_type": "markdown",
   "id": "08d88994",
   "metadata": {},
   "source": [
    "![](images/paste-47.png)\n",
    "\n",
    "-   Identificando Umbrales"
   ]
  },
  {
   "cell_type": "code",
   "execution_count": 61,
   "id": "c0fe54bb",
   "metadata": {},
   "outputs": [],
   "source": [
    "#| echo: true\n",
    "#| eval: false\n",
    "# 75th percentil\n",
    "seventy_fifth = salaries['Salary_USD'].quantile(0.75)\n",
    "\n",
    "# 25th percentil\n",
    "twenty_fifth = salaries['Salary_USD'].quantile(0.25)\n",
    "\n",
    "# Interquartil range\n",
    "salaries_iqr = seventy_fifth - twenty_fifth\n",
    "\n",
    "print(salaries_iqr)"
   ]
  },
  {
   "cell_type": "markdown",
   "id": "5e5f1606",
   "metadata": {},
   "source": [
    "![](images/paste-48.png)"
   ]
  },
  {
   "cell_type": "code",
   "execution_count": 62,
   "id": "b1be9861",
   "metadata": {},
   "outputs": [],
   "source": [
    "#| echo: true\n",
    "#| eval: false\n",
    "# Upper threshold\n",
    "upper = seventy_fifth + (1.5 * salaries_iqr)\n",
    "\n",
    "# Lower threshold\n",
    "lower = twenty_fifth - (1.5 * salaries_iqr)\n",
    "\n",
    "print(upper, lower)"
   ]
  },
  {
   "cell_type": "markdown",
   "id": "0e61b383",
   "metadata": {},
   "source": [
    "![](images/paste-49.png)\n",
    "\n",
    "-   Subdividiendo nuestros datos"
   ]
  },
  {
   "cell_type": "code",
   "execution_count": 63,
   "id": "4e676901",
   "metadata": {},
   "outputs": [],
   "source": [
    "#| echo: true\n",
    "#| eval: false\n",
    "salaries[(salaries['Salary_USD'] < lower) | (salaries['Salary_USD'] > upper)] \\\n",
    "        [['Experience', 'Employee_Location', 'Salary_USD']]"
   ]
  },
  {
   "cell_type": "markdown",
   "id": "292c1d83",
   "metadata": {},
   "source": [
    "![](images/paste-50.png)\n",
    "\n",
    "-   ¿ Por qué buscar los Outliers?\n",
    "\n",
    "    -   Los Outliers son valores extremos\n",
    "\n",
    "        -   Pueden no representar con precisión los datos\n",
    "\n",
    "    -   Pueden sesgar la media y la desviación estándar\n",
    "\n",
    "    -   Pruebas de estadística y modelos de machine learning requieren datos que tengan una distribución normal y no esten sesgados.\n",
    "\n",
    "-   Qué hacer con los Outliers?\n",
    "\n",
    "    -   Preguntas que nos debemos hacer:\n",
    "\n",
    "        -   Por qué existen los outliers?\n",
    "\n",
    "        -   Los valores son precisos?\n",
    "\n",
    "-   Eliminación de Outliers"
   ]
  },
  {
   "cell_type": "code",
   "execution_count": 64,
   "id": "bed3ec02",
   "metadata": {},
   "outputs": [],
   "source": [
    "#| echo: true\n",
    "#| eval: false\n",
    "no_outliers = salaries[(salaries['Salar_USD'] > lower) & (salaries['Salary_USD'] < upper)]"
   ]
  },
  {
   "cell_type": "code",
   "execution_count": 65,
   "id": "352d9277",
   "metadata": {},
   "outputs": [],
   "source": [
    "#| echo: true\n",
    "#| eval: false\n",
    "print(no_outliers['Salary_USD'].describe())"
   ]
  },
  {
   "cell_type": "markdown",
   "id": "438e463c",
   "metadata": {},
   "source": [
    "![](images/paste-51.png)\n",
    "\n",
    "-   Distribución de Salarios\n",
    "\n",
    "![](images/paste-52.png)\n",
    "\n",
    "### Qué hacer con los valores atípicos?\n",
    "\n",
    "Identificar los valores atípicos es un paso integral en la realización de análisis exploratorios de datos.\n",
    "\n",
    "En este ejercicio, se te presentarán escenarios en los que hay valores atípicos, y tendrás que decidir qué acción debes tomar.\n",
    "\n",
    "#### Instrucciones\n",
    "\n",
    "-   Coloca cada escenario en el cubo adecuado en función del enfoque que deba adaptarse para tratar los valores atípicos.\n",
    "\n",
    "    | Elimina los valores atípicos | Dejar los valores atípicos en el conjunto de datos |\n",
    "    |----|----|\n",
    "    | Un sensor de temperatura tiene un registro de 100 grados Celsius, pero el sensor solo funciona correctamente a temperaturas de hasta 80 grados. | se registran las alturas de distintos animales y uno de ellos es más de 1.5 veces la IQR más el percentil 75. |\n",
    "    | La velocidad de un coche se registra como 5000 km/h. | Los países tienen una superficie total media de 667.143 km2, pero un país tiene 1.637.687 km2. |\n",
    "    | Un participante en un estudio tiene una edad de menos 35 años. | Un jugador de baloncesto hace una media de 35 puntos por partido cuando la media en toda la liga es de solo 10 puntos por partido. |\n",
    "\n",
    "Puede ser difícil decidir qué hacer con los valores atípicos, pero debes saber cómo gestionarlos, ¡ya que a menudo se dan en el mundo real!\n",
    "\n",
    "\n",
    "### Identificar valores atípicos\n",
    "\n",
    "Has demostrado que reconoces qué hacer cuando se te presentan valores atípicos, pero ¿Puedes identificarlos utilizando visualizaciones?\n",
    "\n",
    "Intenta averiguar si hay valores atípicos en las columnas `\"Price\"` o `\"Duration\"` del dataframe `planes`.\n",
    "\n",
    "#### Intrucciones\n",
    "\n",
    "1. Traza la distribución de la columna `\"Price\"` de `planes`.\n"
   ]
  },
  {
   "cell_type": "code",
   "execution_count": 66,
   "id": "934a4b0c",
   "metadata": {},
   "outputs": [
    {
     "data": {
      "image/png": "[encoded data removed]",
      "text/plain": [
       "<Figure size 672x480 with 1 Axes>"
      ]
     },
     "metadata": {},
     "output_type": "display_data"
    }
   ],
   "source": [
    "# Plot a histogram of flight prices\n",
    "sns.histplot(data=planes, x='Price')\n",
    "plt.show()"
   ]
  },
  {
   "cell_type": "markdown",
   "id": "783c056b",
   "metadata": {},
   "source": [
    "2. Muestra las estadísticas descriptivas de la duración del vuelo.\n"
   ]
  },
  {
   "cell_type": "code",
   "execution_count": 67,
   "id": "f969f5b9",
   "metadata": {},
   "outputs": [
    {
     "name": "stdout",
     "output_type": "stream",
     "text": [
      "count    8508.000000\n",
      "mean       10.726704\n",
      "std         8.472415\n",
      "min         0.100000\n",
      "25%         2.800000\n",
      "50%         8.700000\n",
      "75%        15.500000\n",
      "max        47.700000\n",
      "Name: Duration, dtype: float64\n"
     ]
    }
   ],
   "source": [
    "# Display descriptive statistics for flight duration\n",
    "print(planes['Duration'].describe())"
   ]
  },
  {
   "cell_type": "markdown",
   "id": "65abac67",
   "metadata": {},
   "source": [
    "3. **Pregunta**\n",
    "\n",
    "¿Qué columna contiene potencialmente valores atípicos?\n",
    "\n",
    "**Respuestas Posibles**\n",
    "\n",
    "- [ ] `\"Price\"`\n",
    "- [ ] `\"Duration\"`\n",
    "- [x] `\"Price\"` y `\"Duration\"`\n",
    "- [ ] Ninguna\n",
    "\n",
    "Los histogramas, diagramas de caja y estadísticas descriptivas también son métodos útiles para identificar valores extremos. ¡Ahora vamos a tratarlos!\n",
    "\n",
    "\n",
    "### Eliminar valores atípicos\n",
    "\n",
    "Aunque eliminar los valores atípicos no siempre es el camino a seguir, para tu análisis has decidido que solo incluirás los vuelos en los que el `\"Price\"` no sea un valor atípico.\n",
    "\n",
    "Por lo tanto tienes que encontrar el umbral superior y utilizarlo para eliminar los valores que lo superen del Dataframe `planes`.\n",
    "\n",
    "#### Instrucciones\n",
    "\n",
    "1. Halla los percentiles 75 y 25, guardando como `price_seventy_fifth` y `price_twenty_fifth` respectivamente.\n"
   ]
  },
  {
   "cell_type": "code",
   "execution_count": 68,
   "id": "ed4b1f2d",
   "metadata": {},
   "outputs": [],
   "source": [
    "# Find the 75th and 25th percentiles\n",
    "price_seventy_fifth = planes['Price'].quantile(0.75)\n",
    "price_twenty_fifth = planes['Price'].quantile(0.25)"
   ]
  },
  {
   "cell_type": "markdown",
   "id": "0d09accc",
   "metadata": {},
   "source": [
    "2. Calcula el IQR, almacenándolo como `prices_iqr`.\n"
   ]
  },
  {
   "cell_type": "code",
   "execution_count": 69,
   "id": "4d784fc9",
   "metadata": {},
   "outputs": [
    {
     "name": "stdout",
     "output_type": "stream",
     "text": [
      "7014.0\n"
     ]
    }
   ],
   "source": [
    "# Calculate iqr\n",
    "prices_iqr = price_seventy_fifth - price_twenty_fifth\n",
    "print(prices_iqr)"
   ]
  },
  {
   "cell_type": "markdown",
   "id": "345bdbba",
   "metadata": {},
   "source": [
    "3. Calcula los umbrales superior e inferior de los valores atípicos.\n"
   ]
  },
  {
   "cell_type": "code",
   "execution_count": 70,
   "id": "9fb54790",
   "metadata": {},
   "outputs": [],
   "source": [
    "# Calculate the thresholds\n",
    "upper = price_seventy_fifth + (1.5 * prices_iqr)\n",
    "lower = price_twenty_fifth - (1.5 * prices_iqr)"
   ]
  },
  {
   "cell_type": "markdown",
   "id": "700f2984",
   "metadata": {},
   "source": [
    "4. Elimina los valores atípicos de `planes`.\n"
   ]
  },
  {
   "cell_type": "code",
   "execution_count": 71,
   "id": "8c70c665",
   "metadata": {},
   "outputs": [
    {
     "name": "stdout",
     "output_type": "stream",
     "text": [
      "count     8438.000000\n",
      "mean      8877.466046\n",
      "std       4001.838236\n",
      "min       1759.000000\n",
      "25%       5224.000000\n",
      "50%       8372.000000\n",
      "75%      12121.000000\n",
      "max      22270.000000\n",
      "Name: Price, dtype: float64\n"
     ]
    }
   ],
   "source": [
    "# Subset the data\n",
    "planes = planes[(planes['Price'] > lower) & (planes['Price'] < upper)]\n",
    "\n",
    "print(planes['Price'].describe())"
   ]
  },
  {
   "cell_type": "markdown",
   "id": "e21df164",
   "metadata": {},
   "source": [
    "¡Habilidades ridículas para eliminar valores atípicos! Lograste crear umbrales basados en el IQR y los usaste para filtrar el conjunto de datos `planes` para eliminar precios extremos. Originalmente, el conjunto de datos tenía un precio máximo de casi 55000, pero la salida de `planes['Price'].describe()` muestra que el máximo se ha reducido a alrededor de 23000, ¡reflejando una distribución menos sesgada para el análisis!"
   ]
  }
 ],
 "metadata": {
  "kernelspec": {
   "display_name": "Python 3 (ipykernel)",
   "language": "python",
   "name": "python3",
   "path": "/Users/macbookairedwin/Documents/Datacamp/Analista_de_datos_en_python/entorno_analista_datos/share/jupyter/kernels/python3"
  },
  "language_info": {
   "codemirror_mode": {
    "name": "ipython",
    "version": 3
   },
   "file_extension": ".py",
   "mimetype": "text/x-python",
   "name": "python",
   "nbconvert_exporter": "python",
   "pygments_lexer": "ipython3",
   "version": "3.13.5"
  }
 },
 "nbformat": 4,
 "nbformat_minor": 5
}
