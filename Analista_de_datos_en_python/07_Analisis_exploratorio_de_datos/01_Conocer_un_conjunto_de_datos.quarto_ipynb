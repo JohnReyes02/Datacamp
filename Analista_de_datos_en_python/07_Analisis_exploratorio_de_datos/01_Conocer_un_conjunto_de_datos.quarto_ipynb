{
  "cells": [
    {
      "cell_type": "markdown",
      "metadata": {},
      "source": [
        "---\n",
        "# title: \"1 Conocer un conjunto de datos\"\n",
        "# author: \"Edwin John Fredy Reyes Aguirre\"\n",
        "# date: today\n",
        "# toc: true\n",
        "# toc-title: \"Contenido\"\n",
        "---\n",
        "\n",
        "\n",
        "# Conocer un conjunto de datos\n",
        "\n",
        "¿Cuál el la mejor manera de abordar un nuevo conjunto de datos? Aprende a validar y resumir datos categóricos y numéricos y a crear visualizaciones Seaborn para comunicar tus conclusiones.\n",
        "\n",
        "## Exploración inicial\n",
        "\n",
        "-   Análisis Exploratorio de Datos\n",
        "    -   Es el proceso de limpiar y revisar datos para:\n",
        "        -   Obterner información (Estadística descriptiva, correlaciones)\n",
        "        -   Genrar hipótesis\n",
        "-   Una primera mirada con .head()\n"
      ],
      "id": "97547211"
    },
    {
      "cell_type": "code",
      "metadata": {},
      "source": [
        "#| echo: true\n",
        "#| eval: false\n",
        "books = pd.read_csv('books.csv')\n",
        "books.head()"
      ],
      "id": "b0d32e58",
      "execution_count": null,
      "outputs": []
    },
    {
      "cell_type": "markdown",
      "metadata": {},
      "source": [
        "![](images/paste-3.png)\n",
        "\n",
        "-   Reuniendo más .info()\n"
      ],
      "id": "25a67f3a"
    },
    {
      "cell_type": "code",
      "metadata": {},
      "source": [
        "#| echo: true\n",
        "#| eval: false\n",
        "books.info()"
      ],
      "id": "807c9286",
      "execution_count": null,
      "outputs": []
    },
    {
      "cell_type": "markdown",
      "metadata": {},
      "source": [
        "![](images/paste-2.png)\n",
        "\n",
        "-   Una mirada cercana a las columnas categóricas\n"
      ],
      "id": "d8bc32ac"
    },
    {
      "cell_type": "code",
      "metadata": {},
      "source": [
        "#| echo: true\n",
        "#| eval: false\n",
        "books.value_counts('genre')"
      ],
      "id": "46daf3b8",
      "execution_count": null,
      "outputs": []
    },
    {
      "cell_type": "markdown",
      "metadata": {},
      "source": [
        "![](images/paste-4.png)\n",
        "\n",
        "-   Columnas numéricas con .describe()\n"
      ],
      "id": "0f1ca197"
    },
    {
      "cell_type": "code",
      "metadata": {},
      "source": [
        "#| echo: true\n",
        "#| eval: false  \n",
        "books.describe()"
      ],
      "id": "0e2a2bcc",
      "execution_count": null,
      "outputs": []
    },
    {
      "cell_type": "markdown",
      "metadata": {},
      "source": [
        "![](images/paste-5.png)\n",
        "\n",
        "-   Visualizando datos numéricos\n"
      ],
      "id": "bdd5d26d"
    },
    {
      "cell_type": "code",
      "metadata": {},
      "source": [
        "#| echo: true\n",
        "#| eval: false\n",
        "import seaborn as sns\n",
        "import matplotlib.pyplot as plt\n",
        "sns.histplot(data=books, x='rating')\n",
        "plt.show()"
      ],
      "id": "0b26b63f",
      "execution_count": null,
      "outputs": []
    },
    {
      "cell_type": "markdown",
      "metadata": {},
      "source": [
        "![](images/paste-6.png){width=\"370\"}\n",
        "\n",
        "-   Ajustando la anchura del bin\n"
      ],
      "id": "d9829d9c"
    },
    {
      "cell_type": "code",
      "metadata": {},
      "source": [
        "#| echo: true\n",
        "#| eval: false\n",
        "sns.histplot(data=books, x='rating', binwidth=.1)\n",
        "plt.show()"
      ],
      "id": "709ee110",
      "execution_count": null,
      "outputs": []
    },
    {
      "cell_type": "markdown",
      "metadata": {},
      "source": [
        "![](images/paste-7.png){width=\"370\"}\n",
        "\n",
        "### Funciones para la exploración inicial\n",
        "\n",
        "Estás investigando las tasas de desempleo en todo el mundo y te han dado un nuevo conjunto de datos con el que trabajar. Los datos se han guardado y cargado para ti como un DataFrame de pandas llamado `unemployment`. Nunca antes habías visto los datos, así que tu primera tarea es utilizar unas cuantas funciones de pandas para conocer estos nuevos datos.\n"
      ],
      "id": "4a3115d3"
    },
    {
      "cell_type": "code",
      "metadata": {},
      "source": [
        "import pandas as pd\n",
        "\n",
        "ruta = './data/clean_unemployment.csv'\n",
        "unemployment = pd.read_csv(ruta)"
      ],
      "id": "8ae4f301",
      "execution_count": null,
      "outputs": []
    },
    {
      "cell_type": "markdown",
      "metadata": {},
      "source": [
        "#### Instrucciones\n",
        "\n",
        "1.  Utiliza una función de pandas para imprimir las cinco primeras filas del DataFrame `unemployment`.\n"
      ],
      "id": "52b5f855"
    },
    {
      "cell_type": "code",
      "metadata": {},
      "source": [
        "# Print the first five rows of unemployment\n",
        "print(unemployment.head())"
      ],
      "id": "ab5e844a",
      "execution_count": null,
      "outputs": []
    },
    {
      "cell_type": "markdown",
      "metadata": {},
      "source": [
        "2.  Utiliza una función pandas para imprimir un resumen de los valores y tipos de datos de las columnas que no faltan del DataFrame `unemployment`.\n"
      ],
      "id": "fb5376d6"
    },
    {
      "cell_type": "code",
      "metadata": {},
      "source": [
        "# Print a summary of non-missing values and data types in the unemployment DataFrame]\n",
        "print(unemployment.info())"
      ],
      "id": "a9e74588",
      "execution_count": null,
      "outputs": []
    },
    {
      "cell_type": "markdown",
      "metadata": {},
      "source": [
        "3.  Imprime las estadísticas de resument (recuento, media, desviación estándar, valores mínimo, máximo y cuartil) de cada columna numérica en `unemployment`.\n"
      ],
      "id": "2976aa98"
    },
    {
      "cell_type": "code",
      "metadata": {},
      "source": [
        "# Print summary statistics for numerical columns in unemployment\n",
        "print(unemployment.describe())"
      ],
      "id": "33b23063",
      "execution_count": null,
      "outputs": []
    },
    {
      "cell_type": "markdown",
      "metadata": {},
      "source": [
        "Ahora haz aprendido que `unemployment` contiene 182 filas de datos de países, incluyendo `country_code`, `country_name`, `continent` y porcentajes de desempleo desde 2010 hasta 2021. ¡Si miraste muy de cerca, podrías haber notado que a algunos países les falta información en la columna `continent`! Continuemos explorando estos datos en el próximo ejercicio.\n",
        "\n",
        "### Contar valores categóricos\n",
        "\n",
        "Recordemos del ejercicio anterior que el DataFrame `unemployment` contiene 182 filas de datos de países que incluyen `country_code`, `country_name`, `continent` y porcentajes de desempleo de 2010 a 2021.\n",
        "\n",
        "Ahora vas a explorar los datos categóricos contenidos en `unemployment` para comprender los datos que contiene relacionados con cada continente.\n",
        "\n",
        "#### Instrucciones\n",
        "\n",
        "-   Utiliza un método para contar los valores asociados a cada `continent` en el DataFrame `unemployment`.\n"
      ],
      "id": "855ec10f"
    },
    {
      "cell_type": "code",
      "metadata": {},
      "source": [
        "# Count the values associated with each continent in unemployment\n",
        "print(unemployment['continent'].value_counts())"
      ],
      "id": "e83fa591",
      "execution_count": null,
      "outputs": []
    },
    {
      "cell_type": "markdown",
      "metadata": {},
      "source": [
        "¿Sabías que hay 23 países en América del Norte, que incluye países en el Caribe y América Central? Puede que hayas notado que América del Norte tiene 18 puntos de datos en el DataFrame `unemployment`, por lo que nos falta información de algunos de los países en nuestro conjunto de datos.\n",
        "\n",
        "### Desempleo mundial en 2021\n",
        "\n",
        "¡Es hora de explorar algunos de los datos numéricos en `unemployment`! ¿Cuál fue el desempleo típico en un año determinado? ¿Cuál era la tasa de desempleo mínima y máxima, y cómo era la distribución de las tasas de desempleo en el mundo? Un histogrpama es una buena forma de hacerse una idea de las respuestas a estas preguntas.\n",
        "\n",
        "Tu tarea en este ejercicio es crear un histograma que muestre la distribución de las tasas de paro mundiales en 2021.\n",
        "\n",
        "#### Instrucciones\n",
        "\n",
        "-   Importa las bibliotecas de visualización necesarias\n",
        "-   Crea un histograma de la distribución de los porcentajes de desempleo de 2021 en todos los países en `unemployment`; muestra un punto pocentual completo en cada casilla.\n"
      ],
      "id": "4560b4d5"
    },
    {
      "cell_type": "code",
      "metadata": {},
      "source": [
        "# Import the required visualization libraries\n",
        "import seaborn as sns\n",
        "import matplotlib.pyplot as plt\n",
        "\n",
        "# Create a histogram of 2021 unemployment; show a full percent in each bin\n",
        "sns.histplot(x='2021', data=unemployment, binwidth=1)\n",
        "plt.show()"
      ],
      "id": "d56a038c",
      "execution_count": null,
      "outputs": []
    },
    {
      "cell_type": "markdown",
      "metadata": {},
      "source": [
        "Parece que el desempleo en el 2021 se mantuvo alrededor del 3% al 8% para la mayoría de los países en el conjunto de datos, pero algunos países experimentaron un desempleo muy alto del 20% al 35%.\n",
        "\n",
        "## Validación de datos\n",
        "\n",
        "-   Validando los tipos de datos\n"
      ],
      "id": "768e1d52"
    },
    {
      "cell_type": "code",
      "metadata": {},
      "source": [
        "#| echo: true\n",
        "#| eval: false\n",
        "books.dtypes"
      ],
      "id": "d793fca1",
      "execution_count": null,
      "outputs": []
    },
    {
      "cell_type": "markdown",
      "metadata": {},
      "source": [
        "![](images/paste-8.png){width=\"370\"}\n",
        "\n",
        "-   Actualizando los tipos de datos\n"
      ],
      "id": "4ce8371d"
    },
    {
      "cell_type": "code",
      "metadata": {},
      "source": [
        "#| echo: true\n",
        "#| eval: false\n",
        "books['year'] = books['year'].astype(int)\n",
        "books.dtypes"
      ],
      "id": "4e53b47a",
      "execution_count": null,
      "outputs": []
    },
    {
      "cell_type": "markdown",
      "metadata": {},
      "source": [
        "![](images/paste-9.png)\n",
        "\n",
        "| Tipo       | Nombre Python |\n",
        "|------------|---------------|\n",
        "| String     | `str`         |\n",
        "| Integer    | `int`         |\n",
        "| Float      | `float`       |\n",
        "| Dictionary | `dict`        |\n",
        "| List       | `list`        |\n",
        "| Boolean    | `bool`        |\n",
        "\n",
        "-   Validando datos categóricos\n"
      ],
      "id": "f1c0cedd"
    },
    {
      "cell_type": "code",
      "metadata": {},
      "source": [
        "#| echo: true\n",
        "#| eval: false\n",
        "books['genre'].isin(['Fiction', 'Non Fiction'])"
      ],
      "id": "9c4085e7",
      "execution_count": null,
      "outputs": []
    },
    {
      "cell_type": "markdown",
      "metadata": {},
      "source": [
        "![](images/paste-10.png){width=\"370\"}\n",
        "\n",
        "Para validar los datos que no están en la lista\n"
      ],
      "id": "082b3384"
    },
    {
      "cell_type": "code",
      "metadata": {},
      "source": [
        "#| echo: true\n",
        "#| eval: false\n",
        "~books['genre'].isin(['Fiction', 'Non Fiction'])"
      ],
      "id": "6c222859",
      "execution_count": null,
      "outputs": []
    },
    {
      "cell_type": "markdown",
      "metadata": {},
      "source": [
        "![](images/paste-11.png){width=\"370\"}\n",
        "\n",
        "Para filtrar el DataFrame por los valores en nuestra lista\n"
      ],
      "id": "5c6c0560"
    },
    {
      "cell_type": "code",
      "metadata": {},
      "source": [
        "#| echo: true\n",
        "#| eval: false\n",
        "books[books['genre'].isin(['Fiction', 'Non Fiction'])].head()"
      ],
      "id": "2573dffe",
      "execution_count": null,
      "outputs": []
    },
    {
      "cell_type": "markdown",
      "metadata": {},
      "source": [
        "![](images/paste-12.png)\n",
        "\n",
        "-   Validando los datos numéricos\n",
        "\n",
        "Para ver solo las columnas numéricas en un DataFrame:\n"
      ],
      "id": "f9c429b9"
    },
    {
      "cell_type": "code",
      "metadata": {},
      "source": [
        "#| echo: true\n",
        "#| eval: false\n",
        "books.select_dtypes('number').head()"
      ],
      "id": "bc986e37",
      "execution_count": null,
      "outputs": []
    },
    {
      "cell_type": "markdown",
      "metadata": {},
      "source": [
        "Para conocer un intervalo específico:\n"
      ],
      "id": "de3ef72d"
    },
    {
      "cell_type": "code",
      "metadata": {},
      "source": [
        "#| echo: true\n",
        "#| eval: false\n",
        "books['year'].min()"
      ],
      "id": "e117e903",
      "execution_count": null,
      "outputs": []
    },
    {
      "cell_type": "markdown",
      "metadata": {},
      "source": [
        "![](images/paste-13.png){width=\"370\"}\n"
      ],
      "id": "ef39a560"
    },
    {
      "cell_type": "code",
      "metadata": {},
      "source": [
        "#| echo: true\n",
        "#| eval: false\n",
        "books['year'].max()"
      ],
      "id": "aba2c13b",
      "execution_count": null,
      "outputs": []
    },
    {
      "cell_type": "markdown",
      "metadata": {},
      "source": [
        "![](images/paste-14.png){width=\"370\" height=\"40\"}\n",
        "\n",
        "Se puede ver una imagen más detallada de la distribución de los datos, utilizando boxplot:\n"
      ],
      "id": "424c0a28"
    },
    {
      "cell_type": "code",
      "metadata": {},
      "source": [
        "#| echo: true\n",
        "#| eval: false\n",
        "sns.boxplot(data=books, x='year')\n",
        "plt.show()"
      ],
      "id": "186305ff",
      "execution_count": null,
      "outputs": []
    },
    {
      "cell_type": "markdown",
      "metadata": {},
      "source": [
        "![](images/paste-15.png){width=\"370\"}\n",
        "\n",
        "También se puede ver los datos agrupados por una variable categórica.\n"
      ],
      "id": "4b0b5a3a"
    },
    {
      "cell_type": "code",
      "metadata": {},
      "source": [
        "#| echo: true\n",
        "#| eval: false\n",
        "sns.boxplot(data=books, x='year', y='genre')\n",
        "plt.show()"
      ],
      "id": "2145150b",
      "execution_count": null,
      "outputs": []
    },
    {
      "cell_type": "markdown",
      "metadata": {},
      "source": [
        "![](images/paste-16.png){width=\"370\"}\n",
        "\n",
        "### Detectar tipos de datos\n",
        "\n",
        "¡Se ha modificado una columna en el DataFrame `unemployment` y ahora tiene un tipo de datos incorrecto! Este tipo de datos te impedirá realizar una exploración y un análisis eficaces, por lo que tu tarea consiste en identificar qué columna tiene un tipo de datos incorrecto y, a continuación, corregirlo.\n"
      ],
      "id": "548fb2be"
    },
    {
      "cell_type": "code",
      "metadata": {},
      "source": [
        "#| echo: false\n",
        "#| eval: true\n",
        "unemployment['2019'] = unemployment['2019'].astype('object')"
      ],
      "id": "758716bd",
      "execution_count": null,
      "outputs": []
    },
    {
      "cell_type": "markdown",
      "metadata": {},
      "source": [
        "#### Instrucciones\n",
        "\n",
        "**Pregunta**\n",
        "\n",
        "1.  ¿Cuál de las siguientes columnas requiere una actualización de su tipo de datos?\n"
      ],
      "id": "5a4eb75f"
    },
    {
      "cell_type": "code",
      "metadata": {},
      "source": [
        "print(unemployment.dtypes)"
      ],
      "id": "a496a5fd",
      "execution_count": null,
      "outputs": []
    },
    {
      "cell_type": "markdown",
      "metadata": {},
      "source": [
        "**Respuestas posibles**\n",
        "\n",
        "-   [ ] `country_name`\n",
        "-   [ ] `continent`\n",
        "-   [x] `2019`\n",
        "-   [ ] `2021`\n",
        "\n",
        "2.  \n",
        "\n",
        "-   Actualiza el tipo de datos de la columna `2019` de `unemployment` a `float`.\n",
        "-   ¡Vuelve a imprimir el `dtypes` del DataFrame `umemployment` para comprobar que se ha actualizado el tipo de datos!\n"
      ],
      "id": "d71b589f"
    },
    {
      "cell_type": "code",
      "metadata": {},
      "source": [
        "# Update the data type of the 2019 column to a float\n",
        "unemployment['2019'] = unemployment['2019'].astype('float')\n",
        "\n",
        "# Print the dtypes to check your work\n",
        "print(unemployment.dtypes)"
      ],
      "id": "a0b7f22c",
      "execution_count": null,
      "outputs": []
    },
    {
      "cell_type": "markdown",
      "metadata": {},
      "source": [
        "Cambiar el tipo de dato de la columna `2019` significa que ahora puedes realizar cálculos sobre ella, incluyendo validar su rango.\n",
        "\n",
        "### Validar continentes\n",
        "\n",
        "Tu colega te ha informado de que los datos sobre el desempleo de los países de Oceanía no son fiables, y te gustaría identificar y excluir a estos países de tus datos de `unemployment`. ¡La función `.isin()` puede ayudarte con eso!\n",
        "\n",
        "Tu tarea consiste en utilizar `isin()` para identificar los países que no están en Oceanía. Estos países deberían devolver `True` mientras que los países de Oceanía deberán devolver `False`. Esto te permitirá utilizar los resultados de `isin()` para filtrar rápidamente los países de Oceanía utilizando la indexación booleana.\n",
        "\n",
        "### Instrucciones\n",
        "\n",
        "1.  Defina una Serie Booleana que describan si cada `continent` está o no fuera de `Oceanía`; llama a esta Serie `not_oceania`.\n"
      ],
      "id": "7c4c9580"
    },
    {
      "cell_type": "code",
      "metadata": {},
      "source": [
        "# Define a Series describing whether each continent is outside of Oceania\n",
        "not_oceania = ~unemployment['continent'].isin(['Oceania'])"
      ],
      "id": "cb654ba6",
      "execution_count": null,
      "outputs": []
    },
    {
      "cell_type": "markdown",
      "metadata": {},
      "source": [
        "2.  Utiliza la indexación booleana para imprimir el DataFrame `unemployment` sin ninguno de los datos relacionados con los países de Oceanía.\n"
      ],
      "id": "0305e72e"
    },
    {
      "cell_type": "code",
      "metadata": {},
      "source": [
        "# Define a Series describing whether each continent is outside of Oceania\n",
        "not_oceania = ~unemployment['continent'].isin(['Oceania'])\n",
        "\n",
        "# Print unemployment without records related  to countries in Oceania\n",
        "print(unemployment[not_oceania])"
      ],
      "id": "e592fa77",
      "execution_count": null,
      "outputs": []
    },
    {
      "cell_type": "markdown",
      "metadata": {},
      "source": [
        "Validaste datos categóricos y usaste tu validación `.isin()` para excluir datos en los que no estabas interesado. Filtrar los datos que no necesitas al comienzo de tu proceso de EDA es una excelente manera de organizarte para la exploración que está por venir.\n",
        "\n",
        "### Rango de validación\n",
        "\n",
        "Ahora es el momento de validar nuestros datos numéricos. En la lección anterior vimos, utilizando `.describe()`, que la mayor tasa de desempleo durante 2021 fue de casi el 34 %, mientras que la más baja estuvo justo por encima de cero.\n",
        "\n",
        "Tu tarea en este ejercicio es obtener información mucho más detallada sobre el rango de los datos de `unemployment` utilizando el diagrama de caja de Seaborn, y también visualizarás el rango de las tasas de desempleo en cada continente para comprender las diferencias de rango geográfico.\n",
        "\n",
        "#### Instrucciones\n",
        "\n",
        "-   Imprime las tasas de desempleo mínima y máximam en este orden, durante 2021.\n",
        "-   Crea un diagrama de caja de las tasas de desempleo de 2021 (en el eje x), desglosadas por continente (en el eje y).\n"
      ],
      "id": "4e1a919b"
    },
    {
      "cell_type": "code",
      "metadata": {},
      "source": [
        "# Print the minimum an maximum unemployment rates during 2021\n",
        "print(unemployment['2021'].min(), unemployment['2021'].max())\n",
        "\n",
        "# Create a boxplot of 2021 unemployment rates, broken down by continent\n",
        "sns.boxplot(data=unemployment, x='2021', y='continent', \n",
        "            hue='continent', legend=False)\n",
        "plt.show()"
      ],
      "id": "721bdfcd",
      "execution_count": null,
      "outputs": []
    },
    {
      "cell_type": "markdown",
      "metadata": {},
      "source": [
        "Observa cómo varían los rangos de desempleo entre continentes. Por ejemplo, el percentil 50 de África es más bajo que el de América del Norte, pero el rango es mucho más amplio.\n",
        "\n",
        "## Resumen de datos\n",
        "\n",
        "-   Explorando grupo de datos\n",
        "    -   `.groupby()` grupo de datos por categoría.\n",
        "    -   Función de agregación indica cómo se resume un grupo de datos.\n"
      ],
      "id": "ad7fa3b5"
    },
    {
      "cell_type": "code",
      "metadata": {},
      "source": [
        "#| echo: true\n",
        "#| eval: false\n",
        "books.groupby('genre').mean()"
      ],
      "id": "389a3fba",
      "execution_count": null,
      "outputs": []
    },
    {
      "cell_type": "markdown",
      "metadata": {},
      "source": [
        "![](images/paste-17.png)\n",
        "\n",
        "-   Funciones de agregación\n",
        "\n",
        "    -   Suma: `.sum()`\n",
        "\n",
        "    -   Conteo: `.cont`\n",
        "\n",
        "    -   Mínimo: `.min()`\n",
        "\n",
        "    -   Máximo: `.max()`\n",
        "\n",
        "    -   Varianza: `.var()`\n",
        "\n",
        "    -   Desviación estándar: `.std()`\n",
        "\n",
        "-   Agregación de datos no agrupados\n",
        "\n",
        "    -   `.agg()` aplica funciones de agregación a través de un DataFrame\n",
        "\n",
        "    -   Por defecto agrega todas las filas de una columna determinada\n",
        "\n",
        "    -   Se suele utilizar cuando queremos más de una función\n",
        "\n",
        "    -   Solo lo aplica a las columnas numéricas\n"
      ],
      "id": "cc6c970c"
    },
    {
      "cell_type": "code",
      "metadata": {},
      "source": [
        "#| echo: true\n",
        "#| eval: false\n",
        "books.agg(['mean', 'std'])"
      ],
      "id": "544a6820",
      "execution_count": null,
      "outputs": []
    },
    {
      "cell_type": "markdown",
      "metadata": {},
      "source": [
        "![](images/paste-18.png)\n",
        "\n",
        "-   Especificando agregaciones para columnas\n"
      ],
      "id": "c44dfd8f"
    },
    {
      "cell_type": "code",
      "metadata": {},
      "source": [
        "#| echo: true\n",
        "#| eval: false\n",
        "books.agg({'rating': ['mean', 'std'], 'year': ['median']})"
      ],
      "id": "50523e7f",
      "execution_count": null,
      "outputs": []
    },
    {
      "cell_type": "markdown",
      "metadata": {},
      "source": [
        "![](images/paste-19.png)\n",
        "\n",
        "-   Nombrando columnas resumen\n"
      ],
      "id": "5bf1734b"
    },
    {
      "cell_type": "code",
      "metadata": {},
      "source": [
        "#| echo: true\n",
        "#| eval: false\n",
        "books.groupby('genre').agg(\n",
        "    mean_rating = ('rating', 'mean'),\n",
        "    std_rating = ('rating', 'std'),\n",
        "    median_year = ('year', 'median')\n",
        ")"
      ],
      "id": "aead0f53",
      "execution_count": null,
      "outputs": []
    },
    {
      "cell_type": "markdown",
      "metadata": {},
      "source": [
        "![](images/paste-20.png)\n",
        "\n",
        "-   Visualizando resúmenes categoricos\n",
        "\n",
        "    -   Calculan automáticamente la media de una variable cuantitativa\n"
      ],
      "id": "00c1dcdf"
    },
    {
      "cell_type": "code",
      "metadata": {},
      "source": [
        "#| echo: true\n",
        "#| eval: false\n",
        "sns.barplot(data=books, x='genre', y='rating')\n",
        "plt.show()"
      ],
      "id": "c22307e2",
      "execution_count": null,
      "outputs": []
    },
    {
      "cell_type": "markdown",
      "metadata": {},
      "source": [
        "![](images/paste-21.png){width=\"370\"}\n",
        "\n",
        "\n",
        "### Resúmenes con .groupby() y .agg()\n",
        "\n",
        "En este ejercicio, explorarás las medias y desviaciones estándar de los datos anuales de desempleo. En primer lugar, encontrarás las medias y desviaciones estándar independientemente del continente para observar las tendencias mundiales del desempleo. Después, comprobarás las tendencias del desempleo desglosadas por continente.\n"
      ],
      "id": "a4cc1190"
    },
    {
      "cell_type": "code",
      "metadata": {},
      "source": [
        "import pandas as pd\n",
        "\n",
        "ruta = './data/clean_unemployment.csv'\n",
        "unemployment = pd.read_csv(ruta)\n",
        "print(unemployment.head())"
      ],
      "id": "23d02d38",
      "execution_count": null,
      "outputs": []
    },
    {
      "cell_type": "markdown",
      "metadata": {},
      "source": [
        "#### Instrucciones\n",
        "\n",
        "1. Imprime la media y las desviación estándar d elas tasas de paro de cada año (en ese orden).\n"
      ],
      "id": "93d1a550"
    },
    {
      "cell_type": "code",
      "metadata": {},
      "source": [
        "# Print the mean and standard deviation of rates by year\n",
        "print(unemployment[\n",
        "    ['2010', '2011', '2012', '2013', '2014', '2015', '2016', '2017', '2018', '2019', '2020']\n",
        "].agg(['mean', 'std']))"
      ],
      "id": "5ac10d08",
      "execution_count": null,
      "outputs": []
    },
    {
      "cell_type": "markdown",
      "metadata": {},
      "source": [
        "2. Imprime la media y la desviación estándar (en ese orden) de las tasas de paro de cada año agrupadas por continente.\n"
      ],
      "id": "e21b9a68"
    },
    {
      "cell_type": "code",
      "metadata": {},
      "source": [
        "# Print yearly mean and standard deviation grouped by continent\n",
        "print(unemployment[\n",
        "    ['continent', '2010', '2011', '2012', '2013', '2014', '2015', '2016', '2017', '2018', '2019', '2020']\n",
        "].groupby(\"continent\").agg(['mean', 'std']))"
      ],
      "id": "f6256993",
      "execution_count": null,
      "outputs": []
    },
    {
      "cell_type": "markdown",
      "metadata": {},
      "source": [
        "Estos datos están bien resumidos, pero es un poco largo. ¿Qué pasaríasi quisieras enfocarte en un resumen de solo un año y hacerlo más legible? ¡Inténtalo en el siguiente ejercicio!\n",
        "\n",
        "\n",
        "### Agregaciones con nombre\n",
        "\n",
        "Ya has visto cómo `.groupby()` y `.agg()` pueden combinarse para mostrar resúmenes para categorías. A veces, es útil nombrar nuevas columnas al agregar, para que se quede claro en la salida del código qué agregaciones se están aplicando y dónde.\n",
        "\n",
        "Tu tarea consiste en crear un DataFrame llamado `continent_summary` que muestre una fila por cada continente. Las columnas del DataFram,e contendrán la tasa de paro media de cada continente en 2021, así como la desviación estándar de la tasa de empleo del 2021. Y por supuesto, ¡renombrarás las columnas para que su contenido quede claro!\n",
        "\n",
        "#### Instrucciones\n",
        "\n",
        "- Crea una columna llamada `mean_rate_2021` que muestre la tasa de paro media de 2021 para cada continente.\n",
        "\n",
        "- Crea una columna llamada `std_rate_2021` que muestre la desviación estándar de la tasa de paro de 2021 para cada continente. \n"
      ],
      "id": "f2a6062b"
    },
    {
      "cell_type": "code",
      "metadata": {},
      "source": [
        "continent_sumary = unemployment[\n",
        "    ['continent', '2021']\n",
        "].groupby('continent').agg(\n",
        "    # Create the mean_rate_2021 column\n",
        "    mean_rate_2021 = ('2021', 'mean'),\n",
        "    # Create the std_rate_2021 column\n",
        "    std_rate_2021 = ('2021', 'std'),\n",
        ")\n",
        "print(continent_sumary)"
      ],
      "id": "2c3bdb48",
      "execution_count": null,
      "outputs": []
    },
    {
      "cell_type": "markdown",
      "metadata": {},
      "source": [
        "El desempleo promedio de 2021 varió ampliamente por continente, y también lo hizo el desempleo dentro de esos continentes.\n",
        "\n",
        "\n",
        "### Visualizar resúmenes categóricos\n",
        "\n",
        "Como has aprendido en este capítulo, Seaborn tiene muchas visualizaciones estupendas para la exploración, incluido un gráfico de barras para mostrar un valor medio agregado por categoría de datos.\n",
        "\n",
        "En Seaborn, los gráficos de barras incluyen una barra vertical que indica el intervalo de confianza del 95 % para la media categórica. Como los intervalos de confianza se calculan utilizando tanto el número de valores como la variabilidad de esos valores, dan una indicación útil de hasta qué punto se puede confiar en los datos.\n",
        "\n",
        "Tu tarea consiste en crear un diagrama de barras para visualizar las medias y los intervalos de confianza de las tasas de desempleo en los distintos continentes.\n"
      ],
      "id": "b30bd5ba"
    },
    {
      "cell_type": "code",
      "metadata": {},
      "source": [
        "import matplotlib.pyplot as plt\n",
        "import seaborn as sns"
      ],
      "id": "3e8f0e87",
      "execution_count": null,
      "outputs": []
    },
    {
      "cell_type": "markdown",
      "metadata": {},
      "source": [
        "#### Instrucciones\n",
        "\n",
        "- Crea un diagrama de barras que muestre los continentes en el eje x y lsus respectivas tasas medias de desempleo en 2021 en el eje y.\n"
      ],
      "id": "0fad022b"
    },
    {
      "cell_type": "code",
      "metadata": {},
      "source": [
        "# Create a bar plot of continents and their average unemployment\n",
        "sns.barplot(data=unemployment, x='continent', y='2021',\n",
        "            hue='continent', legend=False)\n",
        "plt.show()"
      ],
      "id": "554066c9",
      "execution_count": null,
      "outputs": []
    },
    {
      "cell_type": "markdown",
      "metadata": {},
      "source": [
        "Aunque Europa tiene un mayor desempleo promedio que Asia, también tiene un intervalo de confianza más pequeño para ese promedio, por lo que el valor promedio es más confiable."
      ],
      "id": "19bb841e"
    }
  ],
  "metadata": {
    "kernelspec": {
      "name": "venv",
      "language": "python",
      "display_name": "Python (venv)",
      "path": "/Users/edwinmacmini/Library/Jupyter/kernels/venv"
    }
  },
  "nbformat": 4,
  "nbformat_minor": 5
}