{
  "cells": [
    {
      "cell_type": "markdown",
      "metadata": {},
      "source": [
        "---\n",
        "title: \"Conceptos Básicos de la fusión de datos\"\n",
        "author: \"Edwin John Fredy Reyes Aguirre\"\n",
        "date: today\n",
        "toc: true\n",
        "toc-title: \"Contenido\"\n",
        "---\n",
        "\n",
        "\n",
        "Aprende a fusionar datos dispares mediante uniones internas. Combinando información de múltiples fuentes, descubrirás perspectivas convincentes que antes podían estar ocultas. También aprenderás cómo la relación entre esas fuentes, de uno a uno o de uno a muchos, puede afectar a tu resultado.\n",
        "\n",
        "## Unión interna\n",
        "\n",
        "### Qué columna elegiremos para fusionar?\n",
        "\n",
        "Chicago proporciona una lista de propietarios de taxis y vehículos con licencia para operar en la ciudad, por seguridad pública. Tu objetivo es unir dos tablas. Una tabla se llama `taxi_owners` y contiene información sobre los propietarios de las empresas de taxis, mientras que la otra se llama `taxi_veh`e incluye información sobre cada vehículo de taxi.\n"
      ],
      "id": "afe2119c"
    },
    {
      "cell_type": "code",
      "metadata": {},
      "source": [
        "import pandas as pd"
      ],
      "id": "5d9609bb",
      "execution_count": null,
      "outputs": []
    },
    {
      "cell_type": "code",
      "metadata": {},
      "source": [
        "taxi_owners = pd.read_pickle('../datasets/taxi_owners.p')\n",
        "taxi_owners.head()"
      ],
      "id": "1205e2b6",
      "execution_count": null,
      "outputs": []
    },
    {
      "cell_type": "code",
      "metadata": {},
      "source": [
        "taxi_veh = pd.read_pickle('../datasets/taxi_vehicles.p')\n",
        "taxi_veh.head()"
      ],
      "id": "e52841f6",
      "execution_count": null,
      "outputs": []
    },
    {
      "cell_type": "markdown",
      "metadata": {},
      "source": [
        "#### Instrucciones:\n",
        "\n",
        "Elige una columna que utilizarías para fusionar las dos tablas utilizando el método `.merge()`.\n",
        "\n",
        "Respuestas posibles\n",
        "\n",
        "-   [ ] on='rid'\n",
        "\n",
        "-   [x] on='vid'\n",
        "\n",
        "-   [ ] on='year'\n",
        "\n",
        "-   [ ] on='zip'\n",
        "\n",
        "### Tu primera unión interna\n",
        "\n",
        "Te han encargado que averigües cuáles son los tipos de combustibles más utlizados en los taxis de Chicago. Para completar el análisis, tienes que fusionar las tablas `taxi_owners` y `taxi_veh` en la columna `vid`. A continuación, puedes utilizar la tabla combinada junto con el método `.values_counts()` para encontrar el `fuel_type` más común.\n",
        "\n",
        "#### Instrucciones:\n",
        "\n",
        "1.  Fusiona `taxi_owners` con `taxi_veh` en la columna `vid` y guarda el resultado en `taxi_own_veh`.\n"
      ],
      "id": "e9d5635b"
    },
    {
      "cell_type": "code",
      "metadata": {},
      "source": [
        "# Merge the taxi_owners and taxi_veh tables\n",
        "taxi_own_veh = taxi_owners.merge(taxi_veh, on='vid')\n",
        "taxi_own_veh.head()\n",
        "\n",
        "# Print the column names of taxi_own_veh\n",
        "print(taxi_own_veh.columns)"
      ],
      "id": "daf7a6f9",
      "execution_count": null,
      "outputs": []
    },
    {
      "cell_type": "markdown",
      "metadata": {},
      "source": [
        "2.  Establece los sufijos izquierdo y derecho de la tabla para las columnas solapadas de la fusión en `_own` y `_veh`, respectivamente.\n"
      ],
      "id": "54327615"
    },
    {
      "cell_type": "code",
      "metadata": {},
      "source": [
        "# Merge the taxi_owners and taxi_veh tables setting a suffix\n",
        "taxi_own_veh = taxi_owners.merge(taxi_veh, on='vid', suffixes=('_own', '_veh'))\n",
        "taxi_own_veh.head()\n",
        "\n",
        "# Print the column names of taxi_own_veh\n",
        "print(taxi_own_veh.columns)"
      ],
      "id": "dc112dd7",
      "execution_count": null,
      "outputs": []
    },
    {
      "cell_type": "markdown",
      "metadata": {},
      "source": [
        "3.  Selecciona la columna `fuel_type` de `taxi_own_veh` e imprime `value_counts()` para encontrar los `fuel_type` más utilizados.\n"
      ],
      "id": "9521a984"
    },
    {
      "cell_type": "code",
      "metadata": {},
      "source": [
        "# Merge the taxi_owners and taxi_veh tables setting a suffix\n",
        "taxi_own_veh = taxi_owners.merge(taxi_veh, on='vid', suffixes=('_own', '_veh'))\n",
        "\n",
        "# Print the value_counts to find the most popular fuel_type\n",
        "print(taxi_own_veh['fuel_type'].value_counts())"
      ],
      "id": "c424bbc3",
      "execution_count": null,
      "outputs": []
    },
    {
      "cell_type": "markdown",
      "metadata": {},
      "source": [
        "### Uniones internas y número de filas devueltas\n",
        "\n",
        "Todas las fusiones que has estudiado hasta ahora se llaman uniones internas. Es necesario comprender que las uniones internas solo devuelven las filas con valores coincidentes en ambas tablas. Explorarás esto más a fondo revisando la fusión entre las tablas `wards` y `census`, y comparándola después con fusiones de copias de estas tablas ligeramente alteradas, denominadas `wards_altered` y `census_altered`. La primera fila de la columna `wards` se ha modificado en las tablas alteradas. Examinarás cómo afecta esto a la fusión entre ellos.\n"
      ],
      "id": "928576d6"
    },
    {
      "cell_type": "code",
      "metadata": {},
      "source": [
        "wards = pd.read_pickle('../datasets/ward.p')\n",
        "wards.head()"
      ],
      "id": "dfcab071",
      "execution_count": null,
      "outputs": []
    },
    {
      "cell_type": "code",
      "metadata": {},
      "source": [
        "census = pd.read_pickle('../datasets/census.p')\n",
        "census.head()"
      ],
      "id": "47855819",
      "execution_count": null,
      "outputs": []
    },
    {
      "cell_type": "code",
      "metadata": {},
      "source": [
        "wards_altered = wards.copy()\n",
        "wards_altered.loc[0, 'ward'] = 61\n",
        "wards_altered.head()"
      ],
      "id": "7038758c",
      "execution_count": null,
      "outputs": []
    },
    {
      "cell_type": "code",
      "metadata": {},
      "source": [
        "census_altered = census.copy()\n",
        "census_altered.loc[0, 'ward'] = None\n",
        "census_altered.head()"
      ],
      "id": "46046702",
      "execution_count": null,
      "outputs": []
    },
    {
      "cell_type": "markdown",
      "metadata": {},
      "source": [
        "#### Instrucciones:\n",
        "\n",
        "1.  Fusiona `wards` y `census` en la columna `ward` y guarda el resultado en `ward_census`.\n"
      ],
      "id": "a45a9e79"
    },
    {
      "cell_type": "code",
      "metadata": {},
      "source": [
        "# Merge the wards and census tables on the ward column\n",
        "ward_census = wards.merge(census, on='ward')\n",
        "\n",
        "# Print the shape of wards_census\n",
        "print(f'ward_census table shape: {ward_census.shape}')"
      ],
      "id": "d75c4766",
      "execution_count": null,
      "outputs": []
    },
    {
      "cell_type": "markdown",
      "metadata": {},
      "source": [
        "2.  Fusiona las tablas `merge_altered` y `census` en la columna `ward` y observa la diferencia en las filas devueltas.\n"
      ],
      "id": "994a3a36"
    },
    {
      "cell_type": "code",
      "metadata": {},
      "source": [
        "# Print the first few rows of the wards_altered table to view the change\n",
        "print(wards_altered[['ward']].head())\n",
        "\n",
        "# Merge the wards_altered and census tables on the ward column\n",
        "wards_altered_census =  wards_altered.merge(census, on='ward')\n",
        "\n",
        "# Print the shape of wards_altered_census\n",
        "print(f'wards_altered_census table shape: {wards_altered_census.shape}')"
      ],
      "id": "97c8f71b",
      "execution_count": null,
      "outputs": []
    },
    {
      "cell_type": "markdown",
      "metadata": {},
      "source": [
        "3.  Fusiona las tablas `wards` y `census_altered` en la columna `ward` y observa la diferencia en las filas devueltas.\n"
      ],
      "id": "5f1c43d1"
    },
    {
      "cell_type": "code",
      "metadata": {},
      "source": [
        "# Print the first few rows of the wards_altered table to view the change\n",
        "print(census_altered[['ward']].head())\n",
        "\n",
        "# Merge the wards_altered and census tables on the ward column\n",
        "wards_altered_census =  wards.merge(census_altered, on='ward')\n",
        "\n",
        "# Print the shape of wards_altered_census\n",
        "print(f'wards_altered_census table shape: {wards_altered_census.shape}')"
      ],
      "id": "724c4788",
      "execution_count": null,
      "outputs": []
    },
    {
      "cell_type": "markdown",
      "metadata": {},
      "source": [
        "En el paso 1, el `.merge()` devolvió una tabla con el mismo número de filas que la tabla original `wards`. Sin embargo, en los pasos 2 y 3, al usar las tablas alteradas con la primera fila alterada de la columna `ward`, el número de filas devueltas fue menor. No había un valor coincidente en la columna `ward` de la otra tabla. *Recuerda que `.merge()` solo devuelve filas donde los valores coinciden en ambas tablas.*\n",
        "\n",
        "## Relaciones de uno a muchos\n",
        "\n",
        "En una relación de uno a muchos cada fila de la tabla izquierda esta relacionada con una o varias filas de la tabla derecha.\n",
        "\n",
        "A continuación se muestran algunos ejemplos de relación uno a uno y relación uno a muchos:\n",
        "\n",
        "| **Uno a uno** | **Uno a muchos** |\n",
        "|---------------------------------------|---------------------------------|\n",
        "| La relación entre `products` y `inventory` | La relación entre `products` y `orders` |\n",
        "| La relación entre `customer`y `cust_tax_info` | La relación entre `customers`y `orders` |\n",
        "\n",
        "### Fusión de uno a muchos\n",
        "\n",
        "Una empresa puede tener uno o varios propietarios. En este ejercicio, seguirás adquiriendo experiencia con las uniones de uno a muchos fusionando una tabla de propietarios de empresas, llamada `biz_owners`, con la tabla `licenses`. Recuerda de la lección de video que, con una relación de uno a muchos, una fila de la tabla izquierda puede repetirse si está relacionada con varias filas de la tabla de la derecha. En esta lección, profundizarás en este tema averiguando cuál es el título de propietario de empresa más habitual (por ejemplo, secretario, CEO, o vicepresidente).\n"
      ],
      "id": "01257cf8"
    },
    {
      "cell_type": "code",
      "metadata": {},
      "source": [
        "licenses = pd.read_pickle('../datasets/licenses.p')\n",
        "licenses.head()"
      ],
      "id": "36b9b9d5",
      "execution_count": null,
      "outputs": []
    },
    {
      "cell_type": "code",
      "metadata": {},
      "source": [
        "biz_owners = pd.read_pickle('../datasets/business_owners.p')\n",
        "biz_owners.head()"
      ],
      "id": "ded67537",
      "execution_count": null,
      "outputs": []
    },
    {
      "cell_type": "markdown",
      "metadata": {},
      "source": [
        "#### Instrucciones:\n"
      ],
      "id": "a5417ca3"
    }
  ],
  "metadata": {
    "kernelspec": {
      "name": "python3",
      "language": "python",
      "display_name": "Python 3 (ipykernel)",
      "path": "C:\\Users\\Edwin Reyes\\AppData\\Roaming\\Python\\share\\jupyter\\kernels\\python3"
    }
  },
  "nbformat": 4,
  "nbformat_minor": 5
}