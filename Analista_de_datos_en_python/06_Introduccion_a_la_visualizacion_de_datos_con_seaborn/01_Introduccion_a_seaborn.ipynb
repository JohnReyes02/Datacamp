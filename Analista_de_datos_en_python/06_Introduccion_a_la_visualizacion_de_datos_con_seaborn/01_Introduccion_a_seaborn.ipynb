{
  "cells": [
    {
      "cell_type": "markdown",
      "metadata": {},
      "source": [
        "---\n",
        "title: \"Introducción a Seaborn\"\n",
        "author: \"Edwin John Fredy Reyes Aguirre\"\n",
        "date: today\n",
        "toc: true\n",
        "toc-title: \"Contenido\"\n",
        "---\n",
        "\n",
        "Qué es Seaborn y cuándo debes utilizarlo? En este capítulo, ¡Lo descubrirás! Además, aprenderás a crear gráficos de dispersión y de recuento tanto con listas de datos como con DataFrames de pandas. También conocerás una de las grandes ventajas de utilizar Seaborn: la posibilidad de añadir fácilmente una tercera varible a tus gráficos utilizando el color para representar diferentes subgrupos.\n",
        "\n",
        "## Introducción a Seaborn\n",
        "\n",
        "- Qué es Seaborn?\n",
        "    - Puthon es una librería de visualización de datos\n",
        "    - Crea facilmente los tipos más comunes de gráficos\n",
        "\n",
        "- Por qué es útil Seaborn?\n",
        "    - Exploración de datos\n",
        "    - Comunicación de resultados\n",
        "\n",
        "- Ventajas de Seaborn\n",
        "    - Fácil de usar\n",
        "    - Trabaja bien con estructuras de datos de `pandas`\n",
        "    - Construído sobre `matplotlib`\n",
        "\n",
        "- Cómo iniciar?"
      ]
    },
    {
      "cell_type": "code",
      "metadata": {},
      "source": [
        "#| echo: true\n",
        "#| eval: false\n",
        "import seaborn as sns # Samuel Norman Seaborn (sns)\n",
        "import matplotlib.pyplot as plt"
      ],
      "execution_count": null,
      "outputs": []
    },
    {
      "cell_type": "markdown",
      "metadata": {},
      "source": [
        "- Ejemplo 1: Scatter plot"
      ]
    },
    {
      "cell_type": "code",
      "metadata": {},
      "source": [
        "import seaborn as sns\n",
        "import matplotlib.pyplot as plt\n",
        "height = [62, 64, 69, 75, 66,\n",
        "          68, 65, 71, 76, 73]\n",
        "weight = [120, 136, 148, 175, 137,\n",
        "          165, 154, 172, 200, 187]\n",
        "sns.scatterplot(x=height, y=weight)\n",
        "plt.show()"
      ],
      "execution_count": null,
      "outputs": []
    },
    {
      "cell_type": "markdown",
      "metadata": {},
      "source": [
        "- Ejemplo 2: Crear un count plot"
      ]
    },
    {
      "cell_type": "code",
      "metadata": {},
      "source": [
        "import seaborn as sns\n",
        "import matplotlib.pyplot as plt\n",
        "gender = ['Female', 'Female',\n",
        "          'Female', 'Female',\n",
        "          'Male', 'Male', 'Male',\n",
        "          'Male', 'Male', 'Male']\n",
        "sns.countplot(x=gender)"
      ],
      "execution_count": null,
      "outputs": []
    },
    {
      "cell_type": "markdown",
      "metadata": {},
      "source": [
        "### Hacer un gráfico de dispersión con listas\n",
        "\n",
        "En este ejecicio, utilizaremos un conjunto de datos que contiene información sobre 227 países. Este conjunto de datos contiene mucha información interesante sobre cada país, como sus tasas de natalidad y mortalidad y su producto interno bruto (GDP). GDP es el valor de todos los bienes y servicios producidas en un año, expresado en dólares por persona.\n",
        "\n",
        "Hemos creado tres listas de datos a partir de este conjunto de datos para que puedas empezar. `gdp` es una lista que contiene el valor de GDP por país, expresado en dólares por persona. `phones` es una lista con el número de teléfonos móviles por cada 1000 personas en este país. Por último `percent_literate` es una lista que contiene el porcentaje de la población de cada país que sabe leer y escribir."
      ]
    },
    {
      "cell_type": "code",
      "metadata": {},
      "source": [
        "import pandas as pd\n",
        "\n",
        "ruta = './data/countries-of-the-world.csv'\n",
        "df = pd.read_csv(ruta)\n",
        "df.head()"
      ],
      "execution_count": null,
      "outputs": []
    },
    {
      "cell_type": "code",
      "metadata": {},
      "source": [
        "# Convertir a numerico los datos tipo object\n",
        "df['Phones (per 1000)'] = df['Phones (per 1000)'].str.replace(',', '.').astype(float)\n",
        "df['Literacy (%)'] = df['Literacy (%)'].str.replace(',', '.').astype(float)\n",
        "\n",
        "# Crear las listas\n",
        "gdp = df['GDP ($ per capita)'].tolist()\n",
        "phones = df['Phones (per 1000)'].tolist()\n",
        "percent_literate = df['Literacy (%)'].tolist()"
      ],
      "execution_count": null,
      "outputs": []
    },
    {
      "cell_type": "markdown",
      "metadata": {},
      "source": [
        "#### Instrucciones\n",
        "\n",
        "1. Importa Matplotlib y Seaborn utilizando la convención de nomenclatura estándar."
      ]
    },
    {
      "cell_type": "code",
      "metadata": {},
      "source": [
        "# Import Matplotlib and Seaborn\n",
        "import matplotlib.pyplot as plt\n",
        "import seaborn as sns"
      ],
      "execution_count": null,
      "outputs": []
    },
    {
      "cell_type": "markdown",
      "metadata": {},
      "source": [
        "2. Crea un gráfico de dispersión de GDP (`gdp`) frente al número de teléfonos por cada 1000 personas (`phones`)."
      ]
    },
    {
      "cell_type": "code",
      "metadata": {},
      "source": [
        "# Create scatterplot with GDP on x-axis and number of phones on the y-axis\n",
        "sns.scatterplot(x=gdp, y=phones)\n",
        "plt.show()"
      ],
      "execution_count": null,
      "outputs": []
    },
    {
      "cell_type": "markdown",
      "metadata": {},
      "source": [
        "3. Combina el diagrama de dispersión para que muestre el porcentaje de la población que sabe leer y escribir (`percent_literate`) en el eje y."
      ]
    },
    {
      "cell_type": "code",
      "metadata": {},
      "source": [
        "sns.scatterplot(x=gdp, y=percent_literate)\n",
        "plt.show()"
      ],
      "execution_count": null,
      "outputs": []
    },
    {
      "cell_type": "markdown",
      "metadata": {},
      "source": [
        "Aunque este gráfico no muestra una relación lineal entre el PIB y el porcentaje de alfabetización, los países con un PIB más bajo parecen tener más probabilidades de tener un porcentaje menor de la población que puede leer y escribir.\n",
        "\n",
        "\n",
        "### Hacer un gráfico de recuento con una lista\n",
        "\n",
        "En el ejercicio anterior, exploramos un conjunto de datos que contienen información sobre 227 países. Exploremos más a fondo estos dato: concretamente, ¿cuántos países hay en cada región del mundo?\n",
        "\n",
        "Para ello, tendremos que utilizar un gráfico de recuento. Los gráficos de recuento toman una lista categórica y devuelven barras que representan el número de entradas de la lista por categoría. Puedes crear una aquí utilizando una lista de regiones para cada país, que es uva variable llamada `region`.\n"
      ]
    },
    {
      "cell_type": "code",
      "metadata": {},
      "source": [
        "# Se convierte la columna Region en lista y se quitan los espacios\n",
        "region = df['Region'].tolist()\n",
        "region = [item.strip() for item in region]"
      ],
      "execution_count": null,
      "outputs": []
    },
    {
      "cell_type": "markdown",
      "metadata": {},
      "source": [
        "#### Instrucciones\n",
        "\n",
        "- Importa Matplotlib y Seaborn utilizando las convenciones de nomenclatura estándar.\n",
        "- Utiliza Seaborn para crear un gráfico de recuento con `region` en el eje y.\n",
        "- Visualiza el gráfico"
      ]
    },
    {
      "cell_type": "code",
      "metadata": {},
      "source": [
        "# Import Matplotlib and Seaborn\n",
        "import matplotlib.pyplot as plt\n",
        "import seaborn as sns\n",
        "\n",
        "# Create count plot with region on the y-axis\n",
        "sns.countplot(y=region)\n",
        "\n",
        "# Show plot\n",
        "plt.show()"
      ],
      "execution_count": null,
      "outputs": []
    },
    {
      "cell_type": "markdown",
      "metadata": {},
      "source": [
        "África Subsahariana contiene la mayoría de los países en esta lista.\n",
        "\n",
        "\n",
        "## Utilizar pandas con Seaborn\n",
        "\n",
        "- Qué es Pandas?\n",
        "    - Librería de Python para análisis de datos.\n",
        "    - Puede leer conjunto de datos de múltiples tipos de archivos. Por ejemplo csv, txt.\n",
        "    - El conjunto de datos toma la forma de objeto `DataFrame`.\n",
        "\n",
        "- Trabajando con DataFrames"
      ]
    },
    {
      "cell_type": "code",
      "metadata": {},
      "source": [
        "#| echo: true\n",
        "#| eval: false\n",
        "import pandas as pd\n",
        "df = pd.read_csv('masculinity.csv')\n",
        "df.head()"
      ],
      "execution_count": null,
      "outputs": []
    },
    {
      "cell_type": "markdown",
      "metadata": {},
      "source": [
        "- Usando DataFrames con countplot()"
      ]
    },
    {
      "cell_type": "code",
      "metadata": {},
      "source": [
        "#| echo: true\n",
        "#| eval: false\n",
        "import pandas as pd\n",
        "import matplotlib.pyplot as plt\n",
        "import seaborn as sns\n",
        "\n",
        "df = pd.read_csv('masculinity.csv')\n",
        "sns.countplot(x='how_masucline', data=df)\n",
        "plt.show()"
      ],
      "execution_count": null,
      "outputs": []
    },
    {
      "cell_type": "markdown",
      "metadata": {},
      "source": [
        "### Datos \"ordenados\" frente a datos \"desordenados\"\n",
        "\n",
        "Aquí tenemos un conjunto de datos que muestra de una encuesta a niños sobre sus animales favoritos. Pros, ¿Podemos utilizar este conjunto de datos tal cual con Seaborn? Vamos a utilizar pandas para importar el archivo csv con los datos recogidos en la encuestra y determinar si está ordenado, lo cual es esencial para que funcione bien con Seaborn.\n",
        "\n",
        "Para empezar, se ha asignado la tura del archivo csv a la variable `csv_filepath`.\n",
        "\n",
        "#### Instrucciones\n",
        "\n",
        "1. \n",
        "- Lee el archivo csv situado en `csv_filepath` en un DataFrame llamado `df`.\n",
        "- Imprime la cabecera de `df` para mostrar las cinco primeras filas.\n"
      ]
    },
    {
      "cell_type": "code",
      "metadata": {},
      "source": [
        "csv_filepath = 'https://assets.datacamp.com/production/repositories/3996/datasets/7ac19e11cf7ed61205ffe8da5208794b8e2a5086/1.2.1_example_csv.csv'"
      ],
      "execution_count": null,
      "outputs": []
    },
    {
      "cell_type": "code",
      "metadata": {},
      "source": [
        "# Import pandas\n",
        "import pandas as pd\n",
        "\n",
        "# Create a DataFrame from csv file\n",
        "df = pd.read_csv(csv_filepath)\n",
        "\n",
        "# Print the head of df\n",
        "print(df.head())"
      ],
      "execution_count": null,
      "outputs": []
    },
    {
      "cell_type": "markdown",
      "metadata": {},
      "source": [
        "2. **Pregunta**\n",
        "\n",
        "Visualiza las cinco primeras filas del DataFrame `df`. ¿Está ordenado? ¿Por qué si o por qué no?\n",
        "\n",
        "**Respuestas posibles**\n",
        "\n",
        "- [ ] Si, porque no hay erratas ni faltan valores.\n",
        "- [ ] Si, porque está vien organizado y es fácil de leer.\n",
        "- [X] No, porque una misma columna contiene distintos tipos de formación.\n",
        "\n",
        "\n",
        "### Hacer un gráfico de recuento con un DataFrame\n",
        "\n",
        "En este ejercicio examinaremos las respuestas a una encuesta enviada a los jóvenes. Nuestra pregunta principal aquí es: ¿cuántos jóvenes encuestados afirman tener miedo a las arañas? Se pidió a los participantes en la encuesta que estuvieran de acuerdo o en desacuerdo con la afirmación \"Tengo miedo a las arañas\". Las respuestas varían de 1 a 5, donde 1 es \"Totalmente en desacuerdo\" y 5 es \"Totalmente de acuerdo\".\n",
        "\n",
        "Para empezar, la ruta del archivo csv con los datos de la encuesta se ha asignado a la variable `csv_filepath`.\n",
        "\n",
        "#### Instrucciones\n",
        "\n",
        "- Importa Matplotlib, pandas y Seaborn utilizando los nombres estándar. \n",
        "- Crea un DataFrame llamado `df` a partir del archivo csv situado en `csv_filepath`.\n",
        "- Utilizando la función `countplot()` con los argumentos `x=` y `data=` para crear un gráfico de recuento con los valores de la columna `\"Spiders\"` en el eje x.\n",
        "- Visualiza el gráfico."
      ]
    },
    {
      "cell_type": "code",
      "metadata": {},
      "source": [
        "csv_filepath = './data/young-people-survey-responses.csv'"
      ],
      "execution_count": null,
      "outputs": []
    },
    {
      "cell_type": "code",
      "metadata": {},
      "source": [
        "# Import Matplotlib, pandas and Seaborn\n",
        "import pandas as pd\n",
        "import matplotlib.pyplot as plt\n",
        "import seaborn as sns\n",
        "\n",
        "# Create a DataFrame from csv file\n",
        "df = pd.read_csv(csv_filepath)\n",
        "\n",
        "# Create a countplot with \"Spiders\" on the x-axis\n",
        "sns.countplot(x='Spiders', data=df)\n",
        "\n",
        "# Display the plot\n",
        "plt.show()"
      ],
      "execution_count": null,
      "outputs": []
    },
    {
      "cell_type": "markdown",
      "metadata": {},
      "source": [
        "Este gráfico nos muestra que la gran mayoría de los jóvenes informaron no tener miedo a las arañas."
      ]
    }
  ],
  "metadata": {
    "kernelspec": {
      "name": "python3",
      "language": "python",
      "display_name": "Python 3 (ipykernel)",
      "path": "C:\\Users\\Edwin Reyes\\AppData\\Local\\Programs\\Python\\Python313\\share\\jupyter\\kernels\\python3"
    }
  },
  "nbformat": 4,
  "nbformat_minor": 4
}