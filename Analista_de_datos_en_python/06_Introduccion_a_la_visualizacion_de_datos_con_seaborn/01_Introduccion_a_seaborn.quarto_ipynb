{
  "cells": [
    {
      "cell_type": "markdown",
      "metadata": {},
      "source": [
        "---\n",
        "title: \"Introducción a Seaborn\"\n",
        "author: \"Edwin John Fredy Reyes Aguirre\"\n",
        "date: today\n",
        "toc: true\n",
        "toc-title: \"Contenido\"\n",
        "---\n",
        "\n",
        "\n",
        "Qué es Seaborn y cuándo debes utilizarlo? En este capítulo, ¡Lo descubrirás! Además, aprenderás a crear gráficos de dispersión y de recuento tanto con listas de datos como con DataFrames de pandas. También conocerás una de las grandes ventajas de utilizar Seaborn: la posibilidad de añadir fácilmente una tercera varible a tus gráficos utilizando el color para representar diferentes subgrupos.\n",
        "\n",
        "## Introducción a Seaborn\n",
        "\n",
        "- Qué es Seaborn?\n",
        "    - Puthon es una librería de visualización de datos\n",
        "    - Crea facilmente los tipos más comunes de gráficos\n",
        "\n",
        "- Por qué es útil Seaborn?\n",
        "    - Exploración de datos\n",
        "    - Comunicación de resultados\n",
        "\n",
        "- Ventajas de Seaborn\n",
        "    - Fácil de usar\n",
        "    - Trabaja bien con estructuras de datos de `pandas`\n",
        "    - Construído sobre `matplotlib`\n",
        "\n",
        "- Cómo iniciar?\n"
      ],
      "id": "e1245f6a"
    },
    {
      "cell_type": "code",
      "metadata": {},
      "source": [
        "# | echo: true\n",
        "# | eval: false\n",
        "import seaborn as sns  # Samuel Norman Seaborn (sns)\n",
        "import matplotlib.pyplot as plt"
      ],
      "id": "631a14d4",
      "execution_count": null,
      "outputs": []
    },
    {
      "cell_type": "markdown",
      "metadata": {},
      "source": [
        "- Ejemplo 1: Scatter plot\n"
      ],
      "id": "881e8dfb"
    },
    {
      "cell_type": "code",
      "metadata": {},
      "source": [
        "import seaborn as sns\n",
        "import matplotlib.pyplot as plt\n",
        "height = [62, 64, 69, 75, 66,\n",
        "          68, 65, 71, 76, 73]\n",
        "weight = [120, 136, 148, 175, 137,\n",
        "          165, 154, 172, 200, 187]\n",
        "sns.scatterplot(x=height, y=weight)\n",
        "plt.show()"
      ],
      "id": "87f34d10",
      "execution_count": null,
      "outputs": []
    },
    {
      "cell_type": "markdown",
      "metadata": {},
      "source": [
        "- Ejemplo 2: Crear un count plot\n"
      ],
      "id": "5a63cc1a"
    },
    {
      "cell_type": "code",
      "metadata": {},
      "source": [
        "import seaborn as sns\n",
        "import matplotlib.pyplot as plt\n",
        "gender = ['Female', 'Female',\n",
        "          'Female', 'Female',\n",
        "          'Male', 'Male', 'Male',\n",
        "          'Male', 'Male', 'Male']\n",
        "sns.countplot(x=gender)"
      ],
      "id": "a6d25437",
      "execution_count": null,
      "outputs": []
    },
    {
      "cell_type": "markdown",
      "metadata": {},
      "source": [
        "### Hacer un gráfico de dispersión con listas\n",
        "\n",
        "En este ejecicio, utilizaremos un conjunto de datos que contiene información sobre 227 países. Este conjunto de datos contiene mucha información interesante sobre cada país, como sus tasas de natalidad y mortalidad y su producto interno bruto (GDP). GDP es el valor de todos los bienes y servicios producidas en un año, expresado en dólares por persona.\n",
        "\n",
        "Hemos creado tres listas de datos a partir de este conjunto de datos para que puedas empezar. `gdp` es una lista que contiene el valor de GDP por país, expresado en dólares por persona. `phones` es una lista con el número de teléfonos móviles por cada 1000 personas en este país. Por último `percent_literate` es una lista que contiene el porcentaje de la población de cada país que sabe leer y escribir.\n"
      ],
      "id": "c7de7131"
    },
    {
      "cell_type": "code",
      "metadata": {},
      "source": [
        "import pandas as pd\n",
        "\n",
        "ruta = './data/countries-of-the-world.csv'\n",
        "df = pd.read_csv(ruta)\n",
        "df.head()"
      ],
      "id": "5c2b5ddb",
      "execution_count": null,
      "outputs": []
    },
    {
      "cell_type": "code",
      "metadata": {},
      "source": [
        "# Convertir a numerico los datos tipo object\n",
        "df['Phones (per 1000)'] = df['Phones (per 1000)'].str.replace(',', '.').astype(float)\n",
        "df['Literacy (%)'] = df['Literacy (%)'].str.replace(',', '.').astype(float)\n",
        "\n",
        "# Crear las listas\n",
        "gdp = df['GDP ($ per capita)'].tolist()\n",
        "phones = df['Phones (per 1000)'].tolist()\n",
        "percent_literate = df['Literacy (%)'].tolist()"
      ],
      "id": "b5404334",
      "execution_count": null,
      "outputs": []
    },
    {
      "cell_type": "markdown",
      "metadata": {},
      "source": [
        "#### Instrucciones\n",
        "\n",
        "1. Importa Matplotlib y Seaborn utilizando la convención de nomenclatura estándar.\n"
      ],
      "id": "f78cb084"
    },
    {
      "cell_type": "code",
      "metadata": {},
      "source": [
        "# Import Matplotlib and Seaborn\n",
        "import matplotlib.pyplot as plt\n",
        "import seaborn as sns"
      ],
      "id": "de9f5cd5",
      "execution_count": null,
      "outputs": []
    },
    {
      "cell_type": "markdown",
      "metadata": {},
      "source": [
        "2. Crea un gráfico de dispersión de GDP (`gdp`) frente al número de teléfonos por cada 1000 personas (`phones`).\n"
      ],
      "id": "a516de39"
    },
    {
      "cell_type": "code",
      "metadata": {},
      "source": [
        "# Create scatterplot with GDP on x-axis and number of phones on the y-axis\n",
        "sns.scatterplot(x=gdp, y=phones)\n",
        "plt.show()"
      ],
      "id": "caf5d39d",
      "execution_count": null,
      "outputs": []
    },
    {
      "cell_type": "markdown",
      "metadata": {},
      "source": [
        "3. Combina el diagrama de dispersión para que muestre el porcentaje de la población que sabe leer y escribir (`percent_literate`) en el eje y.\n"
      ],
      "id": "4f407c9f"
    },
    {
      "cell_type": "code",
      "metadata": {},
      "source": [
        "sns.scatterplot(x=gdp, y=percent_literate)\n",
        "plt.show()"
      ],
      "id": "39dfed17",
      "execution_count": null,
      "outputs": []
    },
    {
      "cell_type": "markdown",
      "metadata": {},
      "source": [
        "Aunque este gráfico no muestra una relación lineal entre el PIB y el porcentaje de alfabetización, los países con un PIB más bajo parecen tener más probabilidades de tener un porcentaje menor de la población que puede leer y escribir.\n",
        "\n",
        "\n",
        "### Hacer un gráfico de recuento con una lista\n",
        "\n",
        "En el ejercicio anterior, exploramos un conjunto de datos que contienen información sobre 227 países. Exploremos más a fondo estos dato: concretamente, ¿cuántos países hay en cada región del mundo?\n",
        "\n",
        "Para ello, tendremos que utilizar un gráfico de recuento. Los gráficos de recuento toman una lista categórica y devuelven barras que representan el número de entradas de la lista por categoría. Puedes crear una aquí utilizando una lista de regiones para cada país, que es uva variable llamada `region`.\n"
      ],
      "id": "edd8be1b"
    },
    {
      "cell_type": "code",
      "metadata": {},
      "source": [
        "# Se convierte la columna Region en lista y se quitan los espacios\n",
        "region = df['Region'].tolist()\n",
        "region = [item.strip() for item in region]"
      ],
      "id": "9c7e0d46",
      "execution_count": null,
      "outputs": []
    },
    {
      "cell_type": "markdown",
      "metadata": {},
      "source": [
        "#### Instrucciones\n",
        "\n",
        "- Importa Matplotlib y Seaborn utilizando las convenciones de nomenclatura estándar.\n",
        "- Utiliza Seaborn para crear un gráfico de recuento con `region` en el eje y.\n",
        "- Visualiza el gráfico\n"
      ],
      "id": "c630286e"
    },
    {
      "cell_type": "code",
      "metadata": {},
      "source": [
        "# Import Matplotlib and Seaborn\n",
        "import matplotlib.pyplot as plt\n",
        "import seaborn as sns\n",
        "\n",
        "# Create count plot with region on the y-axis\n",
        "sns.countplot(y=region)\n",
        "\n",
        "# Show plot\n",
        "plt.show()"
      ],
      "id": "f2c3acf9",
      "execution_count": null,
      "outputs": []
    },
    {
      "cell_type": "markdown",
      "metadata": {},
      "source": [
        "África Subsahariana contiene la mayoría de los países en esta lista.\n",
        "\n",
        "\n",
        "## Utilizar pandas con Seaborn\n",
        "\n",
        "- Qué es Pandas?\n",
        "    - Librería de Python para análisis de datos.\n",
        "    - Puede leer conjunto de datos de múltiples tipos de archivos. Por ejemplo csv, txt.\n",
        "    - El conjunto de datos toma la forma de objeto `DataFrame`.\n",
        "\n",
        "- Trabajando con DataFrames\n"
      ],
      "id": "71431582"
    },
    {
      "cell_type": "code",
      "metadata": {},
      "source": [
        "#| echo: true\n",
        "#| eval: false\n",
        "import pandas as pd\n",
        "df = pd.read_csv('masculinity.csv')\n",
        "df.head()"
      ],
      "id": "62dc43d4",
      "execution_count": null,
      "outputs": []
    },
    {
      "cell_type": "markdown",
      "metadata": {},
      "source": [
        "- Usando DataFrames con countplot()\n"
      ],
      "id": "f9d6cb87"
    },
    {
      "cell_type": "code",
      "metadata": {},
      "source": [
        "#| echo: true\n",
        "#| eval: false\n",
        "import pandas as pd\n",
        "import matplotlib.pyplot as plt\n",
        "import seaborn as sns\n",
        "\n",
        "df = pd.read_csv('masculinity.csv')\n",
        "sns.countplot(x='how_masucline', data=df)\n",
        "plt.show()"
      ],
      "id": "882d6568",
      "execution_count": null,
      "outputs": []
    },
    {
      "cell_type": "markdown",
      "metadata": {},
      "source": [
        "### Datos \"ordenados\" frente a datos \"desordenados\"\n",
        "\n",
        "Aquí tenemos un conjunto de datos que muestra de una encuesta a niños sobre sus animales favoritos. Pros, ¿Podemos utilizar este conjunto de datos tal cual con Seaborn? Vamos a utilizar pandas para importar el archivo csv con los datos recogidos en la encuestra y determinar si está ordenado, lo cual es esencial para que funcione bien con Seaborn.\n",
        "\n",
        "Para empezar, se ha asignado la tura del archivo csv a la variable `csv_filepath`.\n",
        "\n",
        "#### Instrucciones\n",
        "\n",
        "1. \n",
        "- Lee el archivo csv situado en `csv_filepath` en un DataFrame llamado `df`.\n",
        "- Imprime la cabecera de `df` para mostrar las cinco primeras filas.\n"
      ],
      "id": "093de576"
    },
    {
      "cell_type": "code",
      "metadata": {},
      "source": [
        "csv_filepath = './data/1.2.1_example_csv.csv'"
      ],
      "id": "97205614",
      "execution_count": null,
      "outputs": []
    },
    {
      "cell_type": "code",
      "metadata": {},
      "source": [
        "# Import pandas\n",
        "import pandas as pd\n",
        "\n",
        "# Create a DataFrame from csv file\n",
        "df = pd.read_csv(csv_filepath)\n",
        "\n",
        "# Print the head of df\n",
        "print(df.head())"
      ],
      "id": "da0a7a58",
      "execution_count": null,
      "outputs": []
    },
    {
      "cell_type": "markdown",
      "metadata": {},
      "source": [
        "2. **Pregunta**\n",
        "\n",
        "Visualiza las cinco primeras filas del DataFrame `df`. ¿Está ordenado? ¿Por qué si o por qué no?\n",
        "\n",
        "**Respuestas posibles**\n",
        "\n",
        "- [ ] Si, porque no hay erratas ni faltan valores.\n",
        "- [ ] Si, porque está vien organizado y es fácil de leer.\n",
        "- [X] No, porque una misma columna contiene distintos tipos de formación.\n",
        "\n",
        "\n",
        "### Hacer un gráfico de recuento con un DataFrame\n",
        "\n",
        "En este ejercicio examinaremos las respuestas a una encuesta enviada a los jóvenes. Nuestra pregunta principal aquí es: ¿cuántos jóvenes encuestados afirman tener miedo a las arañas? Se pidió a los participantes en la encuesta que estuvieran de acuerdo o en desacuerdo con la afirmación \"Tengo miedo a las arañas\". Las respuestas varían de 1 a 5, donde 1 es \"Totalmente en desacuerdo\" y 5 es \"Totalmente de acuerdo\".\n",
        "\n",
        "Para empezar, la ruta del archivo csv con los datos de la encuesta se ha asignado a la variable `csv_filepath`.\n",
        "\n",
        "#### Instrucciones\n",
        "\n",
        "- Importa Matplotlib, pandas y Seaborn utilizando los nombres estándar. \n",
        "- Crea un DataFrame llamado `df` a partir del archivo csv situado en `csv_filepath`.\n",
        "- Utilizando la función `countplot()` con los argumentos `x=` y `data=` para crear un gráfico de recuento con los valores de la columna `\"Spiders\"` en el eje x.\n",
        "- Visualiza el gráfico.\n"
      ],
      "id": "ac0bf41d"
    },
    {
      "cell_type": "code",
      "metadata": {},
      "source": [
        "csv_filepath = './data/young-people-survey-responses.csv'"
      ],
      "id": "9426d2e3",
      "execution_count": null,
      "outputs": []
    },
    {
      "cell_type": "code",
      "metadata": {},
      "source": [
        "# Import Matplotlib, pandas and Seaborn\n",
        "import pandas as pd\n",
        "import matplotlib.pyplot as plt\n",
        "import seaborn as sns\n",
        "\n",
        "# Create a DataFrame from csv file\n",
        "df = pd.read_csv(csv_filepath)\n",
        "\n",
        "# Create a countplot with \"Spiders\" on the x-axis\n",
        "sns.countplot(x='Spiders', data=df)\n",
        "\n",
        "# Display the plot\n",
        "plt.show()"
      ],
      "id": "accc3999",
      "execution_count": null,
      "outputs": []
    },
    {
      "cell_type": "markdown",
      "metadata": {},
      "source": [
        "Este gráfico nos muestra que la gran mayoría de los jóvenes informaron no tener miedo a las arañas.\n",
        "\n",
        "\n",
        "## Añadir una tercera variable con el tono\n",
        "\n",
        "Para probarlos usaremos el siguiente Dataset:\n",
        "\n",
        "- Dataset Tips\n"
      ],
      "id": "b27a816c"
    },
    {
      "cell_type": "code",
      "metadata": {},
      "source": [
        "import pandas as pd\n",
        "import seaborn as sns\n",
        "tips = pd.read_csv('./data/tips.csv')\n",
        "tips.head()"
      ],
      "id": "0c43a642",
      "execution_count": null,
      "outputs": []
    },
    {
      "cell_type": "markdown",
      "metadata": {},
      "source": [
        "- Un Scatter plot básico\n"
      ],
      "id": "4036ba67"
    },
    {
      "cell_type": "code",
      "metadata": {},
      "source": [
        "import matplotlib.pyplot as plt\n",
        "import seaborn as sns\n",
        "sns.scatterplot(x='total_bill',\n",
        "                y='tip',\n",
        "                data=tips)\n",
        "\n",
        "plt.show()"
      ],
      "id": "2a6d39cf",
      "execution_count": null,
      "outputs": []
    },
    {
      "cell_type": "markdown",
      "metadata": {},
      "source": [
        "- Un Scatter plot con hue\n"
      ],
      "id": "3a98aa82"
    },
    {
      "cell_type": "code",
      "metadata": {},
      "source": [
        "import matplotlib.pyplot as plt\n",
        "import seaborn as sns\n",
        "sns.scatterplot(x='total_bill',\n",
        "                y='tip',\n",
        "                data=tips,\n",
        "                hue='smoker')\n",
        "\n",
        "plt.show()"
      ],
      "id": "dd10fea2",
      "execution_count": null,
      "outputs": []
    },
    {
      "cell_type": "markdown",
      "metadata": {},
      "source": [
        "- Configurando el orden del hue\n"
      ],
      "id": "96b1feec"
    },
    {
      "cell_type": "code",
      "metadata": {},
      "source": [
        "import matplotlib.pyplot as plt\n",
        "import seaborn as sns\n",
        "sns.scatterplot(x='total_bill',\n",
        "                y='tip',\n",
        "                data=tips,\n",
        "                hue='smoker',\n",
        "                hue_order=['Yes',\n",
        "                            'No'])\n",
        "\n",
        "plt.show()"
      ],
      "id": "86653ff1",
      "execution_count": null,
      "outputs": []
    },
    {
      "cell_type": "markdown",
      "metadata": {},
      "source": [
        "- Especificando los colores de hue\n"
      ],
      "id": "ae6a5889"
    },
    {
      "cell_type": "code",
      "metadata": {},
      "source": [
        "import matplotlib.pyplot as plt\n",
        "import seaborn as sns\n",
        "hue_colors = {'Yes': 'black',\n",
        "              'No': 'red'}\n",
        "sns.scatterplot(x='total_bill',\n",
        "                y='tip',\n",
        "                data=tips,\n",
        "                hue='smoker',\n",
        "                palette=hue_colors)\n",
        "\n",
        "plt.show()"
      ],
      "id": "30ebc92c",
      "execution_count": null,
      "outputs": []
    },
    {
      "cell_type": "markdown",
      "metadata": {},
      "source": [
        "- Usando hue con count plots\n"
      ],
      "id": "fda0a9b5"
    },
    {
      "cell_type": "code",
      "metadata": {},
      "source": [
        "import matplotlib.pyplot as plt\n",
        "import seaborn as sns\n",
        "\n",
        "sns.countplot(x='smoker',\n",
        "              data=tips,\n",
        "              hue='sex')\n",
        "\n",
        "plt.show()"
      ],
      "id": "5883f8be",
      "execution_count": null,
      "outputs": []
    },
    {
      "cell_type": "markdown",
      "metadata": {},
      "source": [
        "### Gráficos de tono y dispersión\n",
        "\n",
        "En el video anterior aprendimos como `hue` nos permite hacer fácilmente subgrupos dentro de los gráficos de Seaborn. Vamos a probarlo explorando los datos de los alumnos de secundaria. Tenemos mucha información sobre cada alumno, como su edad, dónde vive, sus hábitos de estudio y sus actividades extraescolares.\n",
        "\n",
        "Por ahora, nos fijaremos en la relación entgre el número de faltas que tienen en la escuela y su calificación final en el curso, segmentada por el lugar donde vive el alumno (zona rural frente a zona urbana).\n"
      ],
      "id": "f9db2a53"
    },
    {
      "cell_type": "code",
      "metadata": {},
      "source": [
        "student_data = pd.read_csv('./data/student-alcohol-consumption.csv', index_col=0)\n",
        "student_data.head()"
      ],
      "id": "456d95dd",
      "execution_count": null,
      "outputs": []
    },
    {
      "cell_type": "markdown",
      "metadata": {},
      "source": [
        "#### Instrucciones\n",
        "\n",
        "1. Crea un gráfico de dispersión con `absensces` en el eje x y la calificación final (`\"G3\"`) en el eje y utilizando el DataFrame `student_data`. Colorea los puntos del gráfico en función de `\"location\"` (urbano vs. rural)\n"
      ],
      "id": "45fbafea"
    },
    {
      "cell_type": "code",
      "metadata": {},
      "source": [
        "# Import Matplotlib and Seaborn\n",
        "import matplotlib.pyplot as plt\n",
        "import seaborn as sns\n",
        "\n",
        "# Create a scatter plot of absences vs. final grade\n",
        "sns.scatterplot(x='absences', \n",
        "                y='G3',\n",
        "                data=student_data,\n",
        "                hue='location')\n",
        "\n",
        "# Show plot\n",
        "plt.show()"
      ],
      "id": "6fb282bc",
      "execution_count": null,
      "outputs": []
    },
    {
      "cell_type": "markdown",
      "metadata": {},
      "source": [
        "2. Haz que `rural` aparezca antes que `urban` en la leyenda del gráfico.\n"
      ],
      "id": "f50a0736"
    },
    {
      "cell_type": "code",
      "metadata": {},
      "source": [
        "# Import Matplotlib and Seaborn\n",
        "import matplotlib.pyplot as plt\n",
        "import seaborn as sns\n",
        "\n",
        "# Change the legend order in the scatter plot\n",
        "sns.scatterplot(x='absences', \n",
        "                y='G3',\n",
        "                data=student_data,\n",
        "                hue='location',\n",
        "                hue_order=['Rural', 'Urban'])\n",
        "# Show plot\n",
        "plt.show()"
      ],
      "id": "ae92f3fe",
      "execution_count": null,
      "outputs": []
    },
    {
      "cell_type": "markdown",
      "metadata": {},
      "source": [
        "Los estudiantes con más ausencias tienden a tener calificaciones más bajas tanto en áreas rurales como urbanas.\n",
        "\n",
        "\n",
        "### Gráficos de tono y recuento\n",
        "\n",
        "Sigamos explorando nuestro conjunto de datos de alumnos de secundaria examinando una nueva variable. La columna `school` indica las iniciales de la escuela a la que asistió al alumno: \"GP\" o \"MS\".\n",
        "\n",
        "En el último ejercicio, creamos un gráfico de dispersión en el que los puntos del gráfico se coloreaban en función de si el alumno vivía en zona urbana o rural. ¿Cuántos alumnos viven en zonas urbanas frente a zonas rurales, y varía esto en función de la escuela a la que asiste el alumno?\n",
        "Hagamos un gráfico de recuento con subgrupos para averiguarlo.\n",
        "\n",
        "#### Instrucciones\n",
        "\n",
        "- Rellena el diccionario `palette_colors` para asignar el valor de ubicación `\"Rural\"` al color `\"green\"` y el valor de ubicación `\"Urban\"` al color `\"blue\"`.\n",
        "\n",
        "- Crea un gráfico de recuento con `\"school\"` en el eje x utilizando el DataFrame `student_data`.\n",
        "\n",
        "    - Añade subgrupos al gráfico, utilizando la variable `\"location\"`` y utliliza el diccionario `palette_colors` para que los subgrupos de ubicación sean verdes o azules.\n"
      ],
      "id": "bb65dfb0"
    },
    {
      "cell_type": "code",
      "metadata": {},
      "source": [
        "# Import Matplotlib and Seaborn\n",
        "import matplotlib.pyplot as plt\n",
        "import seaborn as sns\n",
        "\n",
        "# Create a dictionary mapping subgroup values to colors\n",
        "palette_colors = {'Rural': 'green',\n",
        "                  'Urban': 'blue'}\n",
        "\n",
        "# Create a count plot of school with location subgroups\n",
        "sns.countplot(x='school',\n",
        "              data=student_data,\n",
        "              hue='location',\n",
        "              palette=palette_colors)\n",
        "\n",
        "# Display plot\n",
        "plt.show()"
      ],
      "id": "14d0b985",
      "execution_count": null,
      "outputs": []
    },
    {
      "cell_type": "markdown",
      "metadata": {},
      "source": [
        "Los estudiantes en GP tienden a venir de una ubicación urbana, pero los estudiantes en MS están más equitativamente divididos."
      ],
      "id": "ce0d55b5"
    }
  ],
  "metadata": {
    "kernelspec": {
      "name": "venv",
      "language": "python",
      "display_name": "Python (venv)",
      "path": "/Users/edwinmacmini/Library/Jupyter/kernels/venv"
    }
  },
  "nbformat": 4,
  "nbformat_minor": 5
}